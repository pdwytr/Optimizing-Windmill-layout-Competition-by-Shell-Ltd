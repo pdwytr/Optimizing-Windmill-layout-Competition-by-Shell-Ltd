{
 "cells": [
  {
   "cell_type": "code",
   "execution_count": 1,
   "metadata": {},
   "outputs": [],
   "source": [
    "import numpy as np\n",
    "import pandas as pd\n",
    "import random\n",
    "# Module List\n",
    "import numpy  as np\n",
    "import pandas as pd    \n",
    "from   numba  import njit                      # For some speed gains                    \n",
    "from   math   import radians as DegToRad       # Degrees to radians Conversion\n",
    "\n",
    "from shapely.geometry import Point             # Used in constraint checking\n",
    "from shapely.geometry.polygon import Polygon\n",
    "\n",
    "from tqdm import tqdm                          # For Progressbar\n"
   ]
  },
  {
   "cell_type": "markdown",
   "metadata": {},
   "source": [
    "# Genetic Algorithm for Turbine Points Layout\n",
    "1. Gene for this problem would be x,y co-ordinates of one turbine.\n",
    "2. Chromosome would be 50 x,y co-ordinates for 50 turbines(farmLayout design).\n",
    "3. There are two constraints in this problem.They are Proximity and perimeter constraints. \n",
    "4. Total Aep Value would be calculated based on each chromosome and elite population is found.\n",
    "5. Crossover Strategy: it takes top 4 layouts provided by sample elite population function as input and randomly picks some 50 points out of them and creates one child layout and adds it to the sample elite population.so that if the child is better than the parents then it will be picked as top layout if not parents will be picked.\n",
    "6. Mutation Strategy:it takes top 4 layout provided by sample elite population function as input and selects one random layout out of the 4 layouts. from that one layout it retains 30 points and randomly generates 20 new points and adds to it to create one mutated child of 50 points and adds this child to the top 4 layouts.so if the mutated child is better than the parent it will be picked up as top layout if not our sample elite population will be retained in the next iteration.\n"
   ]
  },
  {
   "cell_type": "code",
   "execution_count": 2,
   "metadata": {},
   "outputs": [],
   "source": [
    "def fn_chromosome():\n",
    "    flag=0\n",
    "    temp=np.zeros([1,2])\n",
    "    p=np.zeros([5000,2])\n",
    "    p[0][0],p[0][1]=50,50\n",
    "    temp2=1\n",
    "\n",
    "    p_df = pd.DataFrame()\n",
    "    for i in range(1,5000):\n",
    "    \n",
    "        flag=0\n",
    "        for j in range(0,2):\n",
    "            temp[0][j] = random.randrange(50,  3950)\n",
    "        #print(temp[0])\n",
    "        for k in range(0,temp2):\n",
    "            if np.linalg.norm(temp[0] - p[k]) <410:\n",
    "                flag = 1\n",
    "        \n",
    "        \n",
    "        if flag == 0:\n",
    "            p[temp2] = temp[0] \n",
    "            temp2 = temp2+1\n",
    "            if temp2 == 50:\n",
    "                p_df = pd.DataFrame(p[0:50],columns = ['x','y'])\n",
    "                break\n",
    "    #p_df = pd.DataFrame(p[0:temp2],columns = ['x','y'])\n",
    "                \n",
    "                    \n",
    "            #p[i] = temp[0]\n",
    "            #p_df = pd.DataFrame(p,columns = ['x','y'])\n",
    "            #p_df = p_df[(p_df['x']!=0)&(p_df['y']!=0)]\n",
    "        #if p_df.shape[0] ==50:\n",
    "        \n",
    "            \n",
    "   \n",
    "\n",
    "    \n",
    "    return p_df"
   ]
  },
  {
   "cell_type": "code",
   "execution_count": 5,
   "metadata": {},
   "outputs": [],
   "source": [
    "def fn_generate_initial_population(population_size):\n",
    "    init_population_list = []\n",
    "    init_population_list = [fn_chromosome() for _ in range(population_size)]\n",
    "    return init_population_list"
   ]
  },
  {
   "cell_type": "code",
   "execution_count": 56,
   "metadata": {},
   "outputs": [
    {
     "data": {
      "text/plain": [
       "[         x       y\n",
       " 0     50.0    50.0\n",
       " 1   3110.0  2879.0\n",
       " 2   2923.0  3931.0\n",
       " 3   3291.0  1096.0\n",
       " 4   3762.0  2329.0\n",
       " 5    242.0  1256.0\n",
       " 6   3903.0  3314.0\n",
       " 7   2564.0   783.0\n",
       " 8   3669.0  1319.0\n",
       " 9   1390.0  3693.0\n",
       " 10  1631.0   883.0\n",
       " 11  2086.0  1156.0\n",
       " 12  3201.0  2018.0\n",
       " 13  3675.0   762.0\n",
       " 14   408.0  2823.0\n",
       " 15  1533.0   274.0\n",
       " 16  1968.0    50.0\n",
       " 17  2016.0  3638.0\n",
       " 18  2597.0  2371.0\n",
       " 19  2710.0  3515.0\n",
       " 20  2411.0  2944.0\n",
       " 21  2904.0  1423.0\n",
       " 22  1301.0  2693.0\n",
       " 23  3013.0   349.0\n",
       " 24   721.0  1312.0\n",
       " 25  3355.0   116.0\n",
       " 26   273.0  3291.0\n",
       " 27  1560.0  1687.0\n",
       " 28  2174.0   450.0\n",
       " 29  2380.0  1907.0\n",
       " 30   795.0  3161.0\n",
       " 31  3305.0  2420.0\n",
       " 32   143.0   747.0\n",
       " 33  3266.0  3672.0\n",
       " 34  3754.0   294.0\n",
       " 35   943.0  2034.0\n",
       " 36   443.0   313.0\n",
       " 37  1674.0  3344.0\n",
       " 38  1881.0  2085.0\n",
       " 39  1356.0  2201.0\n",
       " 40  1220.0   620.0\n",
       " 41   326.0  2028.0\n",
       " 42  3390.0  3280.0\n",
       " 43  1120.0   120.0\n",
       " 44  3538.0  2841.0\n",
       " 45   177.0  3776.0\n",
       " 46  1215.0  1426.0\n",
       " 47   825.0  2685.0\n",
       " 48  3803.0  1845.0\n",
       " 49  2556.0    98.0,\n",
       "          x       y\n",
       " 0     50.0    50.0\n",
       " 1   1755.0  2757.0\n",
       " 2   1303.0  3224.0\n",
       " 3   3460.0  2265.0\n",
       " 4    208.0  3088.0\n",
       " 5    634.0  1671.0\n",
       " 6   2697.0  2887.0\n",
       " 7    506.0   439.0\n",
       " 8   3211.0  3460.0\n",
       " 9   3715.0   764.0\n",
       " 10  1378.0  1726.0\n",
       " 11  3856.0  2436.0\n",
       " 12  3945.0    57.0\n",
       " 13  3690.0  3316.0\n",
       " 14  2328.0  1827.0\n",
       " 15  3915.0  2855.0\n",
       " 16  2063.0  3942.0\n",
       " 17   595.0  2345.0\n",
       " 18  1890.0    92.0\n",
       " 19  2360.0  2394.0\n",
       " 20   422.0  3464.0\n",
       " 21  2508.0  1005.0\n",
       " 22  3153.0   381.0\n",
       " 23   143.0  3853.0\n",
       " 24  1060.0  2002.0\n",
       " 25  1186.0   480.0\n",
       " 26  3298.0  1338.0\n",
       " 27   621.0  2989.0\n",
       " 28  1276.0   977.0\n",
       " 29  1851.0  1033.0\n",
       " 30  2275.0   600.0\n",
       " 31  1975.0  2212.0\n",
       " 32  3543.0  3869.0\n",
       " 33  1781.0  3581.0\n",
       " 34  1787.0  1816.0\n",
       " 35  1486.0  2315.0\n",
       " 36  3286.0  1840.0\n",
       " 37  3865.0  1163.0\n",
       " 38  2718.0  1505.0\n",
       " 39   205.0  2097.0\n",
       " 40  1051.0  2663.0\n",
       " 41   612.0  1191.0\n",
       " 42  2554.0   220.0\n",
       " 43  3128.0  2896.0\n",
       " 44  2899.0  2263.0\n",
       " 45  2203.0  3334.0\n",
       " 46   246.0   790.0\n",
       " 47  3215.0   814.0\n",
       " 48  1142.0  3670.0\n",
       " 49  2645.0  3777.0,\n",
       "          x       y\n",
       " 0     50.0    50.0\n",
       " 1   1918.0  2843.0\n",
       " 2   3391.0  2447.0\n",
       " 3   1287.0  1477.0\n",
       " 4   1082.0  1040.0\n",
       " 5    255.0   940.0\n",
       " 6   1839.0  2028.0\n",
       " 7   3152.0  1273.0\n",
       " 8    820.0  2050.0\n",
       " 9    280.0  3123.0\n",
       " 10   826.0  3279.0\n",
       " 11  1956.0  3308.0\n",
       " 12  2334.0  1955.0\n",
       " 13  3719.0  1316.0\n",
       " 14  2301.0  1509.0\n",
       " 15  2213.0   231.0\n",
       " 16  2125.0  3833.0\n",
       " 17  3395.0   120.0\n",
       " 18   599.0  3909.0\n",
       " 19  2562.0  2994.0\n",
       " 20  3779.0  3362.0\n",
       " 21  1385.0  3588.0\n",
       " 22  3816.0  2541.0\n",
       " 23  2544.0   928.0\n",
       " 24  2257.0  2431.0\n",
       " 25  1380.0  3029.0\n",
       " 26   278.0  1564.0\n",
       " 27   930.0   587.0\n",
       " 28   343.0  3559.0\n",
       " 29  1444.0   320.0\n",
       " 30   479.0  2448.0\n",
       " 31  3107.0  1715.0\n",
       " 32  2819.0  2506.0\n",
       " 33  3172.0  3465.0\n",
       " 34   639.0   285.0\n",
       " 35  1826.0  1565.0\n",
       " 36  1124.0  2607.0\n",
       " 37  1541.0  1030.0\n",
       " 38  3051.0   721.0\n",
       " 39  2459.0  3588.0\n",
       " 40  3813.0   249.0\n",
       " 41  2102.0   967.0\n",
       " 42  1577.0  2457.0\n",
       " 43  3568.0  1934.0\n",
       " 44   170.0   444.0\n",
       " 45   672.0  2828.0\n",
       " 46  3511.0  3722.0\n",
       " 47   645.0  1297.0\n",
       " 48  3595.0  2983.0\n",
       " 49  3641.0   756.0,\n",
       "          x       y\n",
       " 0     50.0    50.0\n",
       " 1   2247.0  2467.0\n",
       " 2   1554.0  2200.0\n",
       " 3   1757.0  3097.0\n",
       " 4   3594.0  3786.0\n",
       " 5   1145.0  3372.0\n",
       " 6   2901.0  3702.0\n",
       " 7    372.0  2966.0\n",
       " 8   2143.0  1877.0\n",
       " 9   2924.0  1287.0\n",
       " 10  2055.0  1396.0\n",
       " 11  1391.0  1229.0\n",
       " 12  1423.0  1730.0\n",
       " 13  3062.0  1684.0\n",
       " 14   650.0  2200.0\n",
       " 15   725.0  3270.0\n",
       " 16  2380.0  3530.0\n",
       " 17  1533.0   115.0\n",
       " 18  2888.0  2501.0\n",
       " 19   327.0   862.0\n",
       " 20  3408.0   985.0\n",
       " 21  3437.0  2706.0\n",
       " 22  1806.0   496.0\n",
       " 23  3923.0  1515.0\n",
       " 24   880.0  1018.0\n",
       " 25  1038.0   629.0\n",
       " 26  3893.0  2058.0\n",
       " 27  2573.0   920.0\n",
       " 28  2564.0   142.0\n",
       " 29   417.0  3547.0\n",
       " 30  1060.0  2774.0\n",
       " 31  3418.0  3339.0\n",
       " 32    74.0  1758.0\n",
       " 33  3415.0   125.0\n",
       " 34  3901.0   443.0\n",
       " 35   582.0   145.0\n",
       " 36   296.0  2450.0\n",
       " 37  1034.0   153.0\n",
       " 38  1785.0  3690.0\n",
       " 39   599.0  1588.0\n",
       " 40  2948.0  3239.0\n",
       " 41  2626.0  1607.0\n",
       " 42  2155.0   852.0\n",
       " 43  3232.0   557.0\n",
       " 44  2973.0    75.0\n",
       " 45  1426.0   794.0\n",
       " 46   102.0  3927.0\n",
       " 47   833.0  3696.0\n",
       " 48  3851.0  3232.0\n",
       " 49  3899.0  2520.0,\n",
       "          x       y\n",
       " 0     50.0    50.0\n",
       " 1    343.0  3843.0\n",
       " 2    208.0  1732.0\n",
       " 3   1109.0  3462.0\n",
       " 4   3303.0  2401.0\n",
       " 5   1918.0   370.0\n",
       " 6   1196.0  2729.0\n",
       " 7   2881.0  2422.0\n",
       " 8   2324.0  2200.0\n",
       " 9   1818.0  2302.0\n",
       " 10  2249.0  1275.0\n",
       " 11  2431.0  3445.0\n",
       " 12  1447.0   717.0\n",
       " 13  2000.0  3030.0\n",
       " 14   794.0   848.0\n",
       " 15  2024.0  3595.0\n",
       " 16  2005.0  1657.0\n",
       " 17  3499.0   649.0\n",
       " 18  3509.0  3037.0\n",
       " 19  3946.0   231.0\n",
       " 20   698.0  3589.0\n",
       " 21  2924.0  3255.0\n",
       " 22  3805.0  1834.0\n",
       " 23   906.0  2188.0\n",
       " 24  2247.0   654.0\n",
       " 25   645.0  1596.0\n",
       " 26  2712.0  3783.0\n",
       " 27  3730.0  3938.0\n",
       " 28   173.0   474.0\n",
       " 29  3130.0  1988.0\n",
       " 30  2623.0  1450.0\n",
       " 31  3649.0  1195.0\n",
       " 32  3227.0  3808.0\n",
       " 33  1349.0  1572.0\n",
       " 34  3214.0   266.0\n",
       " 35   713.0   116.0\n",
       " 36  2193.0  2617.0\n",
       " 37  3814.0  3497.0\n",
       " 38   155.0  2682.0\n",
       " 39   366.0  2182.0\n",
       " 40  1838.0   938.0\n",
       " 41   931.0  3081.0\n",
       " 42  1238.0   136.0\n",
       " 43  2279.0    98.0\n",
       " 44  3098.0   808.0\n",
       " 45  2752.0  1054.0\n",
       " 46  2805.0   340.0\n",
       " 47  1396.0  2256.0\n",
       " 48  3171.0  1284.0\n",
       " 49   307.0  3190.0]"
      ]
     },
     "execution_count": 56,
     "metadata": {},
     "output_type": "execute_result"
    }
   ],
   "source": [
    "fn_generate_initial_population(5)"
   ]
  },
  {
   "cell_type": "code",
   "execution_count": 93,
   "metadata": {},
   "outputs": [],
   "source": [
    "def fn_fitness(turb_loc_list):\n",
    "        # -*- coding: utf-8 -*-\n",
    "    \"\"\"\n",
    "    Created on: xxxx\n",
    "    @author   : Anon\n",
    "\n",
    "    NAME\n",
    "        Farm_Evalautor.py\n",
    "\n",
    "    PYTHON VERSION   \n",
    "        3.7.3 \n",
    "\n",
    "    DESCRIPTION\n",
    "        Calculates Annual Energy Production (AEP) of a Wind Farm\n",
    "        ============================================================    \n",
    "\n",
    "        This is vectorzied version of Farm_Evalautor.py. \n",
    "        Farm_Evalautor_Vec.py is a python file that calculates AEP (GWh)\n",
    "        of a certain arrangement of wind turbines in a farm, under \n",
    "        given annual wind conditions. \n",
    "\n",
    "        The code in this script for wake-effect modeling is based on\n",
    "        standard Jensen (PARK) model. \n",
    "        I. Katic, J. Hojstrup and N. Jensen, \"A simple model for cluster \n",
    "        efficiency,\" in European Wind Energy Association Conference and \n",
    "        Exhibition, 1986.\n",
    "\n",
    "        As its inputs, the code takes three data files containing info \n",
    "        about:\n",
    "        - Turbine Locations\n",
    "        - Turbine Power Curve\n",
    "        - Annual Wind Conditions\n",
    "\n",
    "    PACKAGE LIST\n",
    "        You may need to install the package Shapely in your\n",
    "        python distribution. These are not pre-installed. \n",
    "        =============================================================\n",
    "        Packages Used:\n",
    "        Numpy\n",
    "        Pandas\n",
    "        Shapely\n",
    "        math (built-in)\n",
    "\n",
    "    OPTIMIZATION USAGE\n",
    "        This vectorized version is faster than unvectorized version\n",
    "        Farm_Evalautor.py. Due to speed benefits, we advise you to use \n",
    "        the function getAEP in this script while developing the optimizer. \n",
    "        =============================================================\n",
    "\n",
    "        One way to use getAEP function as AEP evaluator while optimizing is:\n",
    "        - STEP 1. Import the relevant function from Farm_Evalautor_Vec. \n",
    "                  from Farm_Evalautor_Vec import getTurbLoc, loadPowerCurve, \n",
    "                  binWindResourceData, preProcessing, getAEP\n",
    "        - STEP 2. Set Turbine Radius to 50.0. First arg of getAEP\n",
    "        - STEP 3. Load Turbine Locations. Using function getTurbLoc\n",
    "        - STEP 4. Load Power Curve. Using function loadPowerCurve\n",
    "        - STEP 5. Load wind instance probabilities. \n",
    "                  Using function binWindResourceData\n",
    "        - STEP 6. Perform Preprocessing by calling function preProcessing.\n",
    "                  We do preprocessing to avoid same repeating calculations.\n",
    "                  Do them once. \n",
    "        - STEP 7. Finally, call function getAEP\n",
    "\n",
    "        This makes it easy to control the reloading of data and hence achieve\n",
    "        better performance.      \n",
    "    \"\"\"\n",
    "\n",
    "    # Module List\n",
    "    import numpy  as np\n",
    "    import pandas as pd                     \n",
    "    from   math   import radians as DegToRad       # Degrees to radians Conversion\n",
    "\n",
    "    from shapely.geometry import Point             # Imported for constraint checking\n",
    "    from shapely.geometry.polygon import Polygon\n",
    "\n",
    "    import warnings\n",
    "    warnings.filterwarnings(\"ignore\")\n",
    "\n",
    "    def getTurbLoc(turb_loc_file_name):\n",
    "        \"\"\" \n",
    "        -**-THIS FUNCTION SHOULD NOT BE MODIFIED-**-\n",
    "\n",
    "        Returns x,y turbine coordinates\n",
    "\n",
    "        :Called from\n",
    "            main function\n",
    "\n",
    "        :param\n",
    "            turb_loc_file_name - Turbine Loc csv file location\n",
    "\n",
    "        :return\n",
    "            2D array\n",
    "        \"\"\"\n",
    "\n",
    "        df = pd.read_csv(turb_loc_file_name, sep=',', dtype = np.float32)\n",
    "        turb_coords = df.to_numpy(dtype = np.float32)\n",
    "        return(turb_coords)\n",
    "    \n",
    "    def getTurblocation(turb_loc_list):\n",
    "        turb_coords = np.array(turb_loc_list)\n",
    "        return(turb_coords)\n",
    "\n",
    "\n",
    "\n",
    "    def loadPowerCurve(power_curve_file_name):\n",
    "        \"\"\"\n",
    "        -**-THIS FUNCTION SHOULD NOT BE MODIFIED-**-\n",
    "\n",
    "        Returns a 2D numpy array with information about\n",
    "        turbine thrust coeffecient and power curve of the \n",
    "        turbine for given wind speed\n",
    "\n",
    "        :called_from\n",
    "            main function\n",
    "\n",
    "        :param\n",
    "            power_curve_file_name - power curve csv file location\n",
    "\n",
    "        :return\n",
    "            Returns a 2D numpy array with cols Wind Speed (m/s), \n",
    "            Thrust Coeffecient (non dimensional), Power (MW)\n",
    "        \"\"\"\n",
    "        powerCurve = pd.read_csv(power_curve_file_name, sep=',', dtype = np.float32)\n",
    "        powerCurve = powerCurve.to_numpy(dtype = np.float32)\n",
    "        return(powerCurve)\n",
    "\n",
    "\n",
    "    def binWindResourceData(wind_data_file_name):\n",
    "        r\"\"\"\n",
    "        -**-THIS FUNCTION SHOULD NOT BE MODIFIED-**-\n",
    "\n",
    "        Loads the wind data. Returns a 2D array with shape (36,15). \n",
    "        Each cell in  array is a wind direction and speed 'instance'. \n",
    "        Values in a cell correspond to probability of instance\n",
    "        occurence.  \n",
    "\n",
    "        :Called from\n",
    "            main function\n",
    "\n",
    "        :param\n",
    "            wind_data_file_name - Wind Resource csv file  \n",
    "\n",
    "        :return\n",
    "            1-D flattened array of the 2-D array shown below. Values \n",
    "            inside cells, rough probabilities of wind instance occurence. \n",
    "            Along: Row-direction (drct), Column-Speed (s). Array flattened\n",
    "            for vectorization purpose. \n",
    "\n",
    "                          |0<=s<2|2<=s<4| ...  |26<=s<28|28<=s<30|\n",
    "            |_____________|______|______|______|________|________|\n",
    "            | drct = 360  |  --  |  --  |  --  |   --   |   --   |\n",
    "            | drct = 10   |  --  |  --  |  --  |   --   |   --   |\n",
    "            | drct = 20   |  --  |  --  |  --  |   --   |   --   |\n",
    "            |   ....      |  --  |  --  |  --  |   --   |   --   |\n",
    "            | drct = 340  |  --  |  --  |  --  |   --   |   --   |\n",
    "            | drct = 350  |  --  |  --  |  --  |   --   |   --   |        \n",
    "        \"\"\"\n",
    "\n",
    "        # Load wind data. Then, extracts the 'drct', 'sped' columns\n",
    "        df = pd.read_csv(wind_data_file_name)\n",
    "        wind_resource = df[['drct', 'sped']].to_numpy(dtype = np.float32)\n",
    "\n",
    "        # direction 'slices' in degrees\n",
    "        slices_drct   = np.roll(np.arange(10, 361, 10, dtype=np.float32), 1)\n",
    "        ## slices_drct   = [360, 10.0, 20.0.......340, 350]\n",
    "        n_slices_drct = slices_drct.shape[0]\n",
    "\n",
    "        # speed 'slices'\n",
    "        slices_sped   = [0.0, 2.0, 4.0, 6.0, 8.0, 10.0, 12.0, 14.0, 16.0, \n",
    "                            18.0, 20.0, 22.0, 24.0, 26.0, 28.0, 30.0]\n",
    "        n_slices_sped = len(slices_sped)-1\n",
    "\n",
    "\n",
    "        # placeholder for binned wind\n",
    "        binned_wind = np.zeros((n_slices_drct, n_slices_sped), \n",
    "                               dtype = np.float32)\n",
    "\n",
    "        # 'trap' data points inside the bins. \n",
    "        for i in range(n_slices_drct):\n",
    "            for j in range(n_slices_sped):     \n",
    "\n",
    "                # because we already have drct in the multiples of 10\n",
    "                foo = wind_resource[(wind_resource[:,0] == slices_drct[i])] \n",
    "\n",
    "                foo = foo[(foo[:,1] >= slices_sped[j]) \n",
    "                              & (foo[:,1] <  slices_sped[j+1])]\n",
    "\n",
    "                binned_wind[i,j] = foo.shape[0]  \n",
    "\n",
    "        wind_inst_freq   = binned_wind/np.sum(binned_wind)\n",
    "        wind_inst_freq   = wind_inst_freq.ravel()\n",
    "\n",
    "        return(wind_inst_freq)\n",
    "    def wind_avg():\n",
    "        wind_arr_2017 = binWindResourceData('Shell_Hackathon_Dataset/Wind Data/wind_data_2017.csv')\n",
    "        wind_arr_2015 = binWindResourceData('Shell_Hackathon_Dataset/Wind Data/wind_data_2015.csv')\n",
    "        wind_arr_2014 = binWindResourceData('Shell_Hackathon_Dataset/Wind Data/wind_data_2014.csv')\n",
    "        weight_1 = 0.5\n",
    "        weight_2 = 0.2\n",
    "        weight_3 = 0.3\n",
    "        wind_avg = np.average([wind_arr_2017, wind_arr_2015,wind_arr_2014], axis = 0, weights=[weight_1, weight_2,weight_3])\n",
    "        return wind_avg\n",
    "\n",
    "    def searchSorted(lookup, sample_array):\n",
    "        \"\"\"\n",
    "        -**-THIS FUNCTION SHOULD NOT BE MODIFIED-**-\n",
    "\n",
    "        Returns lookup indices for closest values w.r.t sample_array elements\n",
    "\n",
    "        :called_from\n",
    "            preProcessing, getAEP\n",
    "\n",
    "        :param\n",
    "            lookup       - The lookup array\n",
    "            sample_array - Array, whose elements need to be matched\n",
    "                           against lookup elements. \n",
    "\n",
    "        :return\n",
    "            lookup indices for closest values w.r.t sample_array elements \n",
    "        \"\"\"\n",
    "        lookup_middles = lookup[1:] - np.diff(lookup.astype('f'))/2\n",
    "        idx1 = np.searchsorted(lookup_middles, sample_array)\n",
    "        indices = np.arange(lookup.shape[0])[idx1]\n",
    "        return indices\n",
    "\n",
    "\n",
    "\n",
    "    def preProcessing(power_curve):\n",
    "        \"\"\"\n",
    "        -**-THIS FUNCTION SHOULD NOT BE MODIFIED-**-\n",
    "\n",
    "        Doing preprocessing to avoid the same repeating calculations.\n",
    "        Record the required data for calculations. Do that once.\n",
    "        Data are set up (shaped) to assist vectorization. Used later in\n",
    "        function totalAEP. \n",
    "\n",
    "        :called_from\n",
    "            main function\n",
    "\n",
    "        :param\n",
    "            power_curve - 2D numpy array with cols Wind Speed (m/s), \n",
    "                          Thrust Coeffecient (non dimensional), Power (MW)\n",
    "\n",
    "        :return\n",
    "            n_wind_instances  - number of wind instances (int)\n",
    "            cos_dir           - For coordinate transformation \n",
    "                                2D Array. Shape (n_wind_instances,1)\n",
    "            sin_dir           - For coordinate transformation \n",
    "                                2D Array. Shape (n_wind_instances,1)\n",
    "            wind_sped_stacked - column staked all speed instances n_turb times. \n",
    "            C_t               - 3D array with shape (n_wind_instances, n_turbs, n_turbs)\n",
    "                                Value changing only along axis=0. C_t, thrust coeff.\n",
    "                                values for all speed instances. \n",
    "        \"\"\"\n",
    "        # number of turbines\n",
    "        n_turbs       =   50\n",
    "\n",
    "        # direction 'slices' in degrees\n",
    "        slices_drct   = np.roll(np.arange(10, 361, 10, dtype=np.float32), 1)\n",
    "        ## slices_drct   = [360, 10.0, 20.0.......340, 350]\n",
    "        n_slices_drct = slices_drct.shape[0]\n",
    "\n",
    "        # speed 'slices'\n",
    "        slices_sped   = [0.0, 2.0, 4.0, 6.0, 8.0, 10.0, 12.0, 14.0, 16.0, \n",
    "                            18.0, 20.0, 22.0, 24.0, 26.0, 28.0, 30.0]\n",
    "        n_slices_sped = len(slices_sped)-1\n",
    "\n",
    "        # number of wind instances\n",
    "        n_wind_instances = (n_slices_drct)*(n_slices_sped)\n",
    "\n",
    "        # Create wind instances. There are two columns in the wind instance array\n",
    "        # First Column - Wind Speed. Second Column - Wind Direction\n",
    "        # Shape of wind_instances (n_wind_instances,2). \n",
    "        # Values [1.,360.],[3.,360.],[5.,360.]...[25.,350.],[27.,350.],29.,350.]\n",
    "        wind_instances = np.zeros((n_wind_instances,2), dtype=np.float32)\n",
    "        counter = 0\n",
    "        for i in range(n_slices_drct):\n",
    "            for j in range(n_slices_sped): \n",
    "\n",
    "                wind_drct =  slices_drct[i]\n",
    "                wind_sped = (slices_sped[j] + slices_sped[j+1])/2\n",
    "\n",
    "                wind_instances[counter,0] = wind_sped\n",
    "                wind_instances[counter,1] = wind_drct\n",
    "                counter += 1\n",
    "\n",
    "        # So that the wind flow direction aligns with the +ve x-axis.\t\t\t\n",
    "        # Convert inflow wind direction from degrees to radians\n",
    "        wind_drcts =  np.radians(wind_instances[:,1] - 90)\n",
    "        # For coordinate transformation \n",
    "        cos_dir = np.cos(wind_drcts).reshape(n_wind_instances,1)\n",
    "        sin_dir = np.sin(wind_drcts).reshape(n_wind_instances,1)\n",
    "\n",
    "        # create copies of n_wind_instances wind speeds from wind_instances\n",
    "        wind_sped_stacked = np.column_stack([wind_instances[:,0]]*n_turbs)\n",
    "\n",
    "        # Pre-prepare matrix with stored thrust coeffecient C_t values for \n",
    "        # n_wind_instances shape (n_wind_instances, n_turbs, n_turbs). \n",
    "        # Value changing only along axis=0. C_t, thrust coeff. values for all \n",
    "        # speed instances.\n",
    "        # we use power_curve data as look up to estimate the thrust coeff.\n",
    "        # of the turbine for the corresponding closest matching wind speed\n",
    "        indices = searchSorted(power_curve[:,0], wind_instances[:,0])\n",
    "        C_t     = power_curve[indices,1]\n",
    "        # stacking and reshaping to assist vectorization\n",
    "        C_t     = np.column_stack([C_t]*(n_turbs*n_turbs))\n",
    "        C_t     = C_t.reshape(n_wind_instances, n_turbs, n_turbs)\n",
    "\n",
    "        return(n_wind_instances, cos_dir, sin_dir, wind_sped_stacked, C_t)\n",
    "\n",
    "\n",
    "    def getAEP(turb_rad, turb_coords, power_curve, wind_inst_freq, \n",
    "                n_wind_instances, cos_dir, sin_dir, wind_sped_stacked, C_t):\n",
    "\n",
    "        \"\"\"\n",
    "        -**-THIS FUNCTION SHOULD NOT BE MODIFIED-**-\n",
    "\n",
    "        Calculates AEP of the wind farm. Vectorised version.\n",
    "\n",
    "        :called from\n",
    "            main\n",
    "\n",
    "        :param\n",
    "            turb_diam         - Radius of the turbine (m)\n",
    "            turb_coords       - 2D array turbine euclidean x,y coordinates\n",
    "            power_curve       - For estimating power. \n",
    "            wind_inst_freq    - 1-D flattened with rough probabilities of \n",
    "                                wind instance occurence.\n",
    "                                n_wind_instances  - number of wind instances (int)\n",
    "            cos_dir           - For coordinate transformation \n",
    "                                2D Array. Shape (n_wind_instances,1)\n",
    "            sin_dir           - For coordinate transformation \n",
    "                                2D Array. Shape (n_wind_instances,1)\n",
    "            wind_sped_stacked - column staked all speed instances n_turb times. \n",
    "            C_t               - 3D array with shape (n_wind_instances, n_turbs, n_turbs)\n",
    "                                Value changing only along axis=0. C_t, thrust coeff.\n",
    "                                values for all speed instances. \n",
    "\n",
    "        :return\n",
    "            wind farm AEP in Gigawatt Hours, GWh (float)\n",
    "        \"\"\"\n",
    "        # number of turbines\n",
    "        n_turbs        =   turb_coords.shape[0]\n",
    "        assert n_turbs ==  50, \"Error! Number of turbines is not 50.\"\n",
    "\n",
    "        # Prepare the rotated coordinates wrt the wind direction i.e downwind(x) & crosswind(y) \n",
    "        # coordinates wrt to the wind direction for each direction in wind_instances array\n",
    "        rotate_coords   =  np.zeros((n_wind_instances, n_turbs, 2), dtype=np.float32)\n",
    "        # Coordinate Transformation. Rotate coordinates to downwind, crosswind coordinates\n",
    "        rotate_coords[:,:,0] =  np.matmul(cos_dir, np.transpose(turb_coords[:,0].reshape(n_turbs,1))) - \\\n",
    "                               np.matmul(sin_dir, np.transpose(turb_coords[:,1].reshape(n_turbs,1)))\n",
    "        rotate_coords[:,:,1] =  np.matmul(sin_dir, np.transpose(turb_coords[:,0].reshape(n_turbs,1))) +\\\n",
    "                               np.matmul(cos_dir, np.transpose(turb_coords[:,1].reshape(n_turbs,1)))\n",
    "\n",
    "\n",
    "        # x_dist - x dist between turbine pairs wrt downwind/crosswind coordinates)\n",
    "        # for each wind instance\n",
    "        x_dist = np.zeros((n_wind_instances,n_turbs,n_turbs), dtype=np.float32)\n",
    "        for i in range(n_wind_instances):\n",
    "            tmp = rotate_coords[i,:,0].repeat(n_turbs).reshape(n_turbs, n_turbs)\n",
    "            x_dist[i] = tmp - tmp.transpose()\n",
    "\n",
    "\n",
    "        # y_dist - y dist between turbine pairs wrt downwind/crosswind coordinates)\n",
    "        # for each wind instance    \n",
    "        y_dist = np.zeros((n_wind_instances,n_turbs,n_turbs), dtype=np.float32)\n",
    "        for i in range(n_wind_instances):\n",
    "            tmp = rotate_coords[i,:,1].repeat(n_turbs).reshape(n_turbs, n_turbs)\n",
    "            y_dist[i] = tmp - tmp.transpose()\n",
    "        y_dist = np.abs(y_dist) \n",
    "\n",
    "\n",
    "        # Now use element wise operations to calculate speed deficit.\n",
    "        # kw, wake decay constant presetted to 0.05\n",
    "        # use the jensen's model formula. \n",
    "        # no wake effect of turbine on itself. either j not an upstream or wake \n",
    "        # not happening on i because its outside of the wake region of j\n",
    "        # For some values of x_dist here RuntimeWarning: divide by zero may occur\n",
    "        # That occurs for negative x_dist. Those we anyway mark as zeros. \n",
    "        sped_deficit = (1-np.sqrt(1-C_t))*((turb_rad/(turb_rad + 0.05*x_dist))**2) \n",
    "        sped_deficit[((x_dist <= 0) | ((x_dist > 0) & (y_dist > (turb_rad + 0.05*x_dist))))] = 0.0\n",
    "\n",
    "\n",
    "        # Calculate Total speed deficit from all upstream turbs, using sqrt of sum of sqrs\n",
    "        sped_deficit_eff  = np.sqrt(np.sum(np.square(sped_deficit), axis = 2))\n",
    "\n",
    "\n",
    "        # Element wise multiply the above with (1- sped_deficit_eff) to get\n",
    "        # effective windspeed due to the happening wake\n",
    "        wind_sped_eff     = wind_sped_stacked*(1.0-sped_deficit_eff)\n",
    "\n",
    "\n",
    "        # Estimate power from power_curve look up for wind_sped_eff\n",
    "        indices = searchSorted(power_curve[:,0], wind_sped_eff.ravel())\n",
    "        power   = power_curve[indices,2]\n",
    "        power   = power.reshape(n_wind_instances,n_turbs)\n",
    "\n",
    "        # Farm power for single wind instance \n",
    "        power   = np.sum(power, axis=1)\n",
    "\n",
    "        # multiply the respective values with the wind instance probabilities \n",
    "        # year_hours = 8760.0\n",
    "        AEP = 8760.0*np.sum(power*wind_inst_freq)\n",
    "\n",
    "        # Convert MWh to GWh\n",
    "        AEP = AEP/1e3\n",
    "\n",
    "        return(AEP)\n",
    "\n",
    "\n",
    "\n",
    "    def checkConstraints(turb_coords, turb_diam):\n",
    "        \"\"\"\n",
    "        -**-THIS FUNCTION SHOULD NOT BE MODIFIED-**-\n",
    "\n",
    "        Checks if the turbine configuration satisfies the two\n",
    "        constraints:(i) perimeter constraint,(ii) proximity constraint \n",
    "        Prints which constraints are violated if any. Note that this \n",
    "        function does not quantifies the amount by which the constraints \n",
    "        are violated if any. \n",
    "\n",
    "        :called from\n",
    "            main \n",
    "\n",
    "        :param\n",
    "            turb_coords - 2d np array containing turbine x,y coordinates\n",
    "            turb_diam   - Diameter of the turbine (m)\n",
    "\n",
    "        :return\n",
    "            None. Prints messages.   \n",
    "        \"\"\"\n",
    "        bound_clrnc      = 50\n",
    "        prox_constr_viol = False\n",
    "        peri_constr_viol = False\n",
    "\n",
    "        # create a shapely polygon object of the wind farm\n",
    "        farm_peri = [(0, 0), (0, 4000), (4000, 4000), (4000, 0)]\n",
    "        farm_poly = Polygon(farm_peri)\n",
    "\n",
    "        # checks if for every turbine perimeter constraint is satisfied. \n",
    "        # breaks out if False anywhere\n",
    "        for turb in turb_coords:\n",
    "            turb = Point(turb)\n",
    "            inside_farm   = farm_poly.contains(turb)\n",
    "            correct_clrnc = farm_poly.boundary.distance(turb) >= bound_clrnc\n",
    "            if (inside_farm == False or correct_clrnc == False):\n",
    "                peri_constr_viol = True\n",
    "                break\n",
    "\n",
    "        # checks if for every turbines proximity constraint is satisfied. \n",
    "        # breaks out if False anywhere\n",
    "        for i,turb1 in enumerate(turb_coords):\n",
    "            for turb2 in np.delete(turb_coords, i, axis=0):\n",
    "                if  np.linalg.norm(turb1 - turb2) < 4*turb_diam:\n",
    "                    prox_constr_viol = True\n",
    "                    break\n",
    "\n",
    "        # print messages\n",
    "        if  peri_constr_viol  == True  and prox_constr_viol == True:\n",
    "              print('Somewhere both perimeter constraint and proximity constraint are violated\\n')\n",
    "        elif peri_constr_viol == True  and prox_constr_viol == False:\n",
    "              print('Somewhere perimeter constraint is violated\\n')\n",
    "        elif peri_constr_viol == False and prox_constr_viol == True:\n",
    "              print('Somewhere proximity constraint is violated\\n')\n",
    "        else: print('Both perimeter and proximity constraints are satisfied !!\\n')\n",
    "\n",
    "        return()\n",
    "\n",
    "    if __name__ == \"__main__\":\n",
    "\n",
    "        # Turbine Specifications.\n",
    "        # -**-SHOULD NOT BE MODIFIED-**-\n",
    "        turb_specs    =  {   \n",
    "                             'Name': 'Anon Name',\n",
    "                             'Vendor': 'Anon Vendor',\n",
    "                             'Type': 'Anon Type',\n",
    "                             'Dia (m)': 100,\n",
    "                             'Rotor Area (m2)': 7853,\n",
    "                             'Hub Height (m)': 100,\n",
    "                             'Cut-in Wind Speed (m/s)': 3.5,\n",
    "                             'Cut-out Wind Speed (m/s)': 25,\n",
    "                             'Rated Wind Speed (m/s)': 15,\n",
    "                             'Rated Power (MW)': 3\n",
    "                         }\n",
    "        turb_diam      =  turb_specs['Dia (m)']\n",
    "        turb_rad       =  turb_diam/2 \n",
    "\n",
    "        # Turbine x,y coordinates\n",
    "        #turb_coords   =  getTurbLoc(r'..\\Shell_Hackathon Dataset\\turbine_loc_test.csv')\n",
    "        turb_coords      =  getTurblocation(turb_loc_list)\n",
    "\n",
    "        # Load the power curve\n",
    "        power_curve   =  loadPowerCurve('..\\Shell_Hackathon Dataset\\power_curve.csv')\n",
    "\n",
    "        # Pass wind data csv file location to function binWindResourceData.\n",
    "        # Retrieve probabilities of wind instance occurence.\n",
    "        #wind_inst_freq =  binWindResourceData(r'..\\Shell_Hackathon Dataset\\Wind Data\\wind_data_2007.csv')\n",
    "        wind_inst_freq = wind_avg()\n",
    "\n",
    "        # Doing preprocessing to avoid the same repeating calculations. Record \n",
    "        # the required data for calculations. Do that once. Data are set up (shaped)\n",
    "        # to assist vectorization. Used later in function totalAEP.\n",
    "        n_wind_instances, cos_dir, sin_dir, wind_sped_stacked, C_t = preProcessing(power_curve)\n",
    "\n",
    "        # check if there is any constraint is violated before we do anything. Comment \n",
    "        # out the function call to checkConstraints below if you desire. Note that \n",
    "        # this is just a check and the function does not quantifies the amount by \n",
    "        # which the constraints are violated if any. \n",
    "        checkConstraints(turb_coords, turb_diam)\n",
    "\n",
    "        print('Calculating AEP......')\n",
    "        AEP = getAEP(turb_rad, turb_coords, power_curve, wind_inst_freq, \n",
    "                      n_wind_instances, cos_dir, sin_dir, wind_sped_stacked, C_t) \n",
    "        print('Total power produced by the wind farm is: ', \"%.12f\"%(AEP), 'GWh')\n",
    "\n",
    "    return AEP"
   ]
  },
  {
   "cell_type": "code",
   "execution_count": 7,
   "metadata": {},
   "outputs": [],
   "source": [
    "turb_diam = 100"
   ]
  },
  {
   "cell_type": "code",
   "execution_count": 8,
   "metadata": {},
   "outputs": [],
   "source": [
    "def checkConstraints(turb_coords, turb_diam):\n",
    "        \"\"\"\n",
    "        -**-THIS FUNCTION SHOULD NOT BE MODIFIED-**-\n",
    "\n",
    "        Checks if the turbine configuration satisfies the two\n",
    "        constraints:(i) perimeter constraint,(ii) proximity constraint \n",
    "        Prints which constraints are violated if any. Note that this \n",
    "        function does not quantifies the amount by which the constraints \n",
    "        are violated if any. \n",
    "\n",
    "        :called from\n",
    "            main \n",
    "\n",
    "        :param\n",
    "            turb_coords - 2d np array containing turbine x,y coordinates\n",
    "            turb_diam   - Diameter of the turbine (m)\n",
    "\n",
    "        :return\n",
    "            None. Prints messages.   \n",
    "        \"\"\"\n",
    "        bound_clrnc      = 50\n",
    "        prox_constr_viol = False\n",
    "        peri_constr_viol = False\n",
    "\n",
    "        # create a shapely polygon object of the wind farm\n",
    "        farm_peri = [(0, 0), (0, 4000), (4000, 4000), (4000, 0)]\n",
    "        farm_poly = Polygon(farm_peri)\n",
    "\n",
    "        # checks if for every turbine perimeter constraint is satisfied. \n",
    "        # breaks out if False anywhere\n",
    "        for turb in turb_coords:\n",
    "            turb = Point(turb)\n",
    "            inside_farm   = farm_poly.contains(turb)\n",
    "            correct_clrnc = farm_poly.boundary.distance(turb) >= bound_clrnc\n",
    "            if (inside_farm == False or correct_clrnc == False):\n",
    "                peri_constr_viol = True\n",
    "                break\n",
    "\n",
    "        # checks if for every turbines proximity constraint is satisfied. \n",
    "        # breaks out if False anywhere\n",
    "        for i,turb1 in enumerate(turb_coords):\n",
    "            for turb2 in np.delete(turb_coords, i, axis=0):\n",
    "                if  np.linalg.norm(turb1 - turb2) < 4*turb_diam:\n",
    "                    prox_constr_viol = True\n",
    "                    break\n",
    "\n",
    "        # print messages\n",
    "        if  peri_constr_viol  == True  and prox_constr_viol == True:\n",
    "              print('Somewhere both perimeter constraint and proximity constraint are violated\\n')\n",
    "        elif peri_constr_viol == True  and prox_constr_viol == False:\n",
    "              print('Somewhere perimeter constraint is violated\\n')\n",
    "        elif peri_constr_viol == False and prox_constr_viol == True:\n",
    "              print('Somewhere proximity constraint is violated\\n')\n",
    "        else: print('Both perimeter and proximity constraints are satisfied !!\\n')\n",
    "\n",
    "        return()\n"
   ]
  },
  {
   "cell_type": "code",
   "execution_count": 86,
   "metadata": {},
   "outputs": [],
   "source": [
    "#randomly choose 50 coordinates from top 4 layouts and check if they are satisfying constraints \n",
    "def fn_crossover(layout_list):\n",
    "    layout = layout_list.copy()\n",
    "    flattened_df = pd.DataFrame(columns = ['x','y'])\n",
    "    flattened_df =pd.concat(layout_list)\n",
    "    #flattened_df.reset_index(drop = True, inplace =True)\n",
    "    flattened_df = flattened_df.sample(frac = 1) \n",
    "    flattened_df.reset_index(drop = True, inplace =True)\n",
    "    Xover_coords = flattened_df.to_numpy()\n",
    "    candidate_index = np.random.randint(low = 0,  high=Xover_coords.shape[0], size=1)\n",
    "    df = pd.DataFrame(index = [0],columns = ['x','y'])\n",
    "    #for i in range (mutant_coords.shape[0]):\n",
    "          #candidate_list = np.random.randint(low = 0,  high=elite.shape[0], size=1)\n",
    "            # Select the mutant.\n",
    "            #choosen_layout = elite_list[candidate_id]\n",
    "            #candidate_index = np.random.randint(low = 0, high = len(flattened_list), size = 1)\n",
    "            # Mutation step - shuffle() randomly shuffles the \n",
    "            # - allocation values for each scrip in a portfolio.\n",
    "            #select some 10 points from choosen layout\n",
    "           \n",
    "    \n",
    "            \n",
    "    #bound_clrnc      = 50\n",
    "    #prox_constr_viol = False\n",
    "    #peri_constr_viol = False\n",
    "\n",
    "            # create a shapely polygon object of the wind farm\n",
    "    #farm_peri = [(0, 0), (0, 4000), (4000, 4000), (4000, 0)]\n",
    "    #farm_poly = Polygon(farm_peri)\n",
    "    #candidate_id = np.random.randint(low = 0,  high=mutant_coords.shape[0], size=1)\n",
    "    #Xover_coords =Xover_coords[Xover_coords.index != candidate_index]\n",
    "    df.loc[0] = Xover_coords[candidate_index]\n",
    "    #Xover_coords = Xover_coords[candidate_index]\n",
    "    Xover_coords = np.delete(Xover_coords, candidate_index, axis = 0)\n",
    "    \n",
    "                # checks if for every turbine perimeter constraint is satisfied. \n",
    "                # breaks out if False anywhere\n",
    "            #for turb in mutant_coords:\n",
    "                #turb = Point(turb)\n",
    "                #inside_farm   = farm_poly.contains(turb)\n",
    "                #correct_clrnc = farm_poly.boundary.distance(turb) >= bound_clrnc\n",
    "                #if (inside_farm == False or correct_clrnc == False):\n",
    "                    #peri_constr_viol = True\n",
    "                    #break\n",
    "\n",
    "                # checks if for every turbines proximity constraint is satisfied. \n",
    "                # breaks out if False anywhere\n",
    "                \n",
    "          \n",
    "    for i,turb1 in enumerate(Xover_coords):\n",
    "        \n",
    "        flag = 0\n",
    "        #for turb2 in np.delete(df, i, axis=0):\n",
    "        for j in range(df.shape[0]):\n",
    "            turb2 = np.array(df.iloc[j])\n",
    "            #turb2 = np.array(turb2)\n",
    "            #print(type(turb1))\n",
    "            #print(turb2)\n",
    "            if  np.linalg.norm(turb1 - turb2) < 4*turb_diam:\n",
    "                flag = 1\n",
    "                break\n",
    "                \n",
    "        if flag ==0: \n",
    "            \n",
    "            #df.loc[len(df),'x'] = turb1[0]\n",
    "            #df.loc[(len(df)-1),'y'] = turb1[1]\n",
    "            \n",
    "            df.loc[len(df)] = turb1\n",
    "            if (len(df)==50):\n",
    "                break\n",
    "            \n",
    "                #crossover_list.append(turb1)\n",
    "                \n",
    "                #    np.unique(a, axis=0)\n",
    "\n",
    "\n",
    "        \n",
    "        \n",
    "    #return df\n",
    "    #layout.append(df)\n",
    "    return df"
   ]
  },
  {
   "cell_type": "code",
   "execution_count": 10,
   "metadata": {},
   "outputs": [],
   "source": [
    "#randomly choose 50 coordinates from top 4 layouts and check if they are satisfying constraints \n",
    "def fn_crossover2(layout_list):\n",
    "    layout = layout_list.copy()\n",
    "    flattened_df = pd.DataFrame(columns = ['x','y'])\n",
    "    flattened_df =pd.concat(layout_list)\n",
    "    #flattened_df.reset_index(drop = True, inplace =True)\n",
    "    flattened_df = flattened_df.sample(frac = 1) \n",
    "    flattened_df.reset_index(drop = True, inplace =True)\n",
    "    Xover_coords = flattened_df.to_numpy()\n",
    "    candidate_index = np.random.randint(low = 0,  high=Xover_coords.shape[0], size=1)\n",
    "    df = pd.DataFrame(index = [0],columns = ['x','y'])\n",
    "    \n",
    "    df.loc[0] = Xover_coords[candidate_index]\n",
    "    #Xover_coords = Xover_coords[candidate_index]\n",
    "    Xover_coords = np.delete(Xover_coords, candidate_index, axis = 0)\n",
    "    print(Xover_coords.shape)\n",
    "    alpha = 0.2\n",
    "    child_coords = pd.DataFrame(columns = ['x','y'])\n",
    "    print(\"length of child coords before crossover:\",len(child_coords))\n",
    "    for i,turb1 in enumerate(Xover_coords):\n",
    "        turb1 = alpha*turb1+(1-alpha)*turb1\n",
    "        child_coords.loc[len(child_coords)] = turb1\n",
    "    print(\"length of child coords after crossover:\",len(child_coords))\n",
    "    child_coords = child_coords.to_numpy()\n",
    "        \n",
    "    #Xover_coords = 1.5*Xover_coords\n",
    "    #Xover_coords = np.append(Xover_coords, Xover_coords_2, axis=0)\n",
    "    print(Xover_coords.shape)\n",
    "    \n",
    "    \n",
    "    # create a shapely polygon object of the wind farm\n",
    "    farm_peri = [(0, 0), (0, 4000), (4000, 4000), (4000, 0)]\n",
    "    farm_poly = Polygon(farm_peri)\n",
    "    bound_clrnc      = 50\n",
    "\n",
    "        # checks if for every turbine perimeter constraint is satisfied. \n",
    "        # breaks out if False anywhere\n",
    "    for i,turb1 in enumerate(child_coords):\n",
    "            \n",
    "            onepoint = Point(turb1)\n",
    "            \n",
    "            inside_farm   = farm_poly.contains(onepoint)\n",
    "            correct_clrnc = farm_poly.boundary.distance(onepoint) >= bound_clrnc\n",
    "            if (inside_farm == False or correct_clrnc == False):\n",
    "                peri_constr_viol = True\n",
    "                break\n",
    "            else:\n",
    "                flag = 0\n",
    "        \n",
    "                for j in range(df.shape[0]):\n",
    "                    turb2 = np.array(df.iloc[j])\n",
    "                    #turb2 = np.array(turb2)\n",
    "                    #print(type(turb1))\n",
    "                    #print(turb2)\n",
    "                    if  np.linalg.norm(turb1 - turb2) < 4*turb_diam:\n",
    "                        flag = 1\n",
    "                        break\n",
    "\n",
    "                if flag ==0: \n",
    "\n",
    "\n",
    "\n",
    "                    df.loc[len(df)] = turb1\n",
    "                    if (len(df)==50):\n",
    "                        break\n",
    "                \n",
    "                \n",
    "\n",
    "\n",
    "        \n",
    "        \n",
    "    #return df\n",
    "    #layout.append(df)\n",
    "    return df"
   ]
  },
  {
   "cell_type": "code",
   "execution_count": 11,
   "metadata": {},
   "outputs": [],
   "source": [
    "tempdf=fn_generate_initial_population(5)"
   ]
  },
  {
   "cell_type": "code",
   "execution_count": 12,
   "metadata": {},
   "outputs": [
    {
     "name": "stdout",
     "output_type": "stream",
     "text": [
      "(249, 2)\n",
      "length of child coords before crossover: 0\n",
      "length of child coords after crossover: 249\n",
      "(249, 2)\n"
     ]
    }
   ],
   "source": [
    "child=fn_crossover2(tempdf)"
   ]
  },
  {
   "cell_type": "code",
   "execution_count": 49,
   "metadata": {},
   "outputs": [],
   "source": [
    "a=[483,916,1349,1782,2215,2648,3081,3514]\n",
    "b=[]\n",
    "for i in range(len(a)):\n",
    "    b.append([a[i],50])\n",
    "    b.append([a[i],3947])\n",
    "    b.append([50,a[i]])\n",
    "    b.append([3947,a[i]])\n",
    "b.append([50,3947])\n",
    "b.append([50,50])\n",
    "b.append([3947,50])\n",
    "b.append([3947,3947])\n",
    "\n",
    "hh=pd.DataFrame(b)\n",
    "hh.columns=['x','y']\n"
   ]
  },
  {
   "cell_type": "code",
   "execution_count": 14,
   "metadata": {},
   "outputs": [],
   "source": [
    "elite2 = pd.DataFrame(columns = ['AEP','iteration_num'])"
   ]
  },
  {
   "cell_type": "code",
   "execution_count": 15,
   "metadata": {},
   "outputs": [],
   "source": [
    "def fn_sample_elite(new_population,iteration_no):\n",
    "    AEP_df = pd.DataFrame(columns = ['AEP','iteration_num'])\n",
    "    \n",
    "    for i in range (len(new_population)):\n",
    "        AEP_df.loc[len(AEP_df),'iteration_num'] = iteration_no\n",
    "        AEP_df.loc[(len(AEP_df)-1),'AEP'] = fn_fitness_function(new_population[i])\n",
    "\n",
    "     \n",
    "    elite = AEP_df['AEP'].sort_values(ascending = False).to_frame()[0:3]\n",
    "    print(elite.index)\n",
    "    global elite2\n",
    "    elite2 = AEP_df.sort_values(by = ['AEP'],ascending = False)\n",
    "    print(elite2)\n",
    "    \n",
    "    var = list(elite.index.values)\n",
    "    \n",
    "    #print(var)\n",
    "    #print(elite.index.values)\n",
    "    elite_layout = [new_population[i] for i in var]\n",
    "    print('sample elite output type is:',type(elite_layout))\n",
    "    \n",
    "    return elite_layout"
   ]
  },
  {
   "cell_type": "code",
   "execution_count": 92,
   "metadata": {},
   "outputs": [],
   "source": [
    "mutation_probability =0.65\n",
    "number_of_chromos_in_population =20\n",
    "number_of_iterations = 25"
   ]
  },
  {
   "cell_type": "code",
   "execution_count": 74,
   "metadata": {},
   "outputs": [],
   "source": [
    "def fn_evaluation(elite_population_layouts,\n",
    "                  mutation_probability,number_of_chromos_in_population):\n",
    "    new_pop = pd.DataFrame(index = [0],columns=['x','y'])\n",
    "    #print(new_pop)\n",
    "    elite_layout = elite_population_layouts.copy()\n",
    "    print(\"elite_layout type is:\",type(elite_layout))\n",
    "    new_pop_iterations = 0\n",
    "    while (new_pop_iterations < number_of_chromos_in_population):\n",
    "        #print( iteration)\n",
    "        #print(\"fn_evaluation new_pop_iterations\", new_pop_iterations)\n",
    "        #new_pop_iterations += 1 \n",
    "        if np.random.random() < mutation_probability:\n",
    "            print(\"mutation started\")\n",
    "            #print(\"fn_evaluation if\")\n",
    "            # The candidate (or one of the elite portfolios) is chosen randomly for mutation.\n",
    "            candidate_id = np.random.randint(low = 0,\n",
    "                                             high=len(elite_population_layouts))\n",
    "            \n",
    "            # Select the mutant.\n",
    "            a=[483,916,1349,1782,2215,2648,3081,3514]\n",
    "            b=[]\n",
    "            for i in range(len(a)):\n",
    "                b.append([a[i],50])\n",
    "                b.append([a[i],3947])\n",
    "                b.append([50,a[i]])\n",
    "                b.append([3947,a[i]])\n",
    "            b.append([50,3947])\n",
    "            b.append([50,50])\n",
    "            b.append([3947,50])\n",
    "            b.append([3947,3947])\n",
    "\n",
    "            hh=pd.DataFrame(b)\n",
    "            hh.columns=['x','y']\n",
    "            new_pop = hh.copy()\n",
    "            \n",
    "            #mutant = elite_population_layouts[candidate_id]\n",
    "            #print(type(mutant))\n",
    "            #print(mutant)\n",
    "            #new_pop = mutant.iloc[0:36,:]\n",
    "            #print(new_pop.columns)\n",
    "            #print(new_pop)\n",
    "            \n",
    "            for i in range(1,7000):\n",
    "                turb1 = np.zeros([1,2])\n",
    "    \n",
    "                flag=0\n",
    "                for j in range(0,2):\n",
    "                    turb1[0][j] = random.randrange(50,  3950)\n",
    "               \n",
    "\n",
    "            \n",
    "            \n",
    "    \n",
    "                for j in range(new_pop.shape[0]):\n",
    "                    turb2 = np.array(new_pop.iloc[j])\n",
    "            \n",
    "                    if  np.linalg.norm(turb1 - turb2) < (4*turb_diam+50):\n",
    "                        flag = 1\n",
    "                        break\n",
    "                \n",
    "                if flag ==0: \n",
    "                    data = pd.DataFrame(data = turb1,columns = ['x','y'])\n",
    "                  \n",
    "                    new_pop = pd.concat([new_pop, data], axis=0)\n",
    "                    new_pop.reset_index(drop = True, inplace =True)\n",
    "                    #print(\"adding turb1:\",turb1)\n",
    "                    #print(\"now the len of new pop is:\",len(new_pop))\n",
    "                    #print(new_pop)\n",
    "                    #new_pop.loc[len(new_pop)] = turb1\n",
    "                    if (len(new_pop)==50):\n",
    "                        #print(\"now the lenght of new pop is:\",len(new_pop))\n",
    "                        break\n",
    "            print(\"lenght of elite layout in mutation before appending is :\", len(elite_layout))\n",
    "            elite_layout.append(new_pop)\n",
    "            print(\"lenght of elite layout in mutation after appending is :\", len(elite_layout))\n",
    "                #crossover_list.append(turb1)\n",
    "                \n",
    "                #    np.unique(a, axis=0)\n",
    "            \n",
    "            \n",
    "            \n",
    "            \n",
    "            \n",
    "            \n",
    "           # new_population = new_population.append(mutant,\n",
    "                                                   #ignore_index=True)\n",
    "            # We prefer to explore much more in the beginning of the search process to \n",
    "            # ensure diversity and avoid local optimum. \n",
    "            # As we progress towards the end of search process ( or iterations), \n",
    "            # we need to ensure the convergence of the population to a good solution \n",
    "            # if not the best. Hence we keep on reducing mutation probability with \n",
    "            # each iteraation\n",
    "            mutation_probability = mutation_probability/(new_pop_iterations + 1)\n",
    "            print(\"mutation process is taking progress\")\n",
    "            #print(type(new_pop))\n",
    "            #new_population = new_population.append(new_pop)\n",
    "            new_pop_iterations = new_pop_iterations+1\n",
    "            #print(\"fn_evaluation if new_population\",new_population.shape)\n",
    "        else:\n",
    "              new_pop = fn_crossover(elite_population_layouts)\n",
    "              print('type of crossover output is :',type(new_pop) )\n",
    "        \n",
    "                \n",
    "              new_pop_iterations = new_pop_iterations+1\n",
    "        \n",
    "        #new_population = new_population.append(new_pop)\n",
    "              #for i in range(len(new_pop)):\n",
    "                #elite_layout.append(new_pop[i])\n",
    "              print(\"lenght of elite layout in cross over before appending is :\", len(elite_layout))\n",
    "              elite_layout.append(new_pop)\n",
    "              print(\"lenght of elite layout in cross over after appending is :\", len(elite_layout))\n",
    "    print('type of evaluation output is :',type(elite_layout) )\n",
    "    return elite_layout"
   ]
  },
  {
   "cell_type": "code",
   "execution_count": 87,
   "metadata": {},
   "outputs": [],
   "source": [
    "def fn_main():\n",
    "    #initial_population = fn_generate_initial_population(number_of_chromos_in_population)\n",
    "    #initial_population = fn_generate_initial_population(50)\n",
    "    layout1 = pd.read_csv(\"./submitted/mou2.csv\")\n",
    "    layout2 = pd.read_csv(\"./submitted/mou1.csv\")\n",
    "    layout3 = pd.read_csv(\"./submitted/day2.csv\")\n",
    "    layout4 = pd.read_csv(\"./submission18.csv\")\n",
    "\n",
    "    list_layout = [layout1,layout2,layout3,layout4]\n",
    "    \n",
    "    new_population = list_layout.copy()\n",
    "    \n",
    "    #print(initial_population.head())\n",
    "    #new_population = initial_population.copy()\n",
    "    print(\"type of new population is :\",type(new_population))\n",
    "    #print(\" fn_main shape initial pop\", new_population.shape)\n",
    "    \n",
    "    # Run genetic algorithm for number_of_iterations times.\n",
    "    AEP_df = pd.DataFrame(columns = ['AEP','iteration_num'])\n",
    "    for i in range(number_of_iterations):\n",
    "        elite_population = fn_sample_elite(new_population,i)                                               \n",
    "        \n",
    "        print(\"iteration:\",i)\n",
    "        print(\"length of new population in main function is :\",len(elite_population))\n",
    "        new_population = fn_evaluation(elite_population,mutation_probability,number_of_chromos_in_population)\n",
    "\n",
    "        \n",
    "        \n",
    "        \n",
    "\n",
    "        print_counter = i % 100\n",
    "        if print_counter == 0:\n",
    "            print(\"iteration\", i)\n",
    "\n",
    "    AEP_df = pd.DataFrame(columns = ['AEP'])\n",
    "    for k in range (len(new_population)):\n",
    "        AEP_df.loc[len(AEP_df),'AEP'] = fn_fitness_function(new_population[k])\n",
    "     \n",
    "    elite = AEP_df['AEP'].sort_values(ascending = False).to_frame()[0:1]\n",
    "    print(elite)\n",
    "    print(elite.index.values)\n",
    "    new_population = new_population[elite.index.values[0]]\n",
    "    \n",
    "\n",
    "    return new_population"
   ]
  },
  {
   "cell_type": "code",
   "execution_count": 88,
   "metadata": {},
   "outputs": [
    {
     "name": "stderr",
     "output_type": "stream",
     "text": [
      "  0%|          | 0/36 [00:00<?, ?it/s]"
     ]
    },
    {
     "name": "stdout",
     "output_type": "stream",
     "text": [
      "type of new population is : <class 'list'>\n",
      "Both perimeter and proximity constraints are satisfied !!\n",
      "\n",
      "Calculating AEP......\n"
     ]
    },
    {
     "name": "stderr",
     "output_type": "stream",
     "text": [
      "100%|██████████| 36/36 [00:01<00:00, 27.14it/s]\n",
      "  0%|          | 0/36 [00:00<?, ?it/s]"
     ]
    },
    {
     "name": "stdout",
     "output_type": "stream",
     "text": [
      "Total power produced by the wind farm is:  574.449973850186 GWh\n",
      "Both perimeter and proximity constraints are satisfied !!\n",
      "\n",
      "Calculating AEP......\n"
     ]
    },
    {
     "name": "stderr",
     "output_type": "stream",
     "text": [
      "100%|██████████| 36/36 [00:01<00:00, 27.60it/s]\n",
      "  0%|          | 0/36 [00:00<?, ?it/s]"
     ]
    },
    {
     "name": "stdout",
     "output_type": "stream",
     "text": [
      "Total power produced by the wind farm is:  572.042913632963 GWh\n",
      "Both perimeter and proximity constraints are satisfied !!\n",
      "\n",
      "Calculating AEP......\n"
     ]
    },
    {
     "name": "stderr",
     "output_type": "stream",
     "text": [
      "100%|██████████| 36/36 [00:01<00:00, 26.53it/s]\n",
      "  0%|          | 0/36 [00:00<?, ?it/s]"
     ]
    },
    {
     "name": "stdout",
     "output_type": "stream",
     "text": [
      "Total power produced by the wind farm is:  568.819883531091 GWh\n",
      "Both perimeter and proximity constraints are satisfied !!\n",
      "\n",
      "Calculating AEP......\n"
     ]
    },
    {
     "name": "stderr",
     "output_type": "stream",
     "text": [
      "100%|██████████| 36/36 [00:01<00:00, 26.43it/s]\n"
     ]
    },
    {
     "name": "stdout",
     "output_type": "stream",
     "text": [
      "Total power produced by the wind farm is:  575.117823284236 GWh\n",
      "Int64Index([3, 0, 1], dtype='int64')\n",
      "       AEP iteration_num\n",
      "3  575.118             0\n",
      "0   574.45             0\n",
      "1  572.043             0\n",
      "2   568.82             0\n",
      "sample elite output type is: <class 'list'>\n",
      "iteration: 0\n",
      "length of new population in main function is : 3\n",
      "elite_layout type is: <class 'list'>\n",
      "type of crossover output is : <class 'pandas.core.frame.DataFrame'>\n",
      "lenght of elite layout in cross over before appending is : 3\n",
      "lenght of elite layout in cross over after appending is : 4\n",
      "type of crossover output is : <class 'pandas.core.frame.DataFrame'>\n",
      "lenght of elite layout in cross over before appending is : 4\n",
      "lenght of elite layout in cross over after appending is : 5\n",
      "type of crossover output is : <class 'pandas.core.frame.DataFrame'>\n",
      "lenght of elite layout in cross over before appending is : 5\n",
      "lenght of elite layout in cross over after appending is : 6\n",
      "type of crossover output is : <class 'pandas.core.frame.DataFrame'>\n",
      "lenght of elite layout in cross over before appending is : 6\n",
      "lenght of elite layout in cross over after appending is : 7\n",
      "mutation started\n",
      "lenght of elite layout in mutation before appending is : 7\n",
      "lenght of elite layout in mutation after appending is : 8\n",
      "mutation process is taking progress\n",
      "type of crossover output is : <class 'pandas.core.frame.DataFrame'>\n",
      "lenght of elite layout in cross over before appending is : 8\n",
      "lenght of elite layout in cross over after appending is : 9\n",
      "mutation started\n",
      "lenght of elite layout in mutation before appending is : 9\n",
      "lenght of elite layout in mutation after appending is : 10\n",
      "mutation process is taking progress\n",
      "type of crossover output is : <class 'pandas.core.frame.DataFrame'>\n",
      "lenght of elite layout in cross over before appending is : 10\n",
      "lenght of elite layout in cross over after appending is : 11\n",
      "type of crossover output is : <class 'pandas.core.frame.DataFrame'>\n",
      "lenght of elite layout in cross over before appending is : 11\n",
      "lenght of elite layout in cross over after appending is : 12\n",
      "type of crossover output is : <class 'pandas.core.frame.DataFrame'>\n",
      "lenght of elite layout in cross over before appending is : 12\n",
      "lenght of elite layout in cross over after appending is : 13\n",
      "type of crossover output is : <class 'pandas.core.frame.DataFrame'>\n",
      "lenght of elite layout in cross over before appending is : 13\n",
      "lenght of elite layout in cross over after appending is : 14\n",
      "type of crossover output is : <class 'pandas.core.frame.DataFrame'>\n",
      "lenght of elite layout in cross over before appending is : 14\n",
      "lenght of elite layout in cross over after appending is : 15\n",
      "type of crossover output is : <class 'pandas.core.frame.DataFrame'>\n",
      "lenght of elite layout in cross over before appending is : 15\n",
      "lenght of elite layout in cross over after appending is : 16\n",
      "type of crossover output is : <class 'pandas.core.frame.DataFrame'>\n",
      "lenght of elite layout in cross over before appending is : 16\n",
      "lenght of elite layout in cross over after appending is : 17\n",
      "type of crossover output is : <class 'pandas.core.frame.DataFrame'>\n",
      "lenght of elite layout in cross over before appending is : 17\n",
      "lenght of elite layout in cross over after appending is : 18\n",
      "type of crossover output is : <class 'pandas.core.frame.DataFrame'>\n",
      "lenght of elite layout in cross over before appending is : 18\n",
      "lenght of elite layout in cross over after appending is : 19\n",
      "type of crossover output is : <class 'pandas.core.frame.DataFrame'>\n",
      "lenght of elite layout in cross over before appending is : 19\n",
      "lenght of elite layout in cross over after appending is : 20\n",
      "type of crossover output is : <class 'pandas.core.frame.DataFrame'>\n",
      "lenght of elite layout in cross over before appending is : 20\n",
      "lenght of elite layout in cross over after appending is : 21\n",
      "type of crossover output is : <class 'pandas.core.frame.DataFrame'>\n",
      "lenght of elite layout in cross over before appending is : 21\n",
      "lenght of elite layout in cross over after appending is : 22\n"
     ]
    },
    {
     "name": "stderr",
     "output_type": "stream",
     "text": [
      "  0%|          | 0/36 [00:00<?, ?it/s]"
     ]
    },
    {
     "name": "stdout",
     "output_type": "stream",
     "text": [
      "type of crossover output is : <class 'pandas.core.frame.DataFrame'>\n",
      "lenght of elite layout in cross over before appending is : 22\n",
      "lenght of elite layout in cross over after appending is : 23\n",
      "type of evaluation output is : <class 'list'>\n",
      "iteration 0\n",
      "Both perimeter and proximity constraints are satisfied !!\n",
      "\n",
      "Calculating AEP......\n"
     ]
    },
    {
     "name": "stderr",
     "output_type": "stream",
     "text": [
      "100%|██████████| 36/36 [00:01<00:00, 27.32it/s]\n",
      "  0%|          | 0/36 [00:00<?, ?it/s]"
     ]
    },
    {
     "name": "stdout",
     "output_type": "stream",
     "text": [
      "Total power produced by the wind farm is:  575.117823284236 GWh\n",
      "Both perimeter and proximity constraints are satisfied !!\n",
      "\n",
      "Calculating AEP......\n"
     ]
    },
    {
     "name": "stderr",
     "output_type": "stream",
     "text": [
      "100%|██████████| 36/36 [00:01<00:00, 28.19it/s]\n",
      "  0%|          | 0/36 [00:00<?, ?it/s]"
     ]
    },
    {
     "name": "stdout",
     "output_type": "stream",
     "text": [
      "Total power produced by the wind farm is:  574.449973850186 GWh\n",
      "Both perimeter and proximity constraints are satisfied !!\n",
      "\n",
      "Calculating AEP......\n"
     ]
    },
    {
     "name": "stderr",
     "output_type": "stream",
     "text": [
      "100%|██████████| 36/36 [00:01<00:00, 27.65it/s]\n",
      "  0%|          | 0/36 [00:00<?, ?it/s]"
     ]
    },
    {
     "name": "stdout",
     "output_type": "stream",
     "text": [
      "Total power produced by the wind farm is:  572.042913632963 GWh\n",
      "Both perimeter and proximity constraints are satisfied !!\n",
      "\n",
      "Calculating AEP......\n"
     ]
    },
    {
     "name": "stderr",
     "output_type": "stream",
     "text": [
      "100%|██████████| 36/36 [00:01<00:00, 27.93it/s]\n",
      "  0%|          | 0/36 [00:00<?, ?it/s]"
     ]
    },
    {
     "name": "stdout",
     "output_type": "stream",
     "text": [
      "Total power produced by the wind farm is:  572.449967034325 GWh\n",
      "Both perimeter and proximity constraints are satisfied !!\n",
      "\n",
      "Calculating AEP......\n"
     ]
    },
    {
     "name": "stderr",
     "output_type": "stream",
     "text": [
      "100%|██████████| 36/36 [00:03<00:00, 11.42it/s]\n",
      "  0%|          | 0/36 [00:00<?, ?it/s]"
     ]
    },
    {
     "name": "stdout",
     "output_type": "stream",
     "text": [
      "Total power produced by the wind farm is:  570.772304775436 GWh\n",
      "Both perimeter and proximity constraints are satisfied !!\n",
      "\n",
      "Calculating AEP......\n"
     ]
    },
    {
     "name": "stderr",
     "output_type": "stream",
     "text": [
      "100%|██████████| 36/36 [00:01<00:00, 26.54it/s]\n",
      "  0%|          | 0/36 [00:00<?, ?it/s]"
     ]
    },
    {
     "name": "stdout",
     "output_type": "stream",
     "text": [
      "Total power produced by the wind farm is:  569.984171569172 GWh\n",
      "Both perimeter and proximity constraints are satisfied !!\n",
      "\n",
      "Calculating AEP......\n"
     ]
    },
    {
     "name": "stderr",
     "output_type": "stream",
     "text": [
      "100%|██████████| 36/36 [00:01<00:00, 26.88it/s]\n",
      "  0%|          | 0/36 [00:00<?, ?it/s]"
     ]
    },
    {
     "name": "stdout",
     "output_type": "stream",
     "text": [
      "Total power produced by the wind farm is:  574.304027612474 GWh\n",
      "Both perimeter and proximity constraints are satisfied !!\n",
      "\n",
      "Calculating AEP......\n"
     ]
    },
    {
     "name": "stderr",
     "output_type": "stream",
     "text": [
      "100%|██████████| 36/36 [00:01<00:00, 27.48it/s]\n",
      "  0%|          | 0/36 [00:00<?, ?it/s]"
     ]
    },
    {
     "name": "stdout",
     "output_type": "stream",
     "text": [
      "Total power produced by the wind farm is:  571.491001659370 GWh\n",
      "Both perimeter and proximity constraints are satisfied !!\n",
      "\n",
      "Calculating AEP......\n"
     ]
    },
    {
     "name": "stderr",
     "output_type": "stream",
     "text": [
      "100%|██████████| 36/36 [00:01<00:00, 27.63it/s]\n",
      "  0%|          | 0/36 [00:00<?, ?it/s]"
     ]
    },
    {
     "name": "stdout",
     "output_type": "stream",
     "text": [
      "Total power produced by the wind farm is:  570.644920819341 GWh\n",
      "Both perimeter and proximity constraints are satisfied !!\n",
      "\n",
      "Calculating AEP......\n"
     ]
    },
    {
     "name": "stderr",
     "output_type": "stream",
     "text": [
      "100%|██████████| 36/36 [00:01<00:00, 27.33it/s]\n",
      "  0%|          | 0/36 [00:00<?, ?it/s]"
     ]
    },
    {
     "name": "stdout",
     "output_type": "stream",
     "text": [
      "Total power produced by the wind farm is:  570.990795801643 GWh\n",
      "Both perimeter and proximity constraints are satisfied !!\n",
      "\n",
      "Calculating AEP......\n"
     ]
    },
    {
     "name": "stderr",
     "output_type": "stream",
     "text": [
      "100%|██████████| 36/36 [00:01<00:00, 27.36it/s]\n",
      "  0%|          | 0/36 [00:00<?, ?it/s]"
     ]
    },
    {
     "name": "stdout",
     "output_type": "stream",
     "text": [
      "Total power produced by the wind farm is:  569.582429684646 GWh\n",
      "Both perimeter and proximity constraints are satisfied !!\n",
      "\n",
      "Calculating AEP......\n"
     ]
    },
    {
     "name": "stderr",
     "output_type": "stream",
     "text": [
      "100%|██████████| 36/36 [00:01<00:00, 26.49it/s]\n",
      "  0%|          | 0/36 [00:00<?, ?it/s]"
     ]
    },
    {
     "name": "stdout",
     "output_type": "stream",
     "text": [
      "Total power produced by the wind farm is:  571.142396254758 GWh\n",
      "Both perimeter and proximity constraints are satisfied !!\n",
      "\n",
      "Calculating AEP......\n"
     ]
    },
    {
     "name": "stderr",
     "output_type": "stream",
     "text": [
      "100%|██████████| 36/36 [00:01<00:00, 27.86it/s]\n",
      "  0%|          | 0/36 [00:00<?, ?it/s]"
     ]
    },
    {
     "name": "stdout",
     "output_type": "stream",
     "text": [
      "Total power produced by the wind farm is:  571.940331007763 GWh\n",
      "Both perimeter and proximity constraints are satisfied !!\n",
      "\n",
      "Calculating AEP......\n"
     ]
    },
    {
     "name": "stderr",
     "output_type": "stream",
     "text": [
      "100%|██████████| 36/36 [00:01<00:00, 27.24it/s]\n",
      "  0%|          | 0/36 [00:00<?, ?it/s]"
     ]
    },
    {
     "name": "stdout",
     "output_type": "stream",
     "text": [
      "Total power produced by the wind farm is:  571.078901751278 GWh\n",
      "Both perimeter and proximity constraints are satisfied !!\n",
      "\n",
      "Calculating AEP......\n"
     ]
    },
    {
     "name": "stderr",
     "output_type": "stream",
     "text": [
      "100%|██████████| 36/36 [00:01<00:00, 27.49it/s]\n",
      "  0%|          | 0/36 [00:00<?, ?it/s]"
     ]
    },
    {
     "name": "stdout",
     "output_type": "stream",
     "text": [
      "Total power produced by the wind farm is:  571.832025152481 GWh\n",
      "Both perimeter and proximity constraints are satisfied !!\n",
      "\n",
      "Calculating AEP......\n"
     ]
    },
    {
     "name": "stderr",
     "output_type": "stream",
     "text": [
      "100%|██████████| 36/36 [00:01<00:00, 28.01it/s]\n",
      "  0%|          | 0/36 [00:00<?, ?it/s]"
     ]
    },
    {
     "name": "stdout",
     "output_type": "stream",
     "text": [
      "Total power produced by the wind farm is:  572.041507425525 GWh\n",
      "Both perimeter and proximity constraints are satisfied !!\n",
      "\n",
      "Calculating AEP......\n"
     ]
    },
    {
     "name": "stderr",
     "output_type": "stream",
     "text": [
      "100%|██████████| 36/36 [00:01<00:00, 27.29it/s]\n",
      "  0%|          | 0/36 [00:00<?, ?it/s]"
     ]
    },
    {
     "name": "stdout",
     "output_type": "stream",
     "text": [
      "Total power produced by the wind farm is:  573.153471794223 GWh\n",
      "Both perimeter and proximity constraints are satisfied !!\n",
      "\n",
      "Calculating AEP......\n"
     ]
    },
    {
     "name": "stderr",
     "output_type": "stream",
     "text": [
      "100%|██████████| 36/36 [00:01<00:00, 27.10it/s]\n",
      "  0%|          | 0/36 [00:00<?, ?it/s]"
     ]
    },
    {
     "name": "stdout",
     "output_type": "stream",
     "text": [
      "Total power produced by the wind farm is:  573.012247057459 GWh\n",
      "Both perimeter and proximity constraints are satisfied !!\n",
      "\n",
      "Calculating AEP......\n"
     ]
    },
    {
     "name": "stderr",
     "output_type": "stream",
     "text": [
      "100%|██████████| 36/36 [00:01<00:00, 27.92it/s]\n",
      "  0%|          | 0/36 [00:00<?, ?it/s]"
     ]
    },
    {
     "name": "stdout",
     "output_type": "stream",
     "text": [
      "Total power produced by the wind farm is:  573.483629590428 GWh\n",
      "Both perimeter and proximity constraints are satisfied !!\n",
      "\n",
      "Calculating AEP......\n"
     ]
    },
    {
     "name": "stderr",
     "output_type": "stream",
     "text": [
      "100%|██████████| 36/36 [00:03<00:00, 11.41it/s]\n",
      "  0%|          | 0/36 [00:00<?, ?it/s]"
     ]
    },
    {
     "name": "stdout",
     "output_type": "stream",
     "text": [
      "Total power produced by the wind farm is:  571.676992277734 GWh\n",
      "Both perimeter and proximity constraints are satisfied !!\n",
      "\n",
      "Calculating AEP......\n"
     ]
    },
    {
     "name": "stderr",
     "output_type": "stream",
     "text": [
      "100%|██████████| 36/36 [00:01<00:00, 26.25it/s]\n",
      "  0%|          | 0/36 [00:00<?, ?it/s]"
     ]
    },
    {
     "name": "stdout",
     "output_type": "stream",
     "text": [
      "Total power produced by the wind farm is:  571.257358233633 GWh\n",
      "Both perimeter and proximity constraints are satisfied !!\n",
      "\n",
      "Calculating AEP......\n"
     ]
    },
    {
     "name": "stderr",
     "output_type": "stream",
     "text": [
      "100%|██████████| 36/36 [00:01<00:00, 27.58it/s]\n",
      "  0%|          | 0/36 [00:00<?, ?it/s]"
     ]
    },
    {
     "name": "stdout",
     "output_type": "stream",
     "text": [
      "Total power produced by the wind farm is:  571.623740048770 GWh\n",
      "Both perimeter and proximity constraints are satisfied !!\n",
      "\n",
      "Calculating AEP......\n"
     ]
    },
    {
     "name": "stderr",
     "output_type": "stream",
     "text": [
      "100%|██████████| 36/36 [00:01<00:00, 26.89it/s]\n"
     ]
    },
    {
     "name": "stdout",
     "output_type": "stream",
     "text": [
      "Total power produced by the wind farm is:  570.432844032693 GWh\n",
      "Int64Index([0, 1, 6], dtype='int64')\n",
      "        AEP iteration_num\n",
      "0   575.118             1\n",
      "1    574.45             1\n",
      "6   574.304             1\n",
      "18  573.484             1\n",
      "16  573.153             1\n",
      "17  573.012             1\n",
      "3    572.45             1\n",
      "2   572.043             1\n",
      "15  572.042             1\n",
      "12   571.94             1\n",
      "14  571.832             1\n",
      "19  571.677             1\n",
      "21  571.624             1\n",
      "7   571.491             1\n",
      "20  571.257             1\n",
      "11  571.142             1\n",
      "13  571.079             1\n",
      "9   570.991             1\n",
      "4   570.772             1\n",
      "8   570.645             1\n",
      "22  570.433             1\n",
      "5   569.984             1\n",
      "10  569.582             1\n",
      "sample elite output type is: <class 'list'>\n",
      "iteration: 1\n",
      "length of new population in main function is : 3\n",
      "elite_layout type is: <class 'list'>\n",
      "type of crossover output is : <class 'pandas.core.frame.DataFrame'>\n",
      "lenght of elite layout in cross over before appending is : 3\n",
      "lenght of elite layout in cross over after appending is : 4\n",
      "mutation started\n",
      "lenght of elite layout in mutation before appending is : 4\n",
      "lenght of elite layout in mutation after appending is : 5\n",
      "mutation process is taking progress\n",
      "type of crossover output is : <class 'pandas.core.frame.DataFrame'>\n",
      "lenght of elite layout in cross over before appending is : 5\n",
      "lenght of elite layout in cross over after appending is : 6\n",
      "type of crossover output is : <class 'pandas.core.frame.DataFrame'>\n",
      "lenght of elite layout in cross over before appending is : 6\n",
      "lenght of elite layout in cross over after appending is : 7\n",
      "mutation started\n",
      "lenght of elite layout in mutation before appending is : 7\n",
      "lenght of elite layout in mutation after appending is : 8\n",
      "mutation process is taking progress\n",
      "type of crossover output is : <class 'pandas.core.frame.DataFrame'>\n",
      "lenght of elite layout in cross over before appending is : 8\n",
      "lenght of elite layout in cross over after appending is : 9\n",
      "type of crossover output is : <class 'pandas.core.frame.DataFrame'>\n",
      "lenght of elite layout in cross over before appending is : 9\n",
      "lenght of elite layout in cross over after appending is : 10\n",
      "mutation started\n",
      "lenght of elite layout in mutation before appending is : 10\n",
      "lenght of elite layout in mutation after appending is : 11\n",
      "mutation process is taking progress\n",
      "type of crossover output is : <class 'pandas.core.frame.DataFrame'>\n",
      "lenght of elite layout in cross over before appending is : 11\n",
      "lenght of elite layout in cross over after appending is : 12\n",
      "type of crossover output is : <class 'pandas.core.frame.DataFrame'>\n",
      "lenght of elite layout in cross over before appending is : 12\n",
      "lenght of elite layout in cross over after appending is : 13\n",
      "type of crossover output is : <class 'pandas.core.frame.DataFrame'>\n",
      "lenght of elite layout in cross over before appending is : 13\n",
      "lenght of elite layout in cross over after appending is : 14\n",
      "type of crossover output is : <class 'pandas.core.frame.DataFrame'>\n",
      "lenght of elite layout in cross over before appending is : 14\n",
      "lenght of elite layout in cross over after appending is : 15\n",
      "type of crossover output is : <class 'pandas.core.frame.DataFrame'>\n",
      "lenght of elite layout in cross over before appending is : 15\n",
      "lenght of elite layout in cross over after appending is : 16\n",
      "type of crossover output is : <class 'pandas.core.frame.DataFrame'>\n",
      "lenght of elite layout in cross over before appending is : 16\n",
      "lenght of elite layout in cross over after appending is : 17\n",
      "type of crossover output is : <class 'pandas.core.frame.DataFrame'>\n",
      "lenght of elite layout in cross over before appending is : 17\n",
      "lenght of elite layout in cross over after appending is : 18\n",
      "type of crossover output is : <class 'pandas.core.frame.DataFrame'>\n",
      "lenght of elite layout in cross over before appending is : 18\n",
      "lenght of elite layout in cross over after appending is : 19\n",
      "type of crossover output is : <class 'pandas.core.frame.DataFrame'>\n",
      "lenght of elite layout in cross over before appending is : 19\n",
      "lenght of elite layout in cross over after appending is : 20\n",
      "type of crossover output is : <class 'pandas.core.frame.DataFrame'>\n",
      "lenght of elite layout in cross over before appending is : 20\n",
      "lenght of elite layout in cross over after appending is : 21\n",
      "type of crossover output is : <class 'pandas.core.frame.DataFrame'>\n",
      "lenght of elite layout in cross over before appending is : 21\n",
      "lenght of elite layout in cross over after appending is : 22\n",
      "mutation started\n",
      "lenght of elite layout in mutation before appending is : 22\n",
      "lenght of elite layout in mutation after appending is : 23\n",
      "mutation process is taking progress\n",
      "type of evaluation output is : <class 'list'>\n"
     ]
    },
    {
     "name": "stderr",
     "output_type": "stream",
     "text": [
      "  0%|          | 0/36 [00:00<?, ?it/s]"
     ]
    },
    {
     "name": "stdout",
     "output_type": "stream",
     "text": [
      "Both perimeter and proximity constraints are satisfied !!\n",
      "\n",
      "Calculating AEP......\n"
     ]
    },
    {
     "name": "stderr",
     "output_type": "stream",
     "text": [
      "100%|██████████| 36/36 [00:01<00:00, 27.39it/s]\n"
     ]
    },
    {
     "name": "stdout",
     "output_type": "stream",
     "text": [
      "Total power produced by the wind farm is:  575.117823284236 GWh\n",
      "Both perimeter and proximity constraints are satisfied !!\n",
      "\n",
      "Calculating AEP......\n"
     ]
    },
    {
     "name": "stderr",
     "output_type": "stream",
     "text": [
      "100%|██████████| 36/36 [00:01<00:00, 26.90it/s]\n",
      "  0%|          | 0/36 [00:00<?, ?it/s]"
     ]
    },
    {
     "name": "stdout",
     "output_type": "stream",
     "text": [
      "Total power produced by the wind farm is:  574.449973850186 GWh\n",
      "Both perimeter and proximity constraints are satisfied !!\n",
      "\n",
      "Calculating AEP......\n"
     ]
    },
    {
     "name": "stderr",
     "output_type": "stream",
     "text": [
      "100%|██████████| 36/36 [00:01<00:00, 25.42it/s]\n",
      "  0%|          | 0/36 [00:00<?, ?it/s]"
     ]
    },
    {
     "name": "stdout",
     "output_type": "stream",
     "text": [
      "Total power produced by the wind farm is:  574.304027612474 GWh\n",
      "Both perimeter and proximity constraints are satisfied !!\n",
      "\n",
      "Calculating AEP......\n"
     ]
    },
    {
     "name": "stderr",
     "output_type": "stream",
     "text": [
      "100%|██████████| 36/36 [00:01<00:00, 25.76it/s]\n",
      "  0%|          | 0/36 [00:00<?, ?it/s]"
     ]
    },
    {
     "name": "stdout",
     "output_type": "stream",
     "text": [
      "Total power produced by the wind farm is:  572.105202359002 GWh\n",
      "Both perimeter and proximity constraints are satisfied !!\n",
      "\n",
      "Calculating AEP......\n"
     ]
    },
    {
     "name": "stderr",
     "output_type": "stream",
     "text": [
      "100%|██████████| 36/36 [00:01<00:00, 26.14it/s]\n",
      "  0%|          | 0/36 [00:00<?, ?it/s]"
     ]
    },
    {
     "name": "stdout",
     "output_type": "stream",
     "text": [
      "Total power produced by the wind farm is:  571.544749781210 GWh\n",
      "Both perimeter and proximity constraints are satisfied !!\n",
      "\n",
      "Calculating AEP......\n"
     ]
    },
    {
     "name": "stderr",
     "output_type": "stream",
     "text": [
      "100%|██████████| 36/36 [00:01<00:00, 26.40it/s]\n",
      "  0%|          | 0/36 [00:00<?, ?it/s]"
     ]
    },
    {
     "name": "stdout",
     "output_type": "stream",
     "text": [
      "Total power produced by the wind farm is:  573.217306970920 GWh\n",
      "Both perimeter and proximity constraints are satisfied !!\n",
      "\n",
      "Calculating AEP......\n"
     ]
    },
    {
     "name": "stderr",
     "output_type": "stream",
     "text": [
      "100%|██████████| 36/36 [00:01<00:00, 26.42it/s]\n",
      "  0%|          | 0/36 [00:00<?, ?it/s]"
     ]
    },
    {
     "name": "stdout",
     "output_type": "stream",
     "text": [
      "Total power produced by the wind farm is:  572.050836784280 GWh\n",
      "Both perimeter and proximity constraints are satisfied !!\n",
      "\n",
      "Calculating AEP......\n"
     ]
    },
    {
     "name": "stderr",
     "output_type": "stream",
     "text": [
      "100%|██████████| 36/36 [00:01<00:00, 26.19it/s]\n",
      "  0%|          | 0/36 [00:00<?, ?it/s]"
     ]
    },
    {
     "name": "stdout",
     "output_type": "stream",
     "text": [
      "Total power produced by the wind farm is:  570.412446034748 GWh\n",
      "Both perimeter and proximity constraints are satisfied !!\n",
      "\n",
      "Calculating AEP......\n"
     ]
    },
    {
     "name": "stderr",
     "output_type": "stream",
     "text": [
      "100%|██████████| 36/36 [00:01<00:00, 25.85it/s]\n",
      "  0%|          | 0/36 [00:00<?, ?it/s]"
     ]
    },
    {
     "name": "stdout",
     "output_type": "stream",
     "text": [
      "Total power produced by the wind farm is:  572.358616855913 GWh\n",
      "Both perimeter and proximity constraints are satisfied !!\n",
      "\n",
      "Calculating AEP......\n"
     ]
    },
    {
     "name": "stderr",
     "output_type": "stream",
     "text": [
      "100%|██████████| 36/36 [00:01<00:00, 26.34it/s]\n",
      "  0%|          | 0/36 [00:00<?, ?it/s]"
     ]
    },
    {
     "name": "stdout",
     "output_type": "stream",
     "text": [
      "Total power produced by the wind farm is:  571.924191373700 GWh\n",
      "Both perimeter and proximity constraints are satisfied !!\n",
      "\n",
      "Calculating AEP......\n"
     ]
    },
    {
     "name": "stderr",
     "output_type": "stream",
     "text": [
      "100%|██████████| 36/36 [00:01<00:00, 26.85it/s]\n",
      "  0%|          | 0/36 [00:00<?, ?it/s]"
     ]
    },
    {
     "name": "stdout",
     "output_type": "stream",
     "text": [
      "Total power produced by the wind farm is:  570.716872604254 GWh\n",
      "Both perimeter and proximity constraints are satisfied !!\n",
      "\n",
      "Calculating AEP......\n"
     ]
    },
    {
     "name": "stderr",
     "output_type": "stream",
     "text": [
      "100%|██████████| 36/36 [00:03<00:00, 11.29it/s]\n",
      "  0%|          | 0/36 [00:00<?, ?it/s]"
     ]
    },
    {
     "name": "stdout",
     "output_type": "stream",
     "text": [
      "Total power produced by the wind farm is:  571.726873878281 GWh\n",
      "Both perimeter and proximity constraints are satisfied !!\n",
      "\n",
      "Calculating AEP......\n"
     ]
    },
    {
     "name": "stderr",
     "output_type": "stream",
     "text": [
      "100%|██████████| 36/36 [00:01<00:00, 25.16it/s]\n",
      "  0%|          | 0/36 [00:00<?, ?it/s]"
     ]
    },
    {
     "name": "stdout",
     "output_type": "stream",
     "text": [
      "Total power produced by the wind farm is:  572.678787162204 GWh\n",
      "Both perimeter and proximity constraints are satisfied !!\n",
      "\n",
      "Calculating AEP......\n"
     ]
    },
    {
     "name": "stderr",
     "output_type": "stream",
     "text": [
      "100%|██████████| 36/36 [00:01<00:00, 25.81it/s]\n",
      "  0%|          | 0/36 [00:00<?, ?it/s]"
     ]
    },
    {
     "name": "stdout",
     "output_type": "stream",
     "text": [
      "Total power produced by the wind farm is:  572.881468726870 GWh\n",
      "Both perimeter and proximity constraints are satisfied !!\n",
      "\n",
      "Calculating AEP......\n"
     ]
    },
    {
     "name": "stderr",
     "output_type": "stream",
     "text": [
      "100%|██████████| 36/36 [00:01<00:00, 25.77it/s]\n",
      "  0%|          | 0/36 [00:00<?, ?it/s]"
     ]
    },
    {
     "name": "stdout",
     "output_type": "stream",
     "text": [
      "Total power produced by the wind farm is:  573.676575927158 GWh\n",
      "Both perimeter and proximity constraints are satisfied !!\n",
      "\n",
      "Calculating AEP......\n"
     ]
    },
    {
     "name": "stderr",
     "output_type": "stream",
     "text": [
      "100%|██████████| 36/36 [00:01<00:00, 27.40it/s]\n",
      "  0%|          | 0/36 [00:00<?, ?it/s]"
     ]
    },
    {
     "name": "stdout",
     "output_type": "stream",
     "text": [
      "Total power produced by the wind farm is:  572.812054680469 GWh\n",
      "Both perimeter and proximity constraints are satisfied !!\n",
      "\n",
      "Calculating AEP......\n"
     ]
    },
    {
     "name": "stderr",
     "output_type": "stream",
     "text": [
      "100%|██████████| 36/36 [00:01<00:00, 26.25it/s]\n",
      "  0%|          | 0/36 [00:00<?, ?it/s]"
     ]
    },
    {
     "name": "stdout",
     "output_type": "stream",
     "text": [
      "Total power produced by the wind farm is:  573.880280565030 GWh\n",
      "Both perimeter and proximity constraints are satisfied !!\n",
      "\n",
      "Calculating AEP......\n"
     ]
    },
    {
     "name": "stderr",
     "output_type": "stream",
     "text": [
      "100%|██████████| 36/36 [00:01<00:00, 26.81it/s]\n",
      "  0%|          | 0/36 [00:00<?, ?it/s]"
     ]
    },
    {
     "name": "stdout",
     "output_type": "stream",
     "text": [
      "Total power produced by the wind farm is:  571.717425873991 GWh\n",
      "Both perimeter and proximity constraints are satisfied !!\n",
      "\n",
      "Calculating AEP......\n"
     ]
    },
    {
     "name": "stderr",
     "output_type": "stream",
     "text": [
      "100%|██████████| 36/36 [00:01<00:00, 27.38it/s]\n",
      "  0%|          | 0/36 [00:00<?, ?it/s]"
     ]
    },
    {
     "name": "stdout",
     "output_type": "stream",
     "text": [
      "Total power produced by the wind farm is:  570.417975191375 GWh\n",
      "Both perimeter and proximity constraints are satisfied !!\n",
      "\n",
      "Calculating AEP......\n"
     ]
    },
    {
     "name": "stderr",
     "output_type": "stream",
     "text": [
      "100%|██████████| 36/36 [00:01<00:00, 27.77it/s]\n",
      "  0%|          | 0/36 [00:00<?, ?it/s]"
     ]
    },
    {
     "name": "stdout",
     "output_type": "stream",
     "text": [
      "Total power produced by the wind farm is:  573.878265304353 GWh\n",
      "Both perimeter and proximity constraints are satisfied !!\n",
      "\n",
      "Calculating AEP......\n"
     ]
    },
    {
     "name": "stderr",
     "output_type": "stream",
     "text": [
      "100%|██████████| 36/36 [00:01<00:00, 26.07it/s]\n",
      "  0%|          | 0/36 [00:00<?, ?it/s]"
     ]
    },
    {
     "name": "stdout",
     "output_type": "stream",
     "text": [
      "Total power produced by the wind farm is:  569.767176403047 GWh\n",
      "Both perimeter and proximity constraints are satisfied !!\n",
      "\n",
      "Calculating AEP......\n"
     ]
    },
    {
     "name": "stderr",
     "output_type": "stream",
     "text": [
      "100%|██████████| 36/36 [00:01<00:00, 27.89it/s]\n",
      "  0%|          | 0/36 [00:00<?, ?it/s]"
     ]
    },
    {
     "name": "stdout",
     "output_type": "stream",
     "text": [
      "Total power produced by the wind farm is:  574.655639088561 GWh\n",
      "Both perimeter and proximity constraints are satisfied !!\n",
      "\n",
      "Calculating AEP......\n"
     ]
    },
    {
     "name": "stderr",
     "output_type": "stream",
     "text": [
      "100%|██████████| 36/36 [00:01<00:00, 26.41it/s]\n"
     ]
    },
    {
     "name": "stdout",
     "output_type": "stream",
     "text": [
      "Total power produced by the wind farm is:  571.493680613083 GWh\n",
      "Int64Index([0, 21, 1], dtype='int64')\n",
      "        AEP iteration_num\n",
      "0   575.118             2\n",
      "21  574.656             2\n",
      "1    574.45             2\n",
      "2   574.304             2\n",
      "16   573.88             2\n",
      "19  573.878             2\n",
      "14  573.677             2\n",
      "5   573.217             2\n",
      "13  572.881             2\n",
      "15  572.812             2\n",
      "12  572.679             2\n",
      "8   572.359             2\n",
      "3   572.105             2\n",
      "6   572.051             2\n",
      "9   571.924             2\n",
      "11  571.727             2\n",
      "17  571.717             2\n",
      "4   571.545             2\n",
      "22  571.494             2\n",
      "10  570.717             2\n",
      "18  570.418             2\n",
      "7   570.412             2\n",
      "20  569.767             2\n",
      "sample elite output type is: <class 'list'>\n",
      "iteration: 2\n",
      "length of new population in main function is : 3\n",
      "elite_layout type is: <class 'list'>\n",
      "type of crossover output is : <class 'pandas.core.frame.DataFrame'>\n",
      "lenght of elite layout in cross over before appending is : 3\n",
      "lenght of elite layout in cross over after appending is : 4\n",
      "type of crossover output is : <class 'pandas.core.frame.DataFrame'>\n",
      "lenght of elite layout in cross over before appending is : 4\n",
      "lenght of elite layout in cross over after appending is : 5\n",
      "mutation started\n",
      "lenght of elite layout in mutation before appending is : 5\n",
      "lenght of elite layout in mutation after appending is : 6\n",
      "mutation process is taking progress\n",
      "type of crossover output is : <class 'pandas.core.frame.DataFrame'>\n",
      "lenght of elite layout in cross over before appending is : 6\n",
      "lenght of elite layout in cross over after appending is : 7\n",
      "type of crossover output is : <class 'pandas.core.frame.DataFrame'>\n",
      "lenght of elite layout in cross over before appending is : 7\n",
      "lenght of elite layout in cross over after appending is : 8\n",
      "type of crossover output is : <class 'pandas.core.frame.DataFrame'>\n",
      "lenght of elite layout in cross over before appending is : 8\n",
      "lenght of elite layout in cross over after appending is : 9\n",
      "type of crossover output is : <class 'pandas.core.frame.DataFrame'>\n",
      "lenght of elite layout in cross over before appending is : 9\n",
      "lenght of elite layout in cross over after appending is : 10\n",
      "type of crossover output is : <class 'pandas.core.frame.DataFrame'>\n",
      "lenght of elite layout in cross over before appending is : 10\n",
      "lenght of elite layout in cross over after appending is : 11\n",
      "type of crossover output is : <class 'pandas.core.frame.DataFrame'>\n",
      "lenght of elite layout in cross over before appending is : 11\n",
      "lenght of elite layout in cross over after appending is : 12\n",
      "type of crossover output is : <class 'pandas.core.frame.DataFrame'>\n",
      "lenght of elite layout in cross over before appending is : 12\n",
      "lenght of elite layout in cross over after appending is : 13\n",
      "type of crossover output is : <class 'pandas.core.frame.DataFrame'>\n",
      "lenght of elite layout in cross over before appending is : 13\n",
      "lenght of elite layout in cross over after appending is : 14\n",
      "type of crossover output is : <class 'pandas.core.frame.DataFrame'>\n",
      "lenght of elite layout in cross over before appending is : 14\n",
      "lenght of elite layout in cross over after appending is : 15\n",
      "type of crossover output is : <class 'pandas.core.frame.DataFrame'>\n",
      "lenght of elite layout in cross over before appending is : 15\n",
      "lenght of elite layout in cross over after appending is : 16\n",
      "type of crossover output is : <class 'pandas.core.frame.DataFrame'>\n",
      "lenght of elite layout in cross over before appending is : 16\n",
      "lenght of elite layout in cross over after appending is : 17\n",
      "type of crossover output is : <class 'pandas.core.frame.DataFrame'>\n",
      "lenght of elite layout in cross over before appending is : 17\n",
      "lenght of elite layout in cross over after appending is : 18\n",
      "type of crossover output is : <class 'pandas.core.frame.DataFrame'>\n",
      "lenght of elite layout in cross over before appending is : 18\n",
      "lenght of elite layout in cross over after appending is : 19\n",
      "type of crossover output is : <class 'pandas.core.frame.DataFrame'>\n",
      "lenght of elite layout in cross over before appending is : 19\n",
      "lenght of elite layout in cross over after appending is : 20\n",
      "type of crossover output is : <class 'pandas.core.frame.DataFrame'>\n",
      "lenght of elite layout in cross over before appending is : 20\n",
      "lenght of elite layout in cross over after appending is : 21\n",
      "type of crossover output is : <class 'pandas.core.frame.DataFrame'>\n",
      "lenght of elite layout in cross over before appending is : 21\n",
      "lenght of elite layout in cross over after appending is : 22\n"
     ]
    },
    {
     "name": "stderr",
     "output_type": "stream",
     "text": [
      "  0%|          | 0/36 [00:00<?, ?it/s]"
     ]
    },
    {
     "name": "stdout",
     "output_type": "stream",
     "text": [
      "type of crossover output is : <class 'pandas.core.frame.DataFrame'>\n",
      "lenght of elite layout in cross over before appending is : 22\n",
      "lenght of elite layout in cross over after appending is : 23\n",
      "type of evaluation output is : <class 'list'>\n",
      "Both perimeter and proximity constraints are satisfied !!\n",
      "\n",
      "Calculating AEP......\n"
     ]
    },
    {
     "name": "stderr",
     "output_type": "stream",
     "text": [
      "100%|██████████| 36/36 [00:01<00:00, 27.83it/s]\n",
      "  0%|          | 0/36 [00:00<?, ?it/s]"
     ]
    },
    {
     "name": "stdout",
     "output_type": "stream",
     "text": [
      "Total power produced by the wind farm is:  575.117823284236 GWh\n",
      "Both perimeter and proximity constraints are satisfied !!\n",
      "\n",
      "Calculating AEP......\n"
     ]
    },
    {
     "name": "stderr",
     "output_type": "stream",
     "text": [
      "100%|██████████| 36/36 [00:01<00:00, 26.94it/s]\n",
      "  0%|          | 0/36 [00:00<?, ?it/s]"
     ]
    },
    {
     "name": "stdout",
     "output_type": "stream",
     "text": [
      "Total power produced by the wind farm is:  574.655639088561 GWh\n",
      "Both perimeter and proximity constraints are satisfied !!\n",
      "\n",
      "Calculating AEP......\n"
     ]
    },
    {
     "name": "stderr",
     "output_type": "stream",
     "text": [
      "100%|██████████| 36/36 [00:01<00:00, 26.92it/s]\n",
      "  0%|          | 0/36 [00:00<?, ?it/s]"
     ]
    },
    {
     "name": "stdout",
     "output_type": "stream",
     "text": [
      "Total power produced by the wind farm is:  574.449973850186 GWh\n",
      "Both perimeter and proximity constraints are satisfied !!\n",
      "\n",
      "Calculating AEP......\n"
     ]
    },
    {
     "name": "stderr",
     "output_type": "stream",
     "text": [
      "100%|██████████| 36/36 [00:01<00:00, 27.40it/s]\n",
      "  0%|          | 0/36 [00:00<?, ?it/s]"
     ]
    },
    {
     "name": "stdout",
     "output_type": "stream",
     "text": [
      "Total power produced by the wind farm is:  572.991572709004 GWh\n",
      "Both perimeter and proximity constraints are satisfied !!\n",
      "\n",
      "Calculating AEP......\n"
     ]
    },
    {
     "name": "stderr",
     "output_type": "stream",
     "text": [
      "100%|██████████| 36/36 [00:03<00:00, 11.14it/s]\n",
      "  0%|          | 0/36 [00:00<?, ?it/s]"
     ]
    },
    {
     "name": "stdout",
     "output_type": "stream",
     "text": [
      "Total power produced by the wind farm is:  574.222380096238 GWh\n",
      "Both perimeter and proximity constraints are satisfied !!\n",
      "\n",
      "Calculating AEP......\n"
     ]
    },
    {
     "name": "stderr",
     "output_type": "stream",
     "text": [
      "100%|██████████| 36/36 [00:01<00:00, 27.91it/s]\n",
      "  0%|          | 0/36 [00:00<?, ?it/s]"
     ]
    },
    {
     "name": "stdout",
     "output_type": "stream",
     "text": [
      "Total power produced by the wind farm is:  570.372385928972 GWh\n",
      "Both perimeter and proximity constraints are satisfied !!\n",
      "\n",
      "Calculating AEP......\n"
     ]
    },
    {
     "name": "stderr",
     "output_type": "stream",
     "text": [
      "100%|██████████| 36/36 [00:01<00:00, 28.06it/s]\n",
      "  0%|          | 0/36 [00:00<?, ?it/s]"
     ]
    },
    {
     "name": "stdout",
     "output_type": "stream",
     "text": [
      "Total power produced by the wind farm is:  573.048170393756 GWh\n",
      "Both perimeter and proximity constraints are satisfied !!\n",
      "\n",
      "Calculating AEP......\n"
     ]
    },
    {
     "name": "stderr",
     "output_type": "stream",
     "text": [
      "100%|██████████| 36/36 [00:01<00:00, 27.12it/s]\n",
      "  0%|          | 0/36 [00:00<?, ?it/s]"
     ]
    },
    {
     "name": "stdout",
     "output_type": "stream",
     "text": [
      "Total power produced by the wind farm is:  573.990773003413 GWh\n",
      "Both perimeter and proximity constraints are satisfied !!\n",
      "\n",
      "Calculating AEP......\n"
     ]
    },
    {
     "name": "stderr",
     "output_type": "stream",
     "text": [
      "100%|██████████| 36/36 [00:01<00:00, 26.98it/s]\n",
      "  0%|          | 0/36 [00:00<?, ?it/s]"
     ]
    },
    {
     "name": "stdout",
     "output_type": "stream",
     "text": [
      "Total power produced by the wind farm is:  573.649513023616 GWh\n",
      "Both perimeter and proximity constraints are satisfied !!\n",
      "\n",
      "Calculating AEP......\n"
     ]
    },
    {
     "name": "stderr",
     "output_type": "stream",
     "text": [
      "100%|██████████| 36/36 [00:01<00:00, 26.18it/s]\n",
      "  0%|          | 0/36 [00:00<?, ?it/s]"
     ]
    },
    {
     "name": "stdout",
     "output_type": "stream",
     "text": [
      "Total power produced by the wind farm is:  573.135917460290 GWh\n",
      "Both perimeter and proximity constraints are satisfied !!\n",
      "\n",
      "Calculating AEP......\n"
     ]
    },
    {
     "name": "stderr",
     "output_type": "stream",
     "text": [
      "100%|██████████| 36/36 [00:01<00:00, 26.18it/s]\n",
      "  0%|          | 0/36 [00:00<?, ?it/s]"
     ]
    },
    {
     "name": "stdout",
     "output_type": "stream",
     "text": [
      "Total power produced by the wind farm is:  573.640581932258 GWh\n",
      "Both perimeter and proximity constraints are satisfied !!\n",
      "\n",
      "Calculating AEP......\n"
     ]
    },
    {
     "name": "stderr",
     "output_type": "stream",
     "text": [
      "100%|██████████| 36/36 [00:01<00:00, 26.40it/s]\n",
      "  0%|          | 0/36 [00:00<?, ?it/s]"
     ]
    },
    {
     "name": "stdout",
     "output_type": "stream",
     "text": [
      "Total power produced by the wind farm is:  573.960715696172 GWh\n",
      "Both perimeter and proximity constraints are satisfied !!\n",
      "\n",
      "Calculating AEP......\n"
     ]
    },
    {
     "name": "stderr",
     "output_type": "stream",
     "text": [
      "100%|██████████| 36/36 [00:01<00:00, 26.37it/s]\n",
      "  0%|          | 0/36 [00:00<?, ?it/s]"
     ]
    },
    {
     "name": "stdout",
     "output_type": "stream",
     "text": [
      "Total power produced by the wind farm is:  573.915051941997 GWh\n",
      "Both perimeter and proximity constraints are satisfied !!\n",
      "\n",
      "Calculating AEP......\n"
     ]
    },
    {
     "name": "stderr",
     "output_type": "stream",
     "text": [
      "100%|██████████| 36/36 [00:01<00:00, 26.69it/s]\n",
      "  0%|          | 0/36 [00:00<?, ?it/s]"
     ]
    },
    {
     "name": "stdout",
     "output_type": "stream",
     "text": [
      "Total power produced by the wind farm is:  573.199864345408 GWh\n",
      "Both perimeter and proximity constraints are satisfied !!\n",
      "\n",
      "Calculating AEP......\n"
     ]
    },
    {
     "name": "stderr",
     "output_type": "stream",
     "text": [
      "100%|██████████| 36/36 [00:01<00:00, 26.13it/s]\n",
      "  0%|          | 0/36 [00:00<?, ?it/s]"
     ]
    },
    {
     "name": "stdout",
     "output_type": "stream",
     "text": [
      "Total power produced by the wind farm is:  571.868629300814 GWh\n",
      "Both perimeter and proximity constraints are satisfied !!\n",
      "\n",
      "Calculating AEP......\n"
     ]
    },
    {
     "name": "stderr",
     "output_type": "stream",
     "text": [
      "100%|██████████| 36/36 [00:01<00:00, 25.75it/s]\n",
      "  0%|          | 0/36 [00:00<?, ?it/s]"
     ]
    },
    {
     "name": "stdout",
     "output_type": "stream",
     "text": [
      "Total power produced by the wind farm is:  574.118292248275 GWh\n",
      "Both perimeter and proximity constraints are satisfied !!\n",
      "\n",
      "Calculating AEP......\n"
     ]
    },
    {
     "name": "stderr",
     "output_type": "stream",
     "text": [
      "100%|██████████| 36/36 [00:01<00:00, 26.35it/s]\n",
      "  0%|          | 0/36 [00:00<?, ?it/s]"
     ]
    },
    {
     "name": "stdout",
     "output_type": "stream",
     "text": [
      "Total power produced by the wind farm is:  572.232987935814 GWh\n",
      "Both perimeter and proximity constraints are satisfied !!\n",
      "\n",
      "Calculating AEP......\n"
     ]
    },
    {
     "name": "stderr",
     "output_type": "stream",
     "text": [
      "100%|██████████| 36/36 [00:01<00:00, 26.88it/s]\n",
      "  0%|          | 0/36 [00:00<?, ?it/s]"
     ]
    },
    {
     "name": "stdout",
     "output_type": "stream",
     "text": [
      "Total power produced by the wind farm is:  572.352579087282 GWh\n",
      "Both perimeter and proximity constraints are satisfied !!\n",
      "\n",
      "Calculating AEP......\n"
     ]
    },
    {
     "name": "stderr",
     "output_type": "stream",
     "text": [
      "100%|██████████| 36/36 [00:01<00:00, 25.87it/s]\n",
      "  0%|          | 0/36 [00:00<?, ?it/s]"
     ]
    },
    {
     "name": "stdout",
     "output_type": "stream",
     "text": [
      "Total power produced by the wind farm is:  573.140981066598 GWh\n",
      "Both perimeter and proximity constraints are satisfied !!\n",
      "\n",
      "Calculating AEP......\n"
     ]
    },
    {
     "name": "stderr",
     "output_type": "stream",
     "text": [
      "100%|██████████| 36/36 [00:01<00:00, 26.56it/s]\n",
      "  0%|          | 0/36 [00:00<?, ?it/s]"
     ]
    },
    {
     "name": "stdout",
     "output_type": "stream",
     "text": [
      "Total power produced by the wind farm is:  571.687874491396 GWh\n",
      "Both perimeter and proximity constraints are satisfied !!\n",
      "\n",
      "Calculating AEP......\n"
     ]
    },
    {
     "name": "stderr",
     "output_type": "stream",
     "text": [
      "100%|██████████| 36/36 [00:03<00:00, 11.37it/s]\n",
      "  0%|          | 0/36 [00:00<?, ?it/s]"
     ]
    },
    {
     "name": "stdout",
     "output_type": "stream",
     "text": [
      "Total power produced by the wind farm is:  571.923095516224 GWh\n",
      "Both perimeter and proximity constraints are satisfied !!\n",
      "\n",
      "Calculating AEP......\n"
     ]
    },
    {
     "name": "stderr",
     "output_type": "stream",
     "text": [
      "100%|██████████| 36/36 [00:01<00:00, 24.17it/s]\n",
      "  0%|          | 0/36 [00:00<?, ?it/s]"
     ]
    },
    {
     "name": "stdout",
     "output_type": "stream",
     "text": [
      "Total power produced by the wind farm is:  573.207501679587 GWh\n",
      "Both perimeter and proximity constraints are satisfied !!\n",
      "\n",
      "Calculating AEP......\n"
     ]
    },
    {
     "name": "stderr",
     "output_type": "stream",
     "text": [
      "100%|██████████| 36/36 [00:01<00:00, 25.19it/s]\n"
     ]
    },
    {
     "name": "stdout",
     "output_type": "stream",
     "text": [
      "Total power produced by the wind farm is:  573.458791559709 GWh\n",
      "Int64Index([0, 1, 2], dtype='int64')\n",
      "        AEP iteration_num\n",
      "0   575.118             3\n",
      "1   574.656             3\n",
      "2    574.45             3\n",
      "4   574.222             3\n",
      "15  574.118             3\n",
      "7   573.991             3\n",
      "11  573.961             3\n",
      "12  573.915             3\n",
      "8    573.65             3\n",
      "10  573.641             3\n",
      "22  573.459             3\n",
      "21  573.208             3\n",
      "13    573.2             3\n",
      "18  573.141             3\n",
      "9   573.136             3\n",
      "6   573.048             3\n",
      "3   572.992             3\n",
      "17  572.353             3\n",
      "16  572.233             3\n",
      "20  571.923             3\n",
      "14  571.869             3\n",
      "19  571.688             3\n",
      "5   570.372             3\n",
      "sample elite output type is: <class 'list'>\n",
      "iteration: 3\n",
      "length of new population in main function is : 3\n",
      "elite_layout type is: <class 'list'>\n",
      "type of crossover output is : <class 'pandas.core.frame.DataFrame'>\n",
      "lenght of elite layout in cross over before appending is : 3\n",
      "lenght of elite layout in cross over after appending is : 4\n",
      "mutation started\n",
      "lenght of elite layout in mutation before appending is : 4\n",
      "lenght of elite layout in mutation after appending is : 5\n",
      "mutation process is taking progress\n",
      "type of crossover output is : <class 'pandas.core.frame.DataFrame'>\n",
      "lenght of elite layout in cross over before appending is : 5\n",
      "lenght of elite layout in cross over after appending is : 6\n",
      "type of crossover output is : <class 'pandas.core.frame.DataFrame'>\n",
      "lenght of elite layout in cross over before appending is : 6\n",
      "lenght of elite layout in cross over after appending is : 7\n",
      "mutation started\n",
      "lenght of elite layout in mutation before appending is : 7\n",
      "lenght of elite layout in mutation after appending is : 8\n",
      "mutation process is taking progress\n",
      "type of crossover output is : <class 'pandas.core.frame.DataFrame'>\n",
      "lenght of elite layout in cross over before appending is : 8\n",
      "lenght of elite layout in cross over after appending is : 9\n",
      "type of crossover output is : <class 'pandas.core.frame.DataFrame'>\n",
      "lenght of elite layout in cross over before appending is : 9\n",
      "lenght of elite layout in cross over after appending is : 10\n",
      "type of crossover output is : <class 'pandas.core.frame.DataFrame'>\n",
      "lenght of elite layout in cross over before appending is : 10\n",
      "lenght of elite layout in cross over after appending is : 11\n",
      "type of crossover output is : <class 'pandas.core.frame.DataFrame'>\n",
      "lenght of elite layout in cross over before appending is : 11\n",
      "lenght of elite layout in cross over after appending is : 12\n",
      "type of crossover output is : <class 'pandas.core.frame.DataFrame'>\n",
      "lenght of elite layout in cross over before appending is : 12\n",
      "lenght of elite layout in cross over after appending is : 13\n",
      "type of crossover output is : <class 'pandas.core.frame.DataFrame'>\n",
      "lenght of elite layout in cross over before appending is : 13\n",
      "lenght of elite layout in cross over after appending is : 14\n",
      "type of crossover output is : <class 'pandas.core.frame.DataFrame'>\n",
      "lenght of elite layout in cross over before appending is : 14\n",
      "lenght of elite layout in cross over after appending is : 15\n",
      "type of crossover output is : <class 'pandas.core.frame.DataFrame'>\n",
      "lenght of elite layout in cross over before appending is : 15\n",
      "lenght of elite layout in cross over after appending is : 16\n",
      "type of crossover output is : <class 'pandas.core.frame.DataFrame'>\n",
      "lenght of elite layout in cross over before appending is : 16\n",
      "lenght of elite layout in cross over after appending is : 17\n",
      "type of crossover output is : <class 'pandas.core.frame.DataFrame'>\n",
      "lenght of elite layout in cross over before appending is : 17\n",
      "lenght of elite layout in cross over after appending is : 18\n",
      "type of crossover output is : <class 'pandas.core.frame.DataFrame'>\n",
      "lenght of elite layout in cross over before appending is : 18\n",
      "lenght of elite layout in cross over after appending is : 19\n",
      "type of crossover output is : <class 'pandas.core.frame.DataFrame'>\n",
      "lenght of elite layout in cross over before appending is : 19\n",
      "lenght of elite layout in cross over after appending is : 20\n",
      "type of crossover output is : <class 'pandas.core.frame.DataFrame'>\n",
      "lenght of elite layout in cross over before appending is : 20\n",
      "lenght of elite layout in cross over after appending is : 21\n",
      "type of crossover output is : <class 'pandas.core.frame.DataFrame'>\n",
      "lenght of elite layout in cross over before appending is : 21\n",
      "lenght of elite layout in cross over after appending is : 22\n"
     ]
    },
    {
     "name": "stderr",
     "output_type": "stream",
     "text": [
      "  0%|          | 0/36 [00:00<?, ?it/s]"
     ]
    },
    {
     "name": "stdout",
     "output_type": "stream",
     "text": [
      "type of crossover output is : <class 'pandas.core.frame.DataFrame'>\n",
      "lenght of elite layout in cross over before appending is : 22\n",
      "lenght of elite layout in cross over after appending is : 23\n",
      "type of evaluation output is : <class 'list'>\n",
      "Both perimeter and proximity constraints are satisfied !!\n",
      "\n",
      "Calculating AEP......\n"
     ]
    },
    {
     "name": "stderr",
     "output_type": "stream",
     "text": [
      "100%|██████████| 36/36 [00:01<00:00, 23.44it/s]\n",
      "  0%|          | 0/36 [00:00<?, ?it/s]"
     ]
    },
    {
     "name": "stdout",
     "output_type": "stream",
     "text": [
      "Total power produced by the wind farm is:  575.117823284236 GWh\n",
      "Both perimeter and proximity constraints are satisfied !!\n",
      "\n",
      "Calculating AEP......\n"
     ]
    },
    {
     "name": "stderr",
     "output_type": "stream",
     "text": [
      "100%|██████████| 36/36 [00:01<00:00, 26.38it/s]\n",
      "  0%|          | 0/36 [00:00<?, ?it/s]"
     ]
    },
    {
     "name": "stdout",
     "output_type": "stream",
     "text": [
      "Total power produced by the wind farm is:  574.655639088561 GWh\n",
      "Both perimeter and proximity constraints are satisfied !!\n",
      "\n",
      "Calculating AEP......\n"
     ]
    },
    {
     "name": "stderr",
     "output_type": "stream",
     "text": [
      "100%|██████████| 36/36 [00:01<00:00, 25.03it/s]\n",
      "  0%|          | 0/36 [00:00<?, ?it/s]"
     ]
    },
    {
     "name": "stdout",
     "output_type": "stream",
     "text": [
      "Total power produced by the wind farm is:  574.449973850186 GWh\n",
      "Both perimeter and proximity constraints are satisfied !!\n",
      "\n",
      "Calculating AEP......\n"
     ]
    },
    {
     "name": "stderr",
     "output_type": "stream",
     "text": [
      "100%|██████████| 36/36 [00:01<00:00, 26.22it/s]\n",
      "  0%|          | 0/36 [00:00<?, ?it/s]"
     ]
    },
    {
     "name": "stdout",
     "output_type": "stream",
     "text": [
      "Total power produced by the wind farm is:  571.835437590298 GWh\n",
      "Both perimeter and proximity constraints are satisfied !!\n",
      "\n",
      "Calculating AEP......\n"
     ]
    },
    {
     "name": "stderr",
     "output_type": "stream",
     "text": [
      "100%|██████████| 36/36 [00:01<00:00, 25.51it/s]\n",
      "  0%|          | 0/36 [00:00<?, ?it/s]"
     ]
    },
    {
     "name": "stdout",
     "output_type": "stream",
     "text": [
      "Total power produced by the wind farm is:  570.925031218365 GWh\n",
      "Both perimeter and proximity constraints are satisfied !!\n",
      "\n",
      "Calculating AEP......\n"
     ]
    },
    {
     "name": "stderr",
     "output_type": "stream",
     "text": [
      "100%|██████████| 36/36 [00:01<00:00, 25.91it/s]\n",
      "  0%|          | 0/36 [00:00<?, ?it/s]"
     ]
    },
    {
     "name": "stdout",
     "output_type": "stream",
     "text": [
      "Total power produced by the wind farm is:  574.665052653249 GWh\n",
      "Both perimeter and proximity constraints are satisfied !!\n",
      "\n",
      "Calculating AEP......\n"
     ]
    },
    {
     "name": "stderr",
     "output_type": "stream",
     "text": [
      "100%|██████████| 36/36 [00:01<00:00, 26.28it/s]\n",
      "  0%|          | 0/36 [00:00<?, ?it/s]"
     ]
    },
    {
     "name": "stdout",
     "output_type": "stream",
     "text": [
      "Total power produced by the wind farm is:  574.779227778925 GWh\n",
      "Both perimeter and proximity constraints are satisfied !!\n",
      "\n",
      "Calculating AEP......\n"
     ]
    },
    {
     "name": "stderr",
     "output_type": "stream",
     "text": [
      "100%|██████████| 36/36 [00:01<00:00, 26.68it/s]\n",
      "  0%|          | 0/36 [00:00<?, ?it/s]"
     ]
    },
    {
     "name": "stdout",
     "output_type": "stream",
     "text": [
      "Total power produced by the wind farm is:  571.395242951312 GWh\n",
      "Both perimeter and proximity constraints are satisfied !!\n",
      "\n",
      "Calculating AEP......\n"
     ]
    },
    {
     "name": "stderr",
     "output_type": "stream",
     "text": [
      "100%|██████████| 36/36 [00:01<00:00, 26.63it/s]\n",
      "  0%|          | 0/36 [00:00<?, ?it/s]"
     ]
    },
    {
     "name": "stdout",
     "output_type": "stream",
     "text": [
      "Total power produced by the wind farm is:  572.771412951388 GWh\n",
      "Both perimeter and proximity constraints are satisfied !!\n",
      "\n",
      "Calculating AEP......\n"
     ]
    },
    {
     "name": "stderr",
     "output_type": "stream",
     "text": [
      "100%|██████████| 36/36 [00:01<00:00, 26.63it/s]\n",
      "  0%|          | 0/36 [00:00<?, ?it/s]"
     ]
    },
    {
     "name": "stdout",
     "output_type": "stream",
     "text": [
      "Total power produced by the wind farm is:  573.598821535154 GWh\n",
      "Both perimeter and proximity constraints are satisfied !!\n",
      "\n",
      "Calculating AEP......\n"
     ]
    },
    {
     "name": "stderr",
     "output_type": "stream",
     "text": [
      "100%|██████████| 36/36 [00:01<00:00, 26.91it/s]\n",
      "  0%|          | 0/36 [00:00<?, ?it/s]"
     ]
    },
    {
     "name": "stdout",
     "output_type": "stream",
     "text": [
      "Total power produced by the wind farm is:  574.255204865855 GWh\n",
      "Both perimeter and proximity constraints are satisfied !!\n",
      "\n",
      "Calculating AEP......\n"
     ]
    },
    {
     "name": "stderr",
     "output_type": "stream",
     "text": [
      "100%|██████████| 36/36 [00:01<00:00, 27.04it/s]\n",
      "  0%|          | 0/36 [00:00<?, ?it/s]"
     ]
    },
    {
     "name": "stdout",
     "output_type": "stream",
     "text": [
      "Total power produced by the wind farm is:  572.158909377241 GWh\n",
      "Both perimeter and proximity constraints are satisfied !!\n",
      "\n",
      "Calculating AEP......\n"
     ]
    },
    {
     "name": "stderr",
     "output_type": "stream",
     "text": [
      "100%|██████████| 36/36 [00:01<00:00, 27.20it/s]\n",
      "  0%|          | 0/36 [00:00<?, ?it/s]"
     ]
    },
    {
     "name": "stdout",
     "output_type": "stream",
     "text": [
      "Total power produced by the wind farm is:  571.757846372269 GWh\n",
      "Both perimeter and proximity constraints are satisfied !!\n",
      "\n",
      "Calculating AEP......\n"
     ]
    },
    {
     "name": "stderr",
     "output_type": "stream",
     "text": [
      "100%|██████████| 36/36 [00:01<00:00, 26.86it/s]\n",
      "  0%|          | 0/36 [00:00<?, ?it/s]"
     ]
    },
    {
     "name": "stdout",
     "output_type": "stream",
     "text": [
      "Total power produced by the wind farm is:  572.037097278360 GWh\n",
      "Both perimeter and proximity constraints are satisfied !!\n",
      "\n",
      "Calculating AEP......\n"
     ]
    },
    {
     "name": "stderr",
     "output_type": "stream",
     "text": [
      "100%|██████████| 36/36 [00:03<00:00, 10.01it/s]\n",
      "  0%|          | 0/36 [00:00<?, ?it/s]"
     ]
    },
    {
     "name": "stdout",
     "output_type": "stream",
     "text": [
      "Total power produced by the wind farm is:  572.889768397814 GWh\n",
      "Both perimeter and proximity constraints are satisfied !!\n",
      "\n",
      "Calculating AEP......\n"
     ]
    },
    {
     "name": "stderr",
     "output_type": "stream",
     "text": [
      "100%|██████████| 36/36 [00:01<00:00, 27.12it/s]\n",
      "  0%|          | 0/36 [00:00<?, ?it/s]"
     ]
    },
    {
     "name": "stdout",
     "output_type": "stream",
     "text": [
      "Total power produced by the wind farm is:  572.764689130213 GWh\n",
      "Both perimeter and proximity constraints are satisfied !!\n",
      "\n",
      "Calculating AEP......\n"
     ]
    },
    {
     "name": "stderr",
     "output_type": "stream",
     "text": [
      "100%|██████████| 36/36 [00:01<00:00, 26.31it/s]\n",
      "  0%|          | 0/36 [00:00<?, ?it/s]"
     ]
    },
    {
     "name": "stdout",
     "output_type": "stream",
     "text": [
      "Total power produced by the wind farm is:  573.707906116355 GWh\n",
      "Both perimeter and proximity constraints are satisfied !!\n",
      "\n",
      "Calculating AEP......\n"
     ]
    },
    {
     "name": "stderr",
     "output_type": "stream",
     "text": [
      "100%|██████████| 36/36 [00:01<00:00, 27.35it/s]\n",
      "  0%|          | 0/36 [00:00<?, ?it/s]"
     ]
    },
    {
     "name": "stdout",
     "output_type": "stream",
     "text": [
      "Total power produced by the wind farm is:  574.681141099802 GWh\n",
      "Both perimeter and proximity constraints are satisfied !!\n",
      "\n",
      "Calculating AEP......\n"
     ]
    },
    {
     "name": "stderr",
     "output_type": "stream",
     "text": [
      "100%|██████████| 36/36 [00:01<00:00, 25.44it/s]\n",
      "  0%|          | 0/36 [00:00<?, ?it/s]"
     ]
    },
    {
     "name": "stdout",
     "output_type": "stream",
     "text": [
      "Total power produced by the wind farm is:  571.549094265846 GWh\n",
      "Both perimeter and proximity constraints are satisfied !!\n",
      "\n",
      "Calculating AEP......\n"
     ]
    },
    {
     "name": "stderr",
     "output_type": "stream",
     "text": [
      "100%|██████████| 36/36 [00:01<00:00, 26.22it/s]\n",
      "  0%|          | 0/36 [00:00<?, ?it/s]"
     ]
    },
    {
     "name": "stdout",
     "output_type": "stream",
     "text": [
      "Total power produced by the wind farm is:  572.524627737120 GWh\n",
      "Both perimeter and proximity constraints are satisfied !!\n",
      "\n",
      "Calculating AEP......\n"
     ]
    },
    {
     "name": "stderr",
     "output_type": "stream",
     "text": [
      "100%|██████████| 36/36 [00:01<00:00, 25.40it/s]\n",
      "  0%|          | 0/36 [00:00<?, ?it/s]"
     ]
    },
    {
     "name": "stdout",
     "output_type": "stream",
     "text": [
      "Total power produced by the wind farm is:  572.788390132444 GWh\n",
      "Both perimeter and proximity constraints are satisfied !!\n",
      "\n",
      "Calculating AEP......\n"
     ]
    },
    {
     "name": "stderr",
     "output_type": "stream",
     "text": [
      "100%|██████████| 36/36 [00:01<00:00, 26.65it/s]\n",
      "  0%|          | 0/36 [00:00<?, ?it/s]"
     ]
    },
    {
     "name": "stdout",
     "output_type": "stream",
     "text": [
      "Total power produced by the wind farm is:  574.465140401125 GWh\n",
      "Both perimeter and proximity constraints are satisfied !!\n",
      "\n",
      "Calculating AEP......\n"
     ]
    },
    {
     "name": "stderr",
     "output_type": "stream",
     "text": [
      "100%|██████████| 36/36 [00:01<00:00, 27.01it/s]\n"
     ]
    },
    {
     "name": "stdout",
     "output_type": "stream",
     "text": [
      "Total power produced by the wind farm is:  574.430160674335 GWh\n",
      "Int64Index([0, 6, 17], dtype='int64')\n",
      "        AEP iteration_num\n",
      "0   575.118             4\n",
      "6   574.779             4\n",
      "17  574.681             4\n",
      "5   574.665             4\n",
      "1   574.656             4\n",
      "21  574.465             4\n",
      "2    574.45             4\n",
      "22   574.43             4\n",
      "10  574.255             4\n",
      "16  573.708             4\n",
      "9   573.599             4\n",
      "14   572.89             4\n",
      "20  572.788             4\n",
      "8   572.771             4\n",
      "15  572.765             4\n",
      "19  572.525             4\n",
      "11  572.159             4\n",
      "13  572.037             4\n",
      "3   571.835             4\n",
      "12  571.758             4\n",
      "18  571.549             4\n",
      "7   571.395             4\n",
      "4   570.925             4\n",
      "sample elite output type is: <class 'list'>\n",
      "iteration: 4\n",
      "length of new population in main function is : 3\n",
      "elite_layout type is: <class 'list'>\n",
      "mutation started\n",
      "lenght of elite layout in mutation before appending is : 3\n",
      "lenght of elite layout in mutation after appending is : 4\n",
      "mutation process is taking progress\n",
      "mutation started\n",
      "lenght of elite layout in mutation before appending is : 4\n",
      "lenght of elite layout in mutation after appending is : 5\n",
      "mutation process is taking progress\n",
      "type of crossover output is : <class 'pandas.core.frame.DataFrame'>\n",
      "lenght of elite layout in cross over before appending is : 5\n",
      "lenght of elite layout in cross over after appending is : 6\n",
      "mutation started\n",
      "lenght of elite layout in mutation before appending is : 6\n",
      "lenght of elite layout in mutation after appending is : 7\n",
      "mutation process is taking progress\n",
      "type of crossover output is : <class 'pandas.core.frame.DataFrame'>\n",
      "lenght of elite layout in cross over before appending is : 7\n",
      "lenght of elite layout in cross over after appending is : 8\n",
      "type of crossover output is : <class 'pandas.core.frame.DataFrame'>\n",
      "lenght of elite layout in cross over before appending is : 8\n",
      "lenght of elite layout in cross over after appending is : 9\n",
      "type of crossover output is : <class 'pandas.core.frame.DataFrame'>\n",
      "lenght of elite layout in cross over before appending is : 9\n",
      "lenght of elite layout in cross over after appending is : 10\n",
      "type of crossover output is : <class 'pandas.core.frame.DataFrame'>\n",
      "lenght of elite layout in cross over before appending is : 10\n",
      "lenght of elite layout in cross over after appending is : 11\n",
      "type of crossover output is : <class 'pandas.core.frame.DataFrame'>\n",
      "lenght of elite layout in cross over before appending is : 11\n",
      "lenght of elite layout in cross over after appending is : 12\n",
      "type of crossover output is : <class 'pandas.core.frame.DataFrame'>\n",
      "lenght of elite layout in cross over before appending is : 12\n",
      "lenght of elite layout in cross over after appending is : 13\n",
      "type of crossover output is : <class 'pandas.core.frame.DataFrame'>\n",
      "lenght of elite layout in cross over before appending is : 13\n",
      "lenght of elite layout in cross over after appending is : 14\n",
      "type of crossover output is : <class 'pandas.core.frame.DataFrame'>\n",
      "lenght of elite layout in cross over before appending is : 14\n",
      "lenght of elite layout in cross over after appending is : 15\n",
      "mutation started\n",
      "lenght of elite layout in mutation before appending is : 15\n",
      "lenght of elite layout in mutation after appending is : 16\n",
      "mutation process is taking progress\n",
      "type of crossover output is : <class 'pandas.core.frame.DataFrame'>\n",
      "lenght of elite layout in cross over before appending is : 16\n",
      "lenght of elite layout in cross over after appending is : 17\n",
      "type of crossover output is : <class 'pandas.core.frame.DataFrame'>\n",
      "lenght of elite layout in cross over before appending is : 17\n",
      "lenght of elite layout in cross over after appending is : 18\n",
      "type of crossover output is : <class 'pandas.core.frame.DataFrame'>\n",
      "lenght of elite layout in cross over before appending is : 18\n",
      "lenght of elite layout in cross over after appending is : 19\n",
      "type of crossover output is : <class 'pandas.core.frame.DataFrame'>\n",
      "lenght of elite layout in cross over before appending is : 19\n",
      "lenght of elite layout in cross over after appending is : 20\n",
      "type of crossover output is : <class 'pandas.core.frame.DataFrame'>\n",
      "lenght of elite layout in cross over before appending is : 20\n",
      "lenght of elite layout in cross over after appending is : 21\n",
      "type of crossover output is : <class 'pandas.core.frame.DataFrame'>\n",
      "lenght of elite layout in cross over before appending is : 21\n",
      "lenght of elite layout in cross over after appending is : 22\n"
     ]
    },
    {
     "name": "stderr",
     "output_type": "stream",
     "text": [
      "  0%|          | 0/36 [00:00<?, ?it/s]"
     ]
    },
    {
     "name": "stdout",
     "output_type": "stream",
     "text": [
      "type of crossover output is : <class 'pandas.core.frame.DataFrame'>\n",
      "lenght of elite layout in cross over before appending is : 22\n",
      "lenght of elite layout in cross over after appending is : 23\n",
      "type of evaluation output is : <class 'list'>\n",
      "Both perimeter and proximity constraints are satisfied !!\n",
      "\n",
      "Calculating AEP......\n"
     ]
    },
    {
     "name": "stderr",
     "output_type": "stream",
     "text": [
      "100%|██████████| 36/36 [00:01<00:00, 26.98it/s]\n",
      "  0%|          | 0/36 [00:00<?, ?it/s]"
     ]
    },
    {
     "name": "stdout",
     "output_type": "stream",
     "text": [
      "Total power produced by the wind farm is:  575.117823284236 GWh\n",
      "Both perimeter and proximity constraints are satisfied !!\n",
      "\n",
      "Calculating AEP......\n"
     ]
    },
    {
     "name": "stderr",
     "output_type": "stream",
     "text": [
      "100%|██████████| 36/36 [00:01<00:00, 26.31it/s]\n",
      "  0%|          | 0/36 [00:00<?, ?it/s]"
     ]
    },
    {
     "name": "stdout",
     "output_type": "stream",
     "text": [
      "Total power produced by the wind farm is:  574.779227778925 GWh\n",
      "Both perimeter and proximity constraints are satisfied !!\n",
      "\n",
      "Calculating AEP......\n"
     ]
    },
    {
     "name": "stderr",
     "output_type": "stream",
     "text": [
      "100%|██████████| 36/36 [00:01<00:00, 27.59it/s]\n",
      "  0%|          | 0/36 [00:00<?, ?it/s]"
     ]
    },
    {
     "name": "stdout",
     "output_type": "stream",
     "text": [
      "Total power produced by the wind farm is:  574.681141099802 GWh\n",
      "Both perimeter and proximity constraints are satisfied !!\n",
      "\n",
      "Calculating AEP......\n"
     ]
    },
    {
     "name": "stderr",
     "output_type": "stream",
     "text": [
      "100%|██████████| 36/36 [00:01<00:00, 27.69it/s]\n",
      "  0%|          | 0/36 [00:00<?, ?it/s]"
     ]
    },
    {
     "name": "stdout",
     "output_type": "stream",
     "text": [
      "Total power produced by the wind farm is:  571.362581733251 GWh\n",
      "Both perimeter and proximity constraints are satisfied !!\n",
      "\n",
      "Calculating AEP......\n"
     ]
    },
    {
     "name": "stderr",
     "output_type": "stream",
     "text": [
      "100%|██████████| 36/36 [00:01<00:00, 27.80it/s]\n",
      "  0%|          | 0/36 [00:00<?, ?it/s]"
     ]
    },
    {
     "name": "stdout",
     "output_type": "stream",
     "text": [
      "Total power produced by the wind farm is:  569.886069015663 GWh\n",
      "Both perimeter and proximity constraints are satisfied !!\n",
      "\n",
      "Calculating AEP......\n"
     ]
    },
    {
     "name": "stderr",
     "output_type": "stream",
     "text": [
      "100%|██████████| 36/36 [00:01<00:00, 27.77it/s]\n",
      "  0%|          | 0/36 [00:00<?, ?it/s]"
     ]
    },
    {
     "name": "stdout",
     "output_type": "stream",
     "text": [
      "Total power produced by the wind farm is:  574.086509159640 GWh\n",
      "Both perimeter and proximity constraints are satisfied !!\n",
      "\n",
      "Calculating AEP......\n"
     ]
    },
    {
     "name": "stderr",
     "output_type": "stream",
     "text": [
      "100%|██████████| 36/36 [00:01<00:00, 27.25it/s]\n",
      "  0%|          | 0/36 [00:00<?, ?it/s]"
     ]
    },
    {
     "name": "stdout",
     "output_type": "stream",
     "text": [
      "Total power produced by the wind farm is:  571.346298939484 GWh\n",
      "Both perimeter and proximity constraints are satisfied !!\n",
      "\n",
      "Calculating AEP......\n"
     ]
    },
    {
     "name": "stderr",
     "output_type": "stream",
     "text": [
      "100%|██████████| 36/36 [00:03<00:00,  9.44it/s]\n"
     ]
    },
    {
     "name": "stdout",
     "output_type": "stream",
     "text": [
      "Total power produced by the wind farm is:  574.257231075668 GWh\n"
     ]
    },
    {
     "name": "stderr",
     "output_type": "stream",
     "text": [
      "  0%|          | 0/36 [00:00<?, ?it/s]"
     ]
    },
    {
     "name": "stdout",
     "output_type": "stream",
     "text": [
      "Both perimeter and proximity constraints are satisfied !!\n",
      "\n",
      "Calculating AEP......\n"
     ]
    },
    {
     "name": "stderr",
     "output_type": "stream",
     "text": [
      "100%|██████████| 36/36 [00:01<00:00, 26.01it/s]\n",
      "  0%|          | 0/36 [00:00<?, ?it/s]"
     ]
    },
    {
     "name": "stdout",
     "output_type": "stream",
     "text": [
      "Total power produced by the wind farm is:  574.036973099266 GWh\n",
      "Both perimeter and proximity constraints are satisfied !!\n",
      "\n",
      "Calculating AEP......\n"
     ]
    },
    {
     "name": "stderr",
     "output_type": "stream",
     "text": [
      "100%|██████████| 36/36 [00:01<00:00, 28.11it/s]\n",
      "  0%|          | 0/36 [00:00<?, ?it/s]"
     ]
    },
    {
     "name": "stdout",
     "output_type": "stream",
     "text": [
      "Total power produced by the wind farm is:  574.681140790203 GWh\n",
      "Both perimeter and proximity constraints are satisfied !!\n",
      "\n",
      "Calculating AEP......\n"
     ]
    },
    {
     "name": "stderr",
     "output_type": "stream",
     "text": [
      "100%|██████████| 36/36 [00:01<00:00, 26.14it/s]\n",
      "  0%|          | 0/36 [00:00<?, ?it/s]"
     ]
    },
    {
     "name": "stdout",
     "output_type": "stream",
     "text": [
      "Total power produced by the wind farm is:  574.454057435363 GWh\n",
      "Both perimeter and proximity constraints are satisfied !!\n",
      "\n",
      "Calculating AEP......\n"
     ]
    },
    {
     "name": "stderr",
     "output_type": "stream",
     "text": [
      "100%|██████████| 36/36 [00:01<00:00, 27.08it/s]\n",
      "  0%|          | 0/36 [00:00<?, ?it/s]"
     ]
    },
    {
     "name": "stdout",
     "output_type": "stream",
     "text": [
      "Total power produced by the wind farm is:  574.181050054349 GWh\n",
      "Both perimeter and proximity constraints are satisfied !!\n",
      "\n",
      "Calculating AEP......\n"
     ]
    },
    {
     "name": "stderr",
     "output_type": "stream",
     "text": [
      "100%|██████████| 36/36 [00:01<00:00, 24.28it/s]\n",
      "  0%|          | 0/36 [00:00<?, ?it/s]"
     ]
    },
    {
     "name": "stdout",
     "output_type": "stream",
     "text": [
      "Total power produced by the wind farm is:  574.076119446535 GWh\n",
      "Both perimeter and proximity constraints are satisfied !!\n",
      "\n",
      "Calculating AEP......\n"
     ]
    },
    {
     "name": "stderr",
     "output_type": "stream",
     "text": [
      "100%|██████████| 36/36 [00:01<00:00, 27.23it/s]\n",
      "  0%|          | 0/36 [00:00<?, ?it/s]"
     ]
    },
    {
     "name": "stdout",
     "output_type": "stream",
     "text": [
      "Total power produced by the wind farm is:  574.172824537697 GWh\n",
      "Both perimeter and proximity constraints are satisfied !!\n",
      "\n",
      "Calculating AEP......\n"
     ]
    },
    {
     "name": "stderr",
     "output_type": "stream",
     "text": [
      "100%|██████████| 36/36 [00:01<00:00, 27.38it/s]\n",
      "  0%|          | 0/36 [00:00<?, ?it/s]"
     ]
    },
    {
     "name": "stdout",
     "output_type": "stream",
     "text": [
      "Total power produced by the wind farm is:  574.681139152137 GWh\n",
      "Both perimeter and proximity constraints are satisfied !!\n",
      "\n",
      "Calculating AEP......\n"
     ]
    },
    {
     "name": "stderr",
     "output_type": "stream",
     "text": [
      "100%|██████████| 36/36 [00:01<00:00, 26.82it/s]\n",
      "  0%|          | 0/36 [00:00<?, ?it/s]"
     ]
    },
    {
     "name": "stdout",
     "output_type": "stream",
     "text": [
      "Total power produced by the wind farm is:  570.201678283637 GWh\n",
      "Both perimeter and proximity constraints are satisfied !!\n",
      "\n",
      "Calculating AEP......\n"
     ]
    },
    {
     "name": "stderr",
     "output_type": "stream",
     "text": [
      "100%|██████████| 36/36 [00:01<00:00, 27.13it/s]\n",
      "  0%|          | 0/36 [00:00<?, ?it/s]"
     ]
    },
    {
     "name": "stdout",
     "output_type": "stream",
     "text": [
      "Total power produced by the wind farm is:  574.059821740145 GWh\n",
      "Both perimeter and proximity constraints are satisfied !!\n",
      "\n",
      "Calculating AEP......\n"
     ]
    },
    {
     "name": "stderr",
     "output_type": "stream",
     "text": [
      "100%|██████████| 36/36 [00:01<00:00, 26.89it/s]\n",
      "  0%|          | 0/36 [00:00<?, ?it/s]"
     ]
    },
    {
     "name": "stdout",
     "output_type": "stream",
     "text": [
      "Total power produced by the wind farm is:  574.032930142214 GWh\n",
      "Both perimeter and proximity constraints are satisfied !!\n",
      "\n",
      "Calculating AEP......\n"
     ]
    },
    {
     "name": "stderr",
     "output_type": "stream",
     "text": [
      "100%|██████████| 36/36 [00:01<00:00, 28.06it/s]\n",
      "  0%|          | 0/36 [00:00<?, ?it/s]"
     ]
    },
    {
     "name": "stdout",
     "output_type": "stream",
     "text": [
      "Total power produced by the wind farm is:  574.057103474531 GWh\n",
      "Both perimeter and proximity constraints are satisfied !!\n",
      "\n",
      "Calculating AEP......\n"
     ]
    },
    {
     "name": "stderr",
     "output_type": "stream",
     "text": [
      "100%|██████████| 36/36 [00:01<00:00, 27.84it/s]\n",
      "  0%|          | 0/36 [00:00<?, ?it/s]"
     ]
    },
    {
     "name": "stdout",
     "output_type": "stream",
     "text": [
      "Total power produced by the wind farm is:  574.779228169929 GWh\n",
      "Both perimeter and proximity constraints are satisfied !!\n",
      "\n",
      "Calculating AEP......\n"
     ]
    },
    {
     "name": "stderr",
     "output_type": "stream",
     "text": [
      "100%|██████████| 36/36 [00:01<00:00, 28.47it/s]\n",
      "  0%|          | 0/36 [00:00<?, ?it/s]"
     ]
    },
    {
     "name": "stdout",
     "output_type": "stream",
     "text": [
      "Total power produced by the wind farm is:  574.702021265769 GWh\n",
      "Both perimeter and proximity constraints are satisfied !!\n",
      "\n",
      "Calculating AEP......\n"
     ]
    },
    {
     "name": "stderr",
     "output_type": "stream",
     "text": [
      "100%|██████████| 36/36 [00:01<00:00, 27.99it/s]\n",
      "  0%|          | 0/36 [00:00<?, ?it/s]"
     ]
    },
    {
     "name": "stdout",
     "output_type": "stream",
     "text": [
      "Total power produced by the wind farm is:  575.117818943284 GWh\n",
      "Both perimeter and proximity constraints are satisfied !!\n",
      "\n",
      "Calculating AEP......\n"
     ]
    },
    {
     "name": "stderr",
     "output_type": "stream",
     "text": [
      "100%|██████████| 36/36 [00:01<00:00, 26.32it/s]\n"
     ]
    },
    {
     "name": "stdout",
     "output_type": "stream",
     "text": [
      "Total power produced by the wind farm is:  574.085090833164 GWh\n",
      "Int64Index([0, 21, 19], dtype='int64')\n",
      "        AEP iteration_num\n",
      "0   575.118             5\n",
      "21  575.118             5\n",
      "19  574.779             5\n",
      "1   574.779             5\n",
      "20  574.702             5\n",
      "2   574.681             5\n",
      "9   574.681             5\n",
      "14  574.681             5\n",
      "10  574.454             5\n",
      "7   574.257             5\n",
      "11  574.181             5\n",
      "13  574.173             5\n",
      "5   574.087             5\n",
      "22  574.085             5\n",
      "12  574.076             5\n",
      "16   574.06             5\n",
      "18  574.057             5\n",
      "8   574.037             5\n",
      "17  574.033             5\n",
      "3   571.363             5\n",
      "6   571.346             5\n",
      "15  570.202             5\n",
      "4   569.886             5\n",
      "sample elite output type is: <class 'list'>\n",
      "iteration: 5\n",
      "length of new population in main function is : 3\n",
      "elite_layout type is: <class 'list'>\n",
      "mutation started\n",
      "lenght of elite layout in mutation before appending is : 3\n",
      "lenght of elite layout in mutation after appending is : 4\n",
      "mutation process is taking progress\n",
      "mutation started\n",
      "lenght of elite layout in mutation before appending is : 4\n",
      "lenght of elite layout in mutation after appending is : 5\n",
      "mutation process is taking progress\n",
      "type of crossover output is : <class 'pandas.core.frame.DataFrame'>\n",
      "lenght of elite layout in cross over before appending is : 5\n",
      "lenght of elite layout in cross over after appending is : 6\n",
      "type of crossover output is : <class 'pandas.core.frame.DataFrame'>\n",
      "lenght of elite layout in cross over before appending is : 6\n",
      "lenght of elite layout in cross over after appending is : 7\n",
      "mutation started\n",
      "lenght of elite layout in mutation before appending is : 7\n",
      "lenght of elite layout in mutation after appending is : 8\n",
      "mutation process is taking progress\n",
      "type of crossover output is : <class 'pandas.core.frame.DataFrame'>\n",
      "lenght of elite layout in cross over before appending is : 8\n",
      "lenght of elite layout in cross over after appending is : 9\n",
      "type of crossover output is : <class 'pandas.core.frame.DataFrame'>\n",
      "lenght of elite layout in cross over before appending is : 9\n",
      "lenght of elite layout in cross over after appending is : 10\n",
      "type of crossover output is : <class 'pandas.core.frame.DataFrame'>\n",
      "lenght of elite layout in cross over before appending is : 10\n",
      "lenght of elite layout in cross over after appending is : 11\n",
      "type of crossover output is : <class 'pandas.core.frame.DataFrame'>\n",
      "lenght of elite layout in cross over before appending is : 11\n",
      "lenght of elite layout in cross over after appending is : 12\n",
      "type of crossover output is : <class 'pandas.core.frame.DataFrame'>\n",
      "lenght of elite layout in cross over before appending is : 12\n",
      "lenght of elite layout in cross over after appending is : 13\n",
      "type of crossover output is : <class 'pandas.core.frame.DataFrame'>\n",
      "lenght of elite layout in cross over before appending is : 13\n",
      "lenght of elite layout in cross over after appending is : 14\n",
      "type of crossover output is : <class 'pandas.core.frame.DataFrame'>\n",
      "lenght of elite layout in cross over before appending is : 14\n",
      "lenght of elite layout in cross over after appending is : 15\n",
      "type of crossover output is : <class 'pandas.core.frame.DataFrame'>\n",
      "lenght of elite layout in cross over before appending is : 15\n",
      "lenght of elite layout in cross over after appending is : 16\n",
      "type of crossover output is : <class 'pandas.core.frame.DataFrame'>\n",
      "lenght of elite layout in cross over before appending is : 16\n",
      "lenght of elite layout in cross over after appending is : 17\n",
      "type of crossover output is : <class 'pandas.core.frame.DataFrame'>\n",
      "lenght of elite layout in cross over before appending is : 17\n",
      "lenght of elite layout in cross over after appending is : 18\n",
      "type of crossover output is : <class 'pandas.core.frame.DataFrame'>\n",
      "lenght of elite layout in cross over before appending is : 18\n",
      "lenght of elite layout in cross over after appending is : 19\n",
      "type of crossover output is : <class 'pandas.core.frame.DataFrame'>\n",
      "lenght of elite layout in cross over before appending is : 19\n",
      "lenght of elite layout in cross over after appending is : 20\n",
      "type of crossover output is : <class 'pandas.core.frame.DataFrame'>\n",
      "lenght of elite layout in cross over before appending is : 20\n",
      "lenght of elite layout in cross over after appending is : 21\n",
      "type of crossover output is : <class 'pandas.core.frame.DataFrame'>\n",
      "lenght of elite layout in cross over before appending is : 21\n",
      "lenght of elite layout in cross over after appending is : 22\n"
     ]
    },
    {
     "name": "stderr",
     "output_type": "stream",
     "text": [
      "  0%|          | 0/36 [00:00<?, ?it/s]"
     ]
    },
    {
     "name": "stdout",
     "output_type": "stream",
     "text": [
      "type of crossover output is : <class 'pandas.core.frame.DataFrame'>\n",
      "lenght of elite layout in cross over before appending is : 22\n",
      "lenght of elite layout in cross over after appending is : 23\n",
      "type of evaluation output is : <class 'list'>\n",
      "Both perimeter and proximity constraints are satisfied !!\n",
      "\n",
      "Calculating AEP......\n"
     ]
    },
    {
     "name": "stderr",
     "output_type": "stream",
     "text": [
      "100%|██████████| 36/36 [00:01<00:00, 28.03it/s]\n",
      "  0%|          | 0/36 [00:00<?, ?it/s]"
     ]
    },
    {
     "name": "stdout",
     "output_type": "stream",
     "text": [
      "Total power produced by the wind farm is:  575.117823284236 GWh\n",
      "Both perimeter and proximity constraints are satisfied !!\n",
      "\n",
      "Calculating AEP......\n"
     ]
    },
    {
     "name": "stderr",
     "output_type": "stream",
     "text": [
      "100%|██████████| 36/36 [00:03<00:00, 10.64it/s]\n",
      "  0%|          | 0/36 [00:00<?, ?it/s]"
     ]
    },
    {
     "name": "stdout",
     "output_type": "stream",
     "text": [
      "Total power produced by the wind farm is:  575.117818943284 GWh\n",
      "Both perimeter and proximity constraints are satisfied !!\n",
      "\n",
      "Calculating AEP......\n"
     ]
    },
    {
     "name": "stderr",
     "output_type": "stream",
     "text": [
      "100%|██████████| 36/36 [00:01<00:00, 25.99it/s]\n",
      "  0%|          | 0/36 [00:00<?, ?it/s]"
     ]
    },
    {
     "name": "stdout",
     "output_type": "stream",
     "text": [
      "Total power produced by the wind farm is:  574.779228169929 GWh\n",
      "Both perimeter and proximity constraints are satisfied !!\n",
      "\n",
      "Calculating AEP......\n"
     ]
    },
    {
     "name": "stderr",
     "output_type": "stream",
     "text": [
      "100%|██████████| 36/36 [00:01<00:00, 26.92it/s]\n",
      "  0%|          | 0/36 [00:00<?, ?it/s]"
     ]
    },
    {
     "name": "stdout",
     "output_type": "stream",
     "text": [
      "Total power produced by the wind farm is:  570.707852814078 GWh\n",
      "Both perimeter and proximity constraints are satisfied !!\n",
      "\n",
      "Calculating AEP......\n"
     ]
    },
    {
     "name": "stderr",
     "output_type": "stream",
     "text": [
      "100%|██████████| 36/36 [00:01<00:00, 27.11it/s]\n",
      "  0%|          | 0/36 [00:00<?, ?it/s]"
     ]
    },
    {
     "name": "stdout",
     "output_type": "stream",
     "text": [
      "Total power produced by the wind farm is:  571.499375112229 GWh\n",
      "Both perimeter and proximity constraints are satisfied !!\n",
      "\n",
      "Calculating AEP......\n"
     ]
    },
    {
     "name": "stderr",
     "output_type": "stream",
     "text": [
      "100%|██████████| 36/36 [00:01<00:00, 27.15it/s]\n",
      "  0%|          | 0/36 [00:00<?, ?it/s]"
     ]
    },
    {
     "name": "stdout",
     "output_type": "stream",
     "text": [
      "Total power produced by the wind farm is:  575.117815960471 GWh\n",
      "Both perimeter and proximity constraints are satisfied !!\n",
      "\n",
      "Calculating AEP......\n"
     ]
    },
    {
     "name": "stderr",
     "output_type": "stream",
     "text": [
      "100%|██████████| 36/36 [00:01<00:00, 26.80it/s]\n",
      "  0%|          | 0/36 [00:00<?, ?it/s]"
     ]
    },
    {
     "name": "stdout",
     "output_type": "stream",
     "text": [
      "Total power produced by the wind farm is:  574.681142500482 GWh\n",
      "Both perimeter and proximity constraints are satisfied !!\n",
      "\n",
      "Calculating AEP......\n"
     ]
    },
    {
     "name": "stderr",
     "output_type": "stream",
     "text": [
      "100%|██████████| 36/36 [00:01<00:00, 26.22it/s]\n",
      "  0%|          | 0/36 [00:00<?, ?it/s]"
     ]
    },
    {
     "name": "stdout",
     "output_type": "stream",
     "text": [
      "Total power produced by the wind farm is:  571.982381726168 GWh\n",
      "Both perimeter and proximity constraints are satisfied !!\n",
      "\n",
      "Calculating AEP......\n"
     ]
    },
    {
     "name": "stderr",
     "output_type": "stream",
     "text": [
      "100%|██████████| 36/36 [00:01<00:00, 25.10it/s]\n",
      "  0%|          | 0/36 [00:00<?, ?it/s]"
     ]
    },
    {
     "name": "stdout",
     "output_type": "stream",
     "text": [
      "Total power produced by the wind farm is:  575.117818741611 GWh\n",
      "Both perimeter and proximity constraints are satisfied !!\n",
      "\n",
      "Calculating AEP......\n"
     ]
    },
    {
     "name": "stderr",
     "output_type": "stream",
     "text": [
      "100%|██████████| 36/36 [00:01<00:00, 26.19it/s]\n",
      "  0%|          | 0/36 [00:00<?, ?it/s]"
     ]
    },
    {
     "name": "stdout",
     "output_type": "stream",
     "text": [
      "Total power produced by the wind farm is:  574.038373351114 GWh\n",
      "Both perimeter and proximity constraints are satisfied !!\n",
      "\n",
      "Calculating AEP......\n"
     ]
    },
    {
     "name": "stderr",
     "output_type": "stream",
     "text": [
      "100%|██████████| 36/36 [00:01<00:00, 27.05it/s]\n",
      "  0%|          | 0/36 [00:00<?, ?it/s]"
     ]
    },
    {
     "name": "stdout",
     "output_type": "stream",
     "text": [
      "Total power produced by the wind farm is:  573.725138925059 GWh\n",
      "Both perimeter and proximity constraints are satisfied !!\n",
      "\n",
      "Calculating AEP......\n"
     ]
    },
    {
     "name": "stderr",
     "output_type": "stream",
     "text": [
      "100%|██████████| 36/36 [00:01<00:00, 28.08it/s]\n",
      "  0%|          | 0/36 [00:00<?, ?it/s]"
     ]
    },
    {
     "name": "stdout",
     "output_type": "stream",
     "text": [
      "Total power produced by the wind farm is:  575.117819147845 GWh\n",
      "Both perimeter and proximity constraints are satisfied !!\n",
      "\n",
      "Calculating AEP......\n"
     ]
    },
    {
     "name": "stderr",
     "output_type": "stream",
     "text": [
      "100%|██████████| 36/36 [00:01<00:00, 26.05it/s]\n",
      "  0%|          | 0/36 [00:00<?, ?it/s]"
     ]
    },
    {
     "name": "stdout",
     "output_type": "stream",
     "text": [
      "Total power produced by the wind farm is:  574.226930409367 GWh\n",
      "Both perimeter and proximity constraints are satisfied !!\n",
      "\n",
      "Calculating AEP......\n"
     ]
    },
    {
     "name": "stderr",
     "output_type": "stream",
     "text": [
      "100%|██████████| 36/36 [00:01<00:00, 26.28it/s]\n",
      "  0%|          | 0/36 [00:00<?, ?it/s]"
     ]
    },
    {
     "name": "stdout",
     "output_type": "stream",
     "text": [
      "Total power produced by the wind farm is:  574.279945078214 GWh\n",
      "Both perimeter and proximity constraints are satisfied !!\n",
      "\n",
      "Calculating AEP......\n"
     ]
    },
    {
     "name": "stderr",
     "output_type": "stream",
     "text": [
      "100%|██████████| 36/36 [00:01<00:00, 27.71it/s]\n",
      "  0%|          | 0/36 [00:00<?, ?it/s]"
     ]
    },
    {
     "name": "stdout",
     "output_type": "stream",
     "text": [
      "Total power produced by the wind farm is:  575.117819052261 GWh\n",
      "Both perimeter and proximity constraints are satisfied !!\n",
      "\n",
      "Calculating AEP......\n"
     ]
    },
    {
     "name": "stderr",
     "output_type": "stream",
     "text": [
      "100%|██████████| 36/36 [00:01<00:00, 26.55it/s]\n",
      "  0%|          | 0/36 [00:00<?, ?it/s]"
     ]
    },
    {
     "name": "stdout",
     "output_type": "stream",
     "text": [
      "Total power produced by the wind farm is:  574.158670212644 GWh\n",
      "Both perimeter and proximity constraints are satisfied !!\n",
      "\n",
      "Calculating AEP......\n"
     ]
    },
    {
     "name": "stderr",
     "output_type": "stream",
     "text": [
      "100%|██████████| 36/36 [00:01<00:00, 27.88it/s]\n",
      "  0%|          | 0/36 [00:00<?, ?it/s]"
     ]
    },
    {
     "name": "stdout",
     "output_type": "stream",
     "text": [
      "Total power produced by the wind farm is:  575.117818092214 GWh\n",
      "Both perimeter and proximity constraints are satisfied !!\n",
      "\n",
      "Calculating AEP......\n"
     ]
    },
    {
     "name": "stderr",
     "output_type": "stream",
     "text": [
      "100%|██████████| 36/36 [00:03<00:00, 10.94it/s]\n",
      "  0%|          | 0/36 [00:00<?, ?it/s]"
     ]
    },
    {
     "name": "stdout",
     "output_type": "stream",
     "text": [
      "Total power produced by the wind farm is:  574.779230128360 GWh\n",
      "Both perimeter and proximity constraints are satisfied !!\n",
      "\n",
      "Calculating AEP......\n"
     ]
    },
    {
     "name": "stderr",
     "output_type": "stream",
     "text": [
      "100%|██████████| 36/36 [00:01<00:00, 24.28it/s]\n",
      "  0%|          | 0/36 [00:00<?, ?it/s]"
     ]
    },
    {
     "name": "stdout",
     "output_type": "stream",
     "text": [
      "Total power produced by the wind farm is:  575.117821882243 GWh\n",
      "Both perimeter and proximity constraints are satisfied !!\n",
      "\n",
      "Calculating AEP......\n"
     ]
    },
    {
     "name": "stderr",
     "output_type": "stream",
     "text": [
      "100%|██████████| 36/36 [00:01<00:00, 25.91it/s]\n"
     ]
    },
    {
     "name": "stdout",
     "output_type": "stream",
     "text": [
      "Total power produced by the wind farm is:  575.117824779713 GWh\n",
      "Both perimeter and proximity constraints are satisfied !!\n",
      "\n",
      "Calculating AEP......\n"
     ]
    },
    {
     "name": "stderr",
     "output_type": "stream",
     "text": [
      "100%|██████████| 36/36 [00:01<00:00, 24.80it/s]\n",
      "  0%|          | 0/36 [00:00<?, ?it/s]"
     ]
    },
    {
     "name": "stdout",
     "output_type": "stream",
     "text": [
      "Total power produced by the wind farm is:  575.117822009077 GWh\n",
      "Both perimeter and proximity constraints are satisfied !!\n",
      "\n",
      "Calculating AEP......\n"
     ]
    },
    {
     "name": "stderr",
     "output_type": "stream",
     "text": [
      "100%|██████████| 36/36 [00:01<00:00, 25.74it/s]\n",
      "  0%|          | 0/36 [00:00<?, ?it/s]"
     ]
    },
    {
     "name": "stdout",
     "output_type": "stream",
     "text": [
      "Total power produced by the wind farm is:  574.257225910431 GWh\n",
      "Both perimeter and proximity constraints are satisfied !!\n",
      "\n",
      "Calculating AEP......\n"
     ]
    },
    {
     "name": "stderr",
     "output_type": "stream",
     "text": [
      "100%|██████████| 36/36 [00:01<00:00, 25.45it/s]\n"
     ]
    },
    {
     "name": "stdout",
     "output_type": "stream",
     "text": [
      "Total power produced by the wind farm is:  575.117815004364 GWh\n",
      "Int64Index([19, 0, 20], dtype='int64')\n",
      "        AEP iteration_num\n",
      "19  575.118             6\n",
      "0   575.118             6\n",
      "20  575.118             6\n",
      "18  575.118             6\n",
      "11  575.118             6\n",
      "14  575.118             6\n",
      "1   575.118             6\n",
      "8   575.118             6\n",
      "16  575.118             6\n",
      "5   575.118             6\n",
      "22  575.118             6\n",
      "17  574.779             6\n",
      "2   574.779             6\n",
      "6   574.681             6\n",
      "13   574.28             6\n",
      "21  574.257             6\n",
      "12  574.227             6\n",
      "15  574.159             6\n",
      "9   574.038             6\n",
      "10  573.725             6\n",
      "7   571.982             6\n",
      "4   571.499             6\n",
      "3   570.708             6\n",
      "sample elite output type is: <class 'list'>\n",
      "iteration: 6\n",
      "length of new population in main function is : 3\n",
      "elite_layout type is: <class 'list'>\n",
      "mutation started\n",
      "lenght of elite layout in mutation before appending is : 3\n",
      "lenght of elite layout in mutation after appending is : 4\n",
      "mutation process is taking progress\n",
      "mutation started\n",
      "lenght of elite layout in mutation before appending is : 4\n",
      "lenght of elite layout in mutation after appending is : 5\n",
      "mutation process is taking progress\n",
      "mutation started\n",
      "lenght of elite layout in mutation before appending is : 5\n",
      "lenght of elite layout in mutation after appending is : 6\n",
      "mutation process is taking progress\n",
      "type of crossover output is : <class 'pandas.core.frame.DataFrame'>\n",
      "lenght of elite layout in cross over before appending is : 6\n",
      "lenght of elite layout in cross over after appending is : 7\n",
      "type of crossover output is : <class 'pandas.core.frame.DataFrame'>\n",
      "lenght of elite layout in cross over before appending is : 7\n",
      "lenght of elite layout in cross over after appending is : 8\n",
      "type of crossover output is : <class 'pandas.core.frame.DataFrame'>\n",
      "lenght of elite layout in cross over before appending is : 8\n",
      "lenght of elite layout in cross over after appending is : 9\n",
      "type of crossover output is : <class 'pandas.core.frame.DataFrame'>\n",
      "lenght of elite layout in cross over before appending is : 9\n",
      "lenght of elite layout in cross over after appending is : 10\n",
      "type of crossover output is : <class 'pandas.core.frame.DataFrame'>\n",
      "lenght of elite layout in cross over before appending is : 10\n",
      "lenght of elite layout in cross over after appending is : 11\n",
      "type of crossover output is : <class 'pandas.core.frame.DataFrame'>\n",
      "lenght of elite layout in cross over before appending is : 11\n",
      "lenght of elite layout in cross over after appending is : 12\n",
      "type of crossover output is : <class 'pandas.core.frame.DataFrame'>\n",
      "lenght of elite layout in cross over before appending is : 12\n",
      "lenght of elite layout in cross over after appending is : 13\n",
      "type of crossover output is : <class 'pandas.core.frame.DataFrame'>\n",
      "lenght of elite layout in cross over before appending is : 13\n",
      "lenght of elite layout in cross over after appending is : 14\n",
      "type of crossover output is : <class 'pandas.core.frame.DataFrame'>\n",
      "lenght of elite layout in cross over before appending is : 14\n",
      "lenght of elite layout in cross over after appending is : 15\n",
      "type of crossover output is : <class 'pandas.core.frame.DataFrame'>\n",
      "lenght of elite layout in cross over before appending is : 15\n",
      "lenght of elite layout in cross over after appending is : 16\n",
      "type of crossover output is : <class 'pandas.core.frame.DataFrame'>\n",
      "lenght of elite layout in cross over before appending is : 16\n",
      "lenght of elite layout in cross over after appending is : 17\n",
      "type of crossover output is : <class 'pandas.core.frame.DataFrame'>\n",
      "lenght of elite layout in cross over before appending is : 17\n",
      "lenght of elite layout in cross over after appending is : 18\n",
      "type of crossover output is : <class 'pandas.core.frame.DataFrame'>\n",
      "lenght of elite layout in cross over before appending is : 18\n",
      "lenght of elite layout in cross over after appending is : 19\n",
      "type of crossover output is : <class 'pandas.core.frame.DataFrame'>\n",
      "lenght of elite layout in cross over before appending is : 19\n",
      "lenght of elite layout in cross over after appending is : 20\n",
      "type of crossover output is : <class 'pandas.core.frame.DataFrame'>\n",
      "lenght of elite layout in cross over before appending is : 20\n",
      "lenght of elite layout in cross over after appending is : 21\n",
      "type of crossover output is : <class 'pandas.core.frame.DataFrame'>\n",
      "lenght of elite layout in cross over before appending is : 21\n",
      "lenght of elite layout in cross over after appending is : 22\n"
     ]
    },
    {
     "name": "stderr",
     "output_type": "stream",
     "text": [
      "  0%|          | 0/36 [00:00<?, ?it/s]"
     ]
    },
    {
     "name": "stdout",
     "output_type": "stream",
     "text": [
      "type of crossover output is : <class 'pandas.core.frame.DataFrame'>\n",
      "lenght of elite layout in cross over before appending is : 22\n",
      "lenght of elite layout in cross over after appending is : 23\n",
      "type of evaluation output is : <class 'list'>\n",
      "Both perimeter and proximity constraints are satisfied !!\n",
      "\n",
      "Calculating AEP......\n"
     ]
    },
    {
     "name": "stderr",
     "output_type": "stream",
     "text": [
      "100%|██████████| 36/36 [00:01<00:00, 27.61it/s]\n",
      "  0%|          | 0/36 [00:00<?, ?it/s]"
     ]
    },
    {
     "name": "stdout",
     "output_type": "stream",
     "text": [
      "Total power produced by the wind farm is:  575.117824779713 GWh\n",
      "Both perimeter and proximity constraints are satisfied !!\n",
      "\n",
      "Calculating AEP......\n"
     ]
    },
    {
     "name": "stderr",
     "output_type": "stream",
     "text": [
      "100%|██████████| 36/36 [00:01<00:00, 27.93it/s]\n",
      "  0%|          | 0/36 [00:00<?, ?it/s]"
     ]
    },
    {
     "name": "stdout",
     "output_type": "stream",
     "text": [
      "Total power produced by the wind farm is:  575.117823284236 GWh\n",
      "Both perimeter and proximity constraints are satisfied !!\n",
      "\n",
      "Calculating AEP......\n"
     ]
    },
    {
     "name": "stderr",
     "output_type": "stream",
     "text": [
      "100%|██████████| 36/36 [00:01<00:00, 27.39it/s]\n",
      "  0%|          | 0/36 [00:00<?, ?it/s]"
     ]
    },
    {
     "name": "stdout",
     "output_type": "stream",
     "text": [
      "Total power produced by the wind farm is:  575.117822009077 GWh\n",
      "Both perimeter and proximity constraints are satisfied !!\n",
      "\n",
      "Calculating AEP......\n"
     ]
    },
    {
     "name": "stderr",
     "output_type": "stream",
     "text": [
      "100%|██████████| 36/36 [00:01<00:00, 28.02it/s]\n",
      "  0%|          | 0/36 [00:00<?, ?it/s]"
     ]
    },
    {
     "name": "stdout",
     "output_type": "stream",
     "text": [
      "Total power produced by the wind farm is:  571.122836183484 GWh\n",
      "Both perimeter and proximity constraints are satisfied !!\n",
      "\n",
      "Calculating AEP......\n"
     ]
    },
    {
     "name": "stderr",
     "output_type": "stream",
     "text": [
      "100%|██████████| 36/36 [00:01<00:00, 28.01it/s]\n",
      "  0%|          | 0/36 [00:00<?, ?it/s]"
     ]
    },
    {
     "name": "stdout",
     "output_type": "stream",
     "text": [
      "Total power produced by the wind farm is:  571.468763957639 GWh\n",
      "Both perimeter and proximity constraints are satisfied !!\n",
      "\n",
      "Calculating AEP......\n"
     ]
    },
    {
     "name": "stderr",
     "output_type": "stream",
     "text": [
      "100%|██████████| 36/36 [00:01<00:00, 28.30it/s]\n",
      "  0%|          | 0/36 [00:00<?, ?it/s]"
     ]
    },
    {
     "name": "stdout",
     "output_type": "stream",
     "text": [
      "Total power produced by the wind farm is:  570.766506194897 GWh\n",
      "Both perimeter and proximity constraints are satisfied !!\n",
      "\n",
      "Calculating AEP......\n"
     ]
    },
    {
     "name": "stderr",
     "output_type": "stream",
     "text": [
      "100%|██████████| 36/36 [00:01<00:00, 26.19it/s]\n",
      "  0%|          | 0/36 [00:00<?, ?it/s]"
     ]
    },
    {
     "name": "stdout",
     "output_type": "stream",
     "text": [
      "Total power produced by the wind farm is:  575.117823543417 GWh\n",
      "Both perimeter and proximity constraints are satisfied !!\n",
      "\n",
      "Calculating AEP......\n"
     ]
    },
    {
     "name": "stderr",
     "output_type": "stream",
     "text": [
      "100%|██████████| 36/36 [00:01<00:00, 24.91it/s]\n",
      "  0%|          | 0/36 [00:00<?, ?it/s]"
     ]
    },
    {
     "name": "stdout",
     "output_type": "stream",
     "text": [
      "Total power produced by the wind farm is:  575.117817784716 GWh\n",
      "Both perimeter and proximity constraints are satisfied !!\n",
      "\n",
      "Calculating AEP......\n"
     ]
    },
    {
     "name": "stderr",
     "output_type": "stream",
     "text": [
      "100%|██████████| 36/36 [00:01<00:00, 25.25it/s]\n",
      "  0%|          | 0/36 [00:00<?, ?it/s]"
     ]
    },
    {
     "name": "stdout",
     "output_type": "stream",
     "text": [
      "Total power produced by the wind farm is:  575.117821605469 GWh\n",
      "Both perimeter and proximity constraints are satisfied !!\n",
      "\n",
      "Calculating AEP......\n"
     ]
    },
    {
     "name": "stderr",
     "output_type": "stream",
     "text": [
      "100%|██████████| 36/36 [00:01<00:00, 23.63it/s]\n",
      "  0%|          | 0/36 [00:00<?, ?it/s]"
     ]
    },
    {
     "name": "stdout",
     "output_type": "stream",
     "text": [
      "Total power produced by the wind farm is:  575.117821560565 GWh\n",
      "Both perimeter and proximity constraints are satisfied !!\n",
      "\n",
      "Calculating AEP......\n"
     ]
    },
    {
     "name": "stderr",
     "output_type": "stream",
     "text": [
      "100%|██████████| 36/36 [00:01<00:00, 25.80it/s]\n",
      "  0%|          | 0/36 [00:00<?, ?it/s]"
     ]
    },
    {
     "name": "stdout",
     "output_type": "stream",
     "text": [
      "Total power produced by the wind farm is:  575.117817779202 GWh\n",
      "Both perimeter and proximity constraints are satisfied !!\n",
      "\n",
      "Calculating AEP......\n"
     ]
    },
    {
     "name": "stderr",
     "output_type": "stream",
     "text": [
      "100%|██████████| 36/36 [00:01<00:00, 23.30it/s]\n",
      "  0%|          | 0/36 [00:00<?, ?it/s]"
     ]
    },
    {
     "name": "stdout",
     "output_type": "stream",
     "text": [
      "Total power produced by the wind farm is:  575.117816375633 GWh\n",
      "Both perimeter and proximity constraints are satisfied !!\n",
      "\n",
      "Calculating AEP......\n"
     ]
    },
    {
     "name": "stderr",
     "output_type": "stream",
     "text": [
      "100%|██████████| 36/36 [00:03<00:00, 10.72it/s]\n",
      "  0%|          | 0/36 [00:00<?, ?it/s]"
     ]
    },
    {
     "name": "stdout",
     "output_type": "stream",
     "text": [
      "Total power produced by the wind farm is:  575.117818611364 GWh\n",
      "Both perimeter and proximity constraints are satisfied !!\n",
      "\n",
      "Calculating AEP......\n"
     ]
    },
    {
     "name": "stderr",
     "output_type": "stream",
     "text": [
      "100%|██████████| 36/36 [00:01<00:00, 27.08it/s]\n",
      "  0%|          | 0/36 [00:00<?, ?it/s]"
     ]
    },
    {
     "name": "stdout",
     "output_type": "stream",
     "text": [
      "Total power produced by the wind farm is:  575.117824210933 GWh\n",
      "Both perimeter and proximity constraints are satisfied !!\n",
      "\n",
      "Calculating AEP......\n"
     ]
    },
    {
     "name": "stderr",
     "output_type": "stream",
     "text": [
      "100%|██████████| 36/36 [00:01<00:00, 28.02it/s]\n",
      "  0%|          | 0/36 [00:00<?, ?it/s]"
     ]
    },
    {
     "name": "stdout",
     "output_type": "stream",
     "text": [
      "Total power produced by the wind farm is:  575.117822643505 GWh\n",
      "Both perimeter and proximity constraints are satisfied !!\n",
      "\n",
      "Calculating AEP......\n"
     ]
    },
    {
     "name": "stderr",
     "output_type": "stream",
     "text": [
      "100%|██████████| 36/36 [00:01<00:00, 28.29it/s]\n",
      "  0%|          | 0/36 [00:00<?, ?it/s]"
     ]
    },
    {
     "name": "stdout",
     "output_type": "stream",
     "text": [
      "Total power produced by the wind farm is:  575.117818848487 GWh\n",
      "Both perimeter and proximity constraints are satisfied !!\n",
      "\n",
      "Calculating AEP......\n"
     ]
    },
    {
     "name": "stderr",
     "output_type": "stream",
     "text": [
      "100%|██████████| 36/36 [00:01<00:00, 27.49it/s]\n",
      "  0%|          | 0/36 [00:00<?, ?it/s]"
     ]
    },
    {
     "name": "stdout",
     "output_type": "stream",
     "text": [
      "Total power produced by the wind farm is:  575.117820791688 GWh\n",
      "Both perimeter and proximity constraints are satisfied !!\n",
      "\n",
      "Calculating AEP......\n"
     ]
    },
    {
     "name": "stderr",
     "output_type": "stream",
     "text": [
      "100%|██████████| 36/36 [00:01<00:00, 26.77it/s]\n",
      "  0%|          | 0/36 [00:00<?, ?it/s]"
     ]
    },
    {
     "name": "stdout",
     "output_type": "stream",
     "text": [
      "Total power produced by the wind farm is:  575.117819042807 GWh\n",
      "Both perimeter and proximity constraints are satisfied !!\n",
      "\n",
      "Calculating AEP......\n"
     ]
    },
    {
     "name": "stderr",
     "output_type": "stream",
     "text": [
      "100%|██████████| 36/36 [00:01<00:00, 27.23it/s]\n",
      "  0%|          | 0/36 [00:00<?, ?it/s]"
     ]
    },
    {
     "name": "stdout",
     "output_type": "stream",
     "text": [
      "Total power produced by the wind farm is:  575.117824743213 GWh\n",
      "Both perimeter and proximity constraints are satisfied !!\n",
      "\n",
      "Calculating AEP......\n"
     ]
    },
    {
     "name": "stderr",
     "output_type": "stream",
     "text": [
      "100%|██████████| 36/36 [00:01<00:00, 25.15it/s]\n",
      "  0%|          | 0/36 [00:00<?, ?it/s]"
     ]
    },
    {
     "name": "stdout",
     "output_type": "stream",
     "text": [
      "Total power produced by the wind farm is:  575.117825592181 GWh\n",
      "Both perimeter and proximity constraints are satisfied !!\n",
      "\n",
      "Calculating AEP......\n"
     ]
    },
    {
     "name": "stderr",
     "output_type": "stream",
     "text": [
      "100%|██████████| 36/36 [00:01<00:00, 25.08it/s]\n",
      "  0%|          | 0/36 [00:00<?, ?it/s]"
     ]
    },
    {
     "name": "stdout",
     "output_type": "stream",
     "text": [
      "Total power produced by the wind farm is:  575.117821589188 GWh\n",
      "Both perimeter and proximity constraints are satisfied !!\n",
      "\n",
      "Calculating AEP......\n"
     ]
    },
    {
     "name": "stderr",
     "output_type": "stream",
     "text": [
      "100%|██████████| 36/36 [00:01<00:00, 25.00it/s]\n",
      "  0%|          | 0/36 [00:00<?, ?it/s]"
     ]
    },
    {
     "name": "stdout",
     "output_type": "stream",
     "text": [
      "Total power produced by the wind farm is:  575.117820353942 GWh\n",
      "Both perimeter and proximity constraints are satisfied !!\n",
      "\n",
      "Calculating AEP......\n"
     ]
    },
    {
     "name": "stderr",
     "output_type": "stream",
     "text": [
      "100%|██████████| 36/36 [00:01<00:00, 26.95it/s]\n"
     ]
    },
    {
     "name": "stdout",
     "output_type": "stream",
     "text": [
      "Total power produced by the wind farm is:  575.117819167277 GWh\n",
      "Int64Index([19, 0, 18], dtype='int64')\n",
      "        AEP iteration_num\n",
      "19  575.118             7\n",
      "0   575.118             7\n",
      "18  575.118             7\n",
      "13  575.118             7\n",
      "6   575.118             7\n",
      "1   575.118             7\n",
      "14  575.118             7\n",
      "2   575.118             7\n",
      "8   575.118             7\n",
      "20  575.118             7\n",
      "9   575.118             7\n",
      "16  575.118             7\n",
      "21  575.118             7\n",
      "22  575.118             7\n",
      "17  575.118             7\n",
      "15  575.118             7\n",
      "12  575.118             7\n",
      "7   575.118             7\n",
      "10  575.118             7\n",
      "11  575.118             7\n",
      "4   571.469             7\n",
      "3   571.123             7\n",
      "5   570.767             7\n",
      "sample elite output type is: <class 'list'>\n",
      "iteration: 7\n",
      "length of new population in main function is : 3\n",
      "elite_layout type is: <class 'list'>\n",
      "type of crossover output is : <class 'pandas.core.frame.DataFrame'>\n",
      "lenght of elite layout in cross over before appending is : 3\n",
      "lenght of elite layout in cross over after appending is : 4\n",
      "type of crossover output is : <class 'pandas.core.frame.DataFrame'>\n",
      "lenght of elite layout in cross over before appending is : 4\n",
      "lenght of elite layout in cross over after appending is : 5\n",
      "type of crossover output is : <class 'pandas.core.frame.DataFrame'>\n",
      "lenght of elite layout in cross over before appending is : 5\n",
      "lenght of elite layout in cross over after appending is : 6\n",
      "type of crossover output is : <class 'pandas.core.frame.DataFrame'>\n",
      "lenght of elite layout in cross over before appending is : 6\n",
      "lenght of elite layout in cross over after appending is : 7\n",
      "mutation started\n",
      "lenght of elite layout in mutation before appending is : 7\n",
      "lenght of elite layout in mutation after appending is : 8\n",
      "mutation process is taking progress\n",
      "type of crossover output is : <class 'pandas.core.frame.DataFrame'>\n",
      "lenght of elite layout in cross over before appending is : 8\n",
      "lenght of elite layout in cross over after appending is : 9\n",
      "type of crossover output is : <class 'pandas.core.frame.DataFrame'>\n",
      "lenght of elite layout in cross over before appending is : 9\n",
      "lenght of elite layout in cross over after appending is : 10\n",
      "mutation started\n",
      "lenght of elite layout in mutation before appending is : 10\n",
      "lenght of elite layout in mutation after appending is : 11\n",
      "mutation process is taking progress\n",
      "type of crossover output is : <class 'pandas.core.frame.DataFrame'>\n",
      "lenght of elite layout in cross over before appending is : 11\n",
      "lenght of elite layout in cross over after appending is : 12\n",
      "type of crossover output is : <class 'pandas.core.frame.DataFrame'>\n",
      "lenght of elite layout in cross over before appending is : 12\n",
      "lenght of elite layout in cross over after appending is : 13\n",
      "type of crossover output is : <class 'pandas.core.frame.DataFrame'>\n",
      "lenght of elite layout in cross over before appending is : 13\n",
      "lenght of elite layout in cross over after appending is : 14\n",
      "type of crossover output is : <class 'pandas.core.frame.DataFrame'>\n",
      "lenght of elite layout in cross over before appending is : 14\n",
      "lenght of elite layout in cross over after appending is : 15\n",
      "type of crossover output is : <class 'pandas.core.frame.DataFrame'>\n",
      "lenght of elite layout in cross over before appending is : 15\n",
      "lenght of elite layout in cross over after appending is : 16\n",
      "type of crossover output is : <class 'pandas.core.frame.DataFrame'>\n",
      "lenght of elite layout in cross over before appending is : 16\n",
      "lenght of elite layout in cross over after appending is : 17\n",
      "type of crossover output is : <class 'pandas.core.frame.DataFrame'>\n",
      "lenght of elite layout in cross over before appending is : 17\n",
      "lenght of elite layout in cross over after appending is : 18\n",
      "type of crossover output is : <class 'pandas.core.frame.DataFrame'>\n",
      "lenght of elite layout in cross over before appending is : 18\n",
      "lenght of elite layout in cross over after appending is : 19\n",
      "type of crossover output is : <class 'pandas.core.frame.DataFrame'>\n",
      "lenght of elite layout in cross over before appending is : 19\n",
      "lenght of elite layout in cross over after appending is : 20\n",
      "type of crossover output is : <class 'pandas.core.frame.DataFrame'>\n",
      "lenght of elite layout in cross over before appending is : 20\n",
      "lenght of elite layout in cross over after appending is : 21\n",
      "type of crossover output is : <class 'pandas.core.frame.DataFrame'>\n",
      "lenght of elite layout in cross over before appending is : 21\n",
      "lenght of elite layout in cross over after appending is : 22\n"
     ]
    },
    {
     "name": "stderr",
     "output_type": "stream",
     "text": [
      "  0%|          | 0/36 [00:00<?, ?it/s]"
     ]
    },
    {
     "name": "stdout",
     "output_type": "stream",
     "text": [
      "type of crossover output is : <class 'pandas.core.frame.DataFrame'>\n",
      "lenght of elite layout in cross over before appending is : 22\n",
      "lenght of elite layout in cross over after appending is : 23\n",
      "type of evaluation output is : <class 'list'>\n",
      "Both perimeter and proximity constraints are satisfied !!\n",
      "\n",
      "Calculating AEP......\n"
     ]
    },
    {
     "name": "stderr",
     "output_type": "stream",
     "text": [
      "100%|██████████| 36/36 [00:01<00:00, 25.71it/s]\n",
      "  0%|          | 0/36 [00:00<?, ?it/s]"
     ]
    },
    {
     "name": "stdout",
     "output_type": "stream",
     "text": [
      "Total power produced by the wind farm is:  575.117825592181 GWh\n",
      "Both perimeter and proximity constraints are satisfied !!\n",
      "\n",
      "Calculating AEP......\n"
     ]
    },
    {
     "name": "stderr",
     "output_type": "stream",
     "text": [
      "100%|██████████| 36/36 [00:01<00:00, 25.02it/s]\n",
      "  0%|          | 0/36 [00:00<?, ?it/s]"
     ]
    },
    {
     "name": "stdout",
     "output_type": "stream",
     "text": [
      "Total power produced by the wind farm is:  575.117824779713 GWh\n",
      "Both perimeter and proximity constraints are satisfied !!\n",
      "\n",
      "Calculating AEP......\n"
     ]
    },
    {
     "name": "stderr",
     "output_type": "stream",
     "text": [
      "100%|██████████| 36/36 [00:01<00:00, 26.78it/s]\n",
      "  0%|          | 0/36 [00:00<?, ?it/s]"
     ]
    },
    {
     "name": "stdout",
     "output_type": "stream",
     "text": [
      "Total power produced by the wind farm is:  575.117824743213 GWh\n",
      "Both perimeter and proximity constraints are satisfied !!\n",
      "\n",
      "Calculating AEP......\n"
     ]
    },
    {
     "name": "stderr",
     "output_type": "stream",
     "text": [
      "100%|██████████| 36/36 [00:01<00:00, 25.17it/s]\n",
      "  0%|          | 0/36 [00:00<?, ?it/s]"
     ]
    },
    {
     "name": "stdout",
     "output_type": "stream",
     "text": [
      "Total power produced by the wind farm is:  575.117820946093 GWh\n",
      "Both perimeter and proximity constraints are satisfied !!\n",
      "\n",
      "Calculating AEP......\n"
     ]
    },
    {
     "name": "stderr",
     "output_type": "stream",
     "text": [
      "100%|██████████| 36/36 [00:01<00:00, 25.30it/s]\n",
      "  0%|          | 0/36 [00:00<?, ?it/s]"
     ]
    },
    {
     "name": "stdout",
     "output_type": "stream",
     "text": [
      "Total power produced by the wind farm is:  575.117823372468 GWh\n",
      "Both perimeter and proximity constraints are satisfied !!\n",
      "\n",
      "Calculating AEP......\n"
     ]
    },
    {
     "name": "stderr",
     "output_type": "stream",
     "text": [
      "100%|██████████| 36/36 [00:01<00:00, 26.28it/s]\n",
      "  0%|          | 0/36 [00:00<?, ?it/s]"
     ]
    },
    {
     "name": "stdout",
     "output_type": "stream",
     "text": [
      "Total power produced by the wind farm is:  575.117817124290 GWh\n",
      "Both perimeter and proximity constraints are satisfied !!\n",
      "\n",
      "Calculating AEP......\n"
     ]
    },
    {
     "name": "stderr",
     "output_type": "stream",
     "text": [
      "100%|██████████| 36/36 [00:04<00:00,  8.47it/s]\n",
      "  0%|          | 0/36 [00:00<?, ?it/s]"
     ]
    },
    {
     "name": "stdout",
     "output_type": "stream",
     "text": [
      "Total power produced by the wind farm is:  575.117820204789 GWh\n",
      "Both perimeter and proximity constraints are satisfied !!\n",
      "\n",
      "Calculating AEP......\n"
     ]
    },
    {
     "name": "stderr",
     "output_type": "stream",
     "text": [
      "100%|██████████| 36/36 [00:01<00:00, 24.73it/s]\n",
      "  0%|          | 0/36 [00:00<?, ?it/s]"
     ]
    },
    {
     "name": "stdout",
     "output_type": "stream",
     "text": [
      "Total power produced by the wind farm is:  572.145952871829 GWh\n",
      "Both perimeter and proximity constraints are satisfied !!\n",
      "\n",
      "Calculating AEP......\n"
     ]
    },
    {
     "name": "stderr",
     "output_type": "stream",
     "text": [
      "100%|██████████| 36/36 [00:01<00:00, 25.29it/s]\n",
      "  0%|          | 0/36 [00:00<?, ?it/s]"
     ]
    },
    {
     "name": "stdout",
     "output_type": "stream",
     "text": [
      "Total power produced by the wind farm is:  575.117814797701 GWh\n",
      "Both perimeter and proximity constraints are satisfied !!\n",
      "\n",
      "Calculating AEP......\n"
     ]
    },
    {
     "name": "stderr",
     "output_type": "stream",
     "text": [
      "100%|██████████| 36/36 [00:01<00:00, 26.29it/s]\n",
      "  0%|          | 0/36 [00:00<?, ?it/s]"
     ]
    },
    {
     "name": "stdout",
     "output_type": "stream",
     "text": [
      "Total power produced by the wind farm is:  575.117819120535 GWh\n",
      "Both perimeter and proximity constraints are satisfied !!\n",
      "\n",
      "Calculating AEP......\n"
     ]
    },
    {
     "name": "stderr",
     "output_type": "stream",
     "text": [
      "100%|██████████| 36/36 [00:01<00:00, 24.45it/s]\n",
      "  0%|          | 0/36 [00:00<?, ?it/s]"
     ]
    },
    {
     "name": "stdout",
     "output_type": "stream",
     "text": [
      "Total power produced by the wind farm is:  571.006547867324 GWh\n",
      "Both perimeter and proximity constraints are satisfied !!\n",
      "\n",
      "Calculating AEP......\n"
     ]
    },
    {
     "name": "stderr",
     "output_type": "stream",
     "text": [
      "100%|██████████| 36/36 [00:01<00:00, 25.38it/s]\n",
      "  0%|          | 0/36 [00:00<?, ?it/s]"
     ]
    },
    {
     "name": "stdout",
     "output_type": "stream",
     "text": [
      "Total power produced by the wind farm is:  575.117817216198 GWh\n",
      "Both perimeter and proximity constraints are satisfied !!\n",
      "\n",
      "Calculating AEP......\n"
     ]
    },
    {
     "name": "stderr",
     "output_type": "stream",
     "text": [
      "100%|██████████| 36/36 [00:01<00:00, 25.45it/s]\n",
      "  0%|          | 0/36 [00:00<?, ?it/s]"
     ]
    },
    {
     "name": "stdout",
     "output_type": "stream",
     "text": [
      "Total power produced by the wind farm is:  575.117820097125 GWh\n",
      "Both perimeter and proximity constraints are satisfied !!\n",
      "\n",
      "Calculating AEP......\n"
     ]
    },
    {
     "name": "stderr",
     "output_type": "stream",
     "text": [
      "100%|██████████| 36/36 [00:01<00:00, 27.59it/s]\n",
      "  0%|          | 0/36 [00:00<?, ?it/s]"
     ]
    },
    {
     "name": "stdout",
     "output_type": "stream",
     "text": [
      "Total power produced by the wind farm is:  575.117822558687 GWh\n",
      "Both perimeter and proximity constraints are satisfied !!\n",
      "\n",
      "Calculating AEP......\n"
     ]
    },
    {
     "name": "stderr",
     "output_type": "stream",
     "text": [
      "100%|██████████| 36/36 [00:01<00:00, 25.83it/s]\n",
      "  0%|          | 0/36 [00:00<?, ?it/s]"
     ]
    },
    {
     "name": "stdout",
     "output_type": "stream",
     "text": [
      "Total power produced by the wind farm is:  575.117819541212 GWh\n",
      "Both perimeter and proximity constraints are satisfied !!\n",
      "\n",
      "Calculating AEP......\n"
     ]
    },
    {
     "name": "stderr",
     "output_type": "stream",
     "text": [
      "100%|██████████| 36/36 [00:01<00:00, 26.85it/s]\n",
      "  0%|          | 0/36 [00:00<?, ?it/s]"
     ]
    },
    {
     "name": "stdout",
     "output_type": "stream",
     "text": [
      "Total power produced by the wind farm is:  575.117818037857 GWh\n",
      "Both perimeter and proximity constraints are satisfied !!\n",
      "\n",
      "Calculating AEP......\n"
     ]
    },
    {
     "name": "stderr",
     "output_type": "stream",
     "text": [
      "100%|██████████| 36/36 [00:01<00:00, 26.81it/s]\n",
      "  0%|          | 0/36 [00:00<?, ?it/s]"
     ]
    },
    {
     "name": "stdout",
     "output_type": "stream",
     "text": [
      "Total power produced by the wind farm is:  575.117817543917 GWh\n",
      "Both perimeter and proximity constraints are satisfied !!\n",
      "\n",
      "Calculating AEP......\n"
     ]
    },
    {
     "name": "stderr",
     "output_type": "stream",
     "text": [
      "100%|██████████| 36/36 [00:01<00:00, 26.13it/s]\n",
      "  0%|          | 0/36 [00:00<?, ?it/s]"
     ]
    },
    {
     "name": "stdout",
     "output_type": "stream",
     "text": [
      "Total power produced by the wind farm is:  575.117820691902 GWh\n",
      "Both perimeter and proximity constraints are satisfied !!\n",
      "\n",
      "Calculating AEP......\n"
     ]
    },
    {
     "name": "stderr",
     "output_type": "stream",
     "text": [
      "100%|██████████| 36/36 [00:01<00:00, 26.99it/s]\n",
      "  0%|          | 0/36 [00:00<?, ?it/s]"
     ]
    },
    {
     "name": "stdout",
     "output_type": "stream",
     "text": [
      "Total power produced by the wind farm is:  575.117819844771 GWh\n",
      "Both perimeter and proximity constraints are satisfied !!\n",
      "\n",
      "Calculating AEP......\n"
     ]
    },
    {
     "name": "stderr",
     "output_type": "stream",
     "text": [
      "100%|██████████| 36/36 [00:01<00:00, 26.38it/s]\n",
      "  0%|          | 0/36 [00:00<?, ?it/s]"
     ]
    },
    {
     "name": "stdout",
     "output_type": "stream",
     "text": [
      "Total power produced by the wind farm is:  575.117817217512 GWh\n",
      "Both perimeter and proximity constraints are satisfied !!\n",
      "\n",
      "Calculating AEP......\n"
     ]
    },
    {
     "name": "stderr",
     "output_type": "stream",
     "text": [
      "100%|██████████| 36/36 [00:01<00:00, 27.38it/s]\n",
      "  0%|          | 0/36 [00:00<?, ?it/s]"
     ]
    },
    {
     "name": "stdout",
     "output_type": "stream",
     "text": [
      "Total power produced by the wind farm is:  575.117822797386 GWh\n",
      "Both perimeter and proximity constraints are satisfied !!\n",
      "\n",
      "Calculating AEP......\n"
     ]
    },
    {
     "name": "stderr",
     "output_type": "stream",
     "text": [
      "100%|██████████| 36/36 [00:01<00:00, 27.34it/s]\n",
      "  0%|          | 0/36 [00:00<?, ?it/s]"
     ]
    },
    {
     "name": "stdout",
     "output_type": "stream",
     "text": [
      "Total power produced by the wind farm is:  575.117821367821 GWh\n",
      "Both perimeter and proximity constraints are satisfied !!\n",
      "\n",
      "Calculating AEP......\n"
     ]
    },
    {
     "name": "stderr",
     "output_type": "stream",
     "text": [
      "100%|██████████| 36/36 [00:01<00:00, 25.76it/s]\n"
     ]
    },
    {
     "name": "stdout",
     "output_type": "stream",
     "text": [
      "Total power produced by the wind farm is:  575.117816440494 GWh\n",
      "Int64Index([0, 1, 2], dtype='int64')\n",
      "        AEP iteration_num\n",
      "0   575.118             8\n",
      "1   575.118             8\n",
      "2   575.118             8\n",
      "4   575.118             8\n",
      "20  575.118             8\n",
      "13  575.118             8\n",
      "21  575.118             8\n",
      "3   575.118             8\n",
      "17  575.118             8\n",
      "6   575.118             8\n",
      "12  575.118             8\n",
      "18  575.118             8\n",
      "14  575.118             8\n",
      "9   575.118             8\n",
      "15  575.118             8\n",
      "16  575.118             8\n",
      "19  575.118             8\n",
      "11  575.118             8\n",
      "5   575.118             8\n",
      "22  575.118             8\n",
      "8   575.118             8\n",
      "7   572.146             8\n",
      "10  571.007             8\n",
      "sample elite output type is: <class 'list'>\n",
      "iteration: 8\n",
      "length of new population in main function is : 3\n",
      "elite_layout type is: <class 'list'>\n",
      "mutation started\n",
      "lenght of elite layout in mutation before appending is : 3\n",
      "lenght of elite layout in mutation after appending is : 4\n",
      "mutation process is taking progress\n",
      "mutation started\n",
      "lenght of elite layout in mutation before appending is : 4\n",
      "lenght of elite layout in mutation after appending is : 5\n",
      "mutation process is taking progress\n",
      "mutation started\n",
      "lenght of elite layout in mutation before appending is : 5\n",
      "lenght of elite layout in mutation after appending is : 6\n",
      "mutation process is taking progress\n",
      "type of crossover output is : <class 'pandas.core.frame.DataFrame'>\n",
      "lenght of elite layout in cross over before appending is : 6\n",
      "lenght of elite layout in cross over after appending is : 7\n",
      "type of crossover output is : <class 'pandas.core.frame.DataFrame'>\n",
      "lenght of elite layout in cross over before appending is : 7\n",
      "lenght of elite layout in cross over after appending is : 8\n",
      "type of crossover output is : <class 'pandas.core.frame.DataFrame'>\n",
      "lenght of elite layout in cross over before appending is : 8\n",
      "lenght of elite layout in cross over after appending is : 9\n",
      "type of crossover output is : <class 'pandas.core.frame.DataFrame'>\n",
      "lenght of elite layout in cross over before appending is : 9\n",
      "lenght of elite layout in cross over after appending is : 10\n",
      "type of crossover output is : <class 'pandas.core.frame.DataFrame'>\n",
      "lenght of elite layout in cross over before appending is : 10\n",
      "lenght of elite layout in cross over after appending is : 11\n",
      "type of crossover output is : <class 'pandas.core.frame.DataFrame'>\n",
      "lenght of elite layout in cross over before appending is : 11\n",
      "lenght of elite layout in cross over after appending is : 12\n",
      "type of crossover output is : <class 'pandas.core.frame.DataFrame'>\n",
      "lenght of elite layout in cross over before appending is : 12\n",
      "lenght of elite layout in cross over after appending is : 13\n",
      "type of crossover output is : <class 'pandas.core.frame.DataFrame'>\n",
      "lenght of elite layout in cross over before appending is : 13\n",
      "lenght of elite layout in cross over after appending is : 14\n",
      "type of crossover output is : <class 'pandas.core.frame.DataFrame'>\n",
      "lenght of elite layout in cross over before appending is : 14\n",
      "lenght of elite layout in cross over after appending is : 15\n",
      "type of crossover output is : <class 'pandas.core.frame.DataFrame'>\n",
      "lenght of elite layout in cross over before appending is : 15\n",
      "lenght of elite layout in cross over after appending is : 16\n",
      "type of crossover output is : <class 'pandas.core.frame.DataFrame'>\n",
      "lenght of elite layout in cross over before appending is : 16\n",
      "lenght of elite layout in cross over after appending is : 17\n",
      "mutation started\n",
      "lenght of elite layout in mutation before appending is : 17\n",
      "lenght of elite layout in mutation after appending is : 18\n",
      "mutation process is taking progress\n",
      "type of crossover output is : <class 'pandas.core.frame.DataFrame'>\n",
      "lenght of elite layout in cross over before appending is : 18\n",
      "lenght of elite layout in cross over after appending is : 19\n",
      "type of crossover output is : <class 'pandas.core.frame.DataFrame'>\n",
      "lenght of elite layout in cross over before appending is : 19\n",
      "lenght of elite layout in cross over after appending is : 20\n",
      "type of crossover output is : <class 'pandas.core.frame.DataFrame'>\n",
      "lenght of elite layout in cross over before appending is : 20\n",
      "lenght of elite layout in cross over after appending is : 21\n",
      "type of crossover output is : <class 'pandas.core.frame.DataFrame'>\n",
      "lenght of elite layout in cross over before appending is : 21\n",
      "lenght of elite layout in cross over after appending is : 22\n"
     ]
    },
    {
     "name": "stderr",
     "output_type": "stream",
     "text": [
      "  0%|          | 0/36 [00:00<?, ?it/s]"
     ]
    },
    {
     "name": "stdout",
     "output_type": "stream",
     "text": [
      "type of crossover output is : <class 'pandas.core.frame.DataFrame'>\n",
      "lenght of elite layout in cross over before appending is : 22\n",
      "lenght of elite layout in cross over after appending is : 23\n",
      "type of evaluation output is : <class 'list'>\n",
      "Both perimeter and proximity constraints are satisfied !!\n",
      "\n",
      "Calculating AEP......\n"
     ]
    },
    {
     "name": "stderr",
     "output_type": "stream",
     "text": [
      "100%|██████████| 36/36 [00:01<00:00, 27.18it/s]\n",
      "  0%|          | 0/36 [00:00<?, ?it/s]"
     ]
    },
    {
     "name": "stdout",
     "output_type": "stream",
     "text": [
      "Total power produced by the wind farm is:  575.117825592181 GWh\n",
      "Both perimeter and proximity constraints are satisfied !!\n",
      "\n",
      "Calculating AEP......\n"
     ]
    },
    {
     "name": "stderr",
     "output_type": "stream",
     "text": [
      "100%|██████████| 36/36 [00:04<00:00,  8.50it/s]\n",
      "  0%|          | 0/36 [00:00<?, ?it/s]"
     ]
    },
    {
     "name": "stdout",
     "output_type": "stream",
     "text": [
      "Total power produced by the wind farm is:  575.117824779713 GWh\n",
      "Both perimeter and proximity constraints are satisfied !!\n",
      "\n",
      "Calculating AEP......\n"
     ]
    },
    {
     "name": "stderr",
     "output_type": "stream",
     "text": [
      "100%|██████████| 36/36 [00:01<00:00, 25.04it/s]\n",
      "  0%|          | 0/36 [00:00<?, ?it/s]"
     ]
    },
    {
     "name": "stdout",
     "output_type": "stream",
     "text": [
      "Total power produced by the wind farm is:  575.117824743213 GWh\n",
      "Both perimeter and proximity constraints are satisfied !!\n",
      "\n",
      "Calculating AEP......\n"
     ]
    },
    {
     "name": "stderr",
     "output_type": "stream",
     "text": [
      "100%|██████████| 36/36 [00:01<00:00, 25.62it/s]\n",
      "  0%|          | 0/36 [00:00<?, ?it/s]"
     ]
    },
    {
     "name": "stdout",
     "output_type": "stream",
     "text": [
      "Total power produced by the wind farm is:  570.994650947793 GWh\n",
      "Both perimeter and proximity constraints are satisfied !!\n",
      "\n",
      "Calculating AEP......\n"
     ]
    },
    {
     "name": "stderr",
     "output_type": "stream",
     "text": [
      "100%|██████████| 36/36 [00:01<00:00, 23.87it/s]\n",
      "  0%|          | 0/36 [00:00<?, ?it/s]"
     ]
    },
    {
     "name": "stdout",
     "output_type": "stream",
     "text": [
      "Total power produced by the wind farm is:  570.457293399025 GWh\n",
      "Both perimeter and proximity constraints are satisfied !!\n",
      "\n",
      "Calculating AEP......\n"
     ]
    },
    {
     "name": "stderr",
     "output_type": "stream",
     "text": [
      "100%|██████████| 36/36 [00:01<00:00, 26.42it/s]\n",
      "  0%|          | 0/36 [00:00<?, ?it/s]"
     ]
    },
    {
     "name": "stdout",
     "output_type": "stream",
     "text": [
      "Total power produced by the wind farm is:  569.940753530394 GWh\n",
      "Both perimeter and proximity constraints are satisfied !!\n",
      "\n",
      "Calculating AEP......\n"
     ]
    },
    {
     "name": "stderr",
     "output_type": "stream",
     "text": [
      "100%|██████████| 36/36 [00:01<00:00, 25.32it/s]\n",
      "  0%|          | 0/36 [00:00<?, ?it/s]"
     ]
    },
    {
     "name": "stdout",
     "output_type": "stream",
     "text": [
      "Total power produced by the wind farm is:  575.117824303366 GWh\n",
      "Both perimeter and proximity constraints are satisfied !!\n",
      "\n",
      "Calculating AEP......\n"
     ]
    },
    {
     "name": "stderr",
     "output_type": "stream",
     "text": [
      "100%|██████████| 36/36 [00:01<00:00, 24.82it/s]\n",
      "  0%|          | 0/36 [00:00<?, ?it/s]"
     ]
    },
    {
     "name": "stdout",
     "output_type": "stream",
     "text": [
      "Total power produced by the wind farm is:  575.117817059955 GWh\n",
      "Both perimeter and proximity constraints are satisfied !!\n",
      "\n",
      "Calculating AEP......\n"
     ]
    },
    {
     "name": "stderr",
     "output_type": "stream",
     "text": [
      "100%|██████████| 36/36 [00:01<00:00, 26.23it/s]\n",
      "  0%|          | 0/36 [00:00<?, ?it/s]"
     ]
    },
    {
     "name": "stdout",
     "output_type": "stream",
     "text": [
      "Total power produced by the wind farm is:  575.117823094643 GWh\n",
      "Both perimeter and proximity constraints are satisfied !!\n",
      "\n",
      "Calculating AEP......\n"
     ]
    },
    {
     "name": "stderr",
     "output_type": "stream",
     "text": [
      "100%|██████████| 36/36 [00:01<00:00, 25.76it/s]\n",
      "  0%|          | 0/36 [00:00<?, ?it/s]"
     ]
    },
    {
     "name": "stdout",
     "output_type": "stream",
     "text": [
      "Total power produced by the wind farm is:  575.117814181917 GWh\n",
      "Both perimeter and proximity constraints are satisfied !!\n",
      "\n",
      "Calculating AEP......\n"
     ]
    },
    {
     "name": "stderr",
     "output_type": "stream",
     "text": [
      "100%|██████████| 36/36 [00:01<00:00, 27.94it/s]\n",
      "  0%|          | 0/36 [00:00<?, ?it/s]"
     ]
    },
    {
     "name": "stdout",
     "output_type": "stream",
     "text": [
      "Total power produced by the wind farm is:  575.117816682869 GWh\n",
      "Both perimeter and proximity constraints are satisfied !!\n",
      "\n",
      "Calculating AEP......\n"
     ]
    },
    {
     "name": "stderr",
     "output_type": "stream",
     "text": [
      "100%|██████████| 36/36 [00:01<00:00, 26.86it/s]\n",
      "  0%|          | 0/36 [00:00<?, ?it/s]"
     ]
    },
    {
     "name": "stdout",
     "output_type": "stream",
     "text": [
      "Total power produced by the wind farm is:  575.117826459794 GWh\n",
      "Both perimeter and proximity constraints are satisfied !!\n",
      "\n",
      "Calculating AEP......\n"
     ]
    },
    {
     "name": "stderr",
     "output_type": "stream",
     "text": [
      "100%|██████████| 36/36 [00:01<00:00, 26.93it/s]\n",
      "  0%|          | 0/36 [00:00<?, ?it/s]"
     ]
    },
    {
     "name": "stdout",
     "output_type": "stream",
     "text": [
      "Total power produced by the wind farm is:  575.117823494050 GWh\n",
      "Both perimeter and proximity constraints are satisfied !!\n",
      "\n",
      "Calculating AEP......\n"
     ]
    },
    {
     "name": "stderr",
     "output_type": "stream",
     "text": [
      "100%|██████████| 36/36 [00:01<00:00, 27.71it/s]\n",
      "  0%|          | 0/36 [00:00<?, ?it/s]"
     ]
    },
    {
     "name": "stdout",
     "output_type": "stream",
     "text": [
      "Total power produced by the wind farm is:  575.117821886445 GWh\n",
      "Both perimeter and proximity constraints are satisfied !!\n",
      "\n",
      "Calculating AEP......\n"
     ]
    },
    {
     "name": "stderr",
     "output_type": "stream",
     "text": [
      "100%|██████████| 36/36 [00:01<00:00, 26.50it/s]\n",
      "  0%|          | 0/36 [00:00<?, ?it/s]"
     ]
    },
    {
     "name": "stdout",
     "output_type": "stream",
     "text": [
      "Total power produced by the wind farm is:  575.117825545439 GWh\n",
      "Both perimeter and proximity constraints are satisfied !!\n",
      "\n",
      "Calculating AEP......\n"
     ]
    },
    {
     "name": "stderr",
     "output_type": "stream",
     "text": [
      "100%|██████████| 36/36 [00:01<00:00, 25.89it/s]\n",
      "  0%|          | 0/36 [00:00<?, ?it/s]"
     ]
    },
    {
     "name": "stdout",
     "output_type": "stream",
     "text": [
      "Total power produced by the wind farm is:  575.117818561734 GWh\n",
      "Both perimeter and proximity constraints are satisfied !!\n",
      "\n",
      "Calculating AEP......\n"
     ]
    },
    {
     "name": "stderr",
     "output_type": "stream",
     "text": [
      "100%|██████████| 36/36 [00:01<00:00, 24.31it/s]\n",
      "  0%|          | 0/36 [00:00<?, ?it/s]"
     ]
    },
    {
     "name": "stdout",
     "output_type": "stream",
     "text": [
      "Total power produced by the wind farm is:  575.117821094459 GWh\n",
      "Both perimeter and proximity constraints are satisfied !!\n",
      "\n",
      "Calculating AEP......\n"
     ]
    },
    {
     "name": "stderr",
     "output_type": "stream",
     "text": [
      "100%|██████████| 36/36 [00:01<00:00, 26.15it/s]\n",
      "  0%|          | 0/36 [00:00<?, ?it/s]"
     ]
    },
    {
     "name": "stdout",
     "output_type": "stream",
     "text": [
      "Total power produced by the wind farm is:  570.951615238903 GWh\n",
      "Both perimeter and proximity constraints are satisfied !!\n",
      "\n",
      "Calculating AEP......\n"
     ]
    },
    {
     "name": "stderr",
     "output_type": "stream",
     "text": [
      "100%|██████████| 36/36 [00:01<00:00, 25.67it/s]\n",
      "  0%|          | 0/36 [00:00<?, ?it/s]"
     ]
    },
    {
     "name": "stdout",
     "output_type": "stream",
     "text": [
      "Total power produced by the wind farm is:  575.117817815702 GWh\n",
      "Both perimeter and proximity constraints are satisfied !!\n",
      "\n",
      "Calculating AEP......\n"
     ]
    },
    {
     "name": "stderr",
     "output_type": "stream",
     "text": [
      "100%|██████████| 36/36 [00:04<00:00,  8.47it/s]\n",
      "  0%|          | 0/36 [00:00<?, ?it/s]"
     ]
    },
    {
     "name": "stdout",
     "output_type": "stream",
     "text": [
      "Total power produced by the wind farm is:  575.117820789324 GWh\n",
      "Both perimeter and proximity constraints are satisfied !!\n",
      "\n",
      "Calculating AEP......\n"
     ]
    },
    {
     "name": "stderr",
     "output_type": "stream",
     "text": [
      "100%|██████████| 36/36 [00:01<00:00, 26.71it/s]\n",
      "  0%|          | 0/36 [00:00<?, ?it/s]"
     ]
    },
    {
     "name": "stdout",
     "output_type": "stream",
     "text": [
      "Total power produced by the wind farm is:  575.117816974611 GWh\n",
      "Both perimeter and proximity constraints are satisfied !!\n",
      "\n",
      "Calculating AEP......\n"
     ]
    },
    {
     "name": "stderr",
     "output_type": "stream",
     "text": [
      "100%|██████████| 36/36 [00:01<00:00, 25.54it/s]\n",
      "  0%|          | 0/36 [00:00<?, ?it/s]"
     ]
    },
    {
     "name": "stdout",
     "output_type": "stream",
     "text": [
      "Total power produced by the wind farm is:  575.117819399936 GWh\n",
      "Both perimeter and proximity constraints are satisfied !!\n",
      "\n",
      "Calculating AEP......\n"
     ]
    },
    {
     "name": "stderr",
     "output_type": "stream",
     "text": [
      "100%|██████████| 36/36 [00:01<00:00, 24.72it/s]\n"
     ]
    },
    {
     "name": "stdout",
     "output_type": "stream",
     "text": [
      "Total power produced by the wind farm is:  575.117822271934 GWh\n",
      "Int64Index([11, 0, 14], dtype='int64')\n",
      "        AEP iteration_num\n",
      "11  575.118             9\n",
      "0   575.118             9\n",
      "14  575.118             9\n",
      "1   575.118             9\n",
      "2   575.118             9\n",
      "6   575.118             9\n",
      "12  575.118             9\n",
      "8   575.118             9\n",
      "22  575.118             9\n",
      "13  575.118             9\n",
      "16  575.118             9\n",
      "19  575.118             9\n",
      "21  575.118             9\n",
      "15  575.118             9\n",
      "18  575.118             9\n",
      "7   575.118             9\n",
      "20  575.118             9\n",
      "10  575.118             9\n",
      "9   575.118             9\n",
      "3   570.995             9\n",
      "17  570.952             9\n",
      "4   570.457             9\n",
      "5   569.941             9\n",
      "sample elite output type is: <class 'list'>\n",
      "iteration: 9\n",
      "length of new population in main function is : 3\n",
      "elite_layout type is: <class 'list'>\n",
      "type of crossover output is : <class 'pandas.core.frame.DataFrame'>\n",
      "lenght of elite layout in cross over before appending is : 3\n",
      "lenght of elite layout in cross over after appending is : 4\n",
      "mutation started\n",
      "lenght of elite layout in mutation before appending is : 4\n",
      "lenght of elite layout in mutation after appending is : 5\n",
      "mutation process is taking progress\n",
      "type of crossover output is : <class 'pandas.core.frame.DataFrame'>\n",
      "lenght of elite layout in cross over before appending is : 5\n",
      "lenght of elite layout in cross over after appending is : 6\n",
      "type of crossover output is : <class 'pandas.core.frame.DataFrame'>\n",
      "lenght of elite layout in cross over before appending is : 6\n",
      "lenght of elite layout in cross over after appending is : 7\n",
      "type of crossover output is : <class 'pandas.core.frame.DataFrame'>\n",
      "lenght of elite layout in cross over before appending is : 7\n",
      "lenght of elite layout in cross over after appending is : 8\n",
      "type of crossover output is : <class 'pandas.core.frame.DataFrame'>\n",
      "lenght of elite layout in cross over before appending is : 8\n",
      "lenght of elite layout in cross over after appending is : 9\n",
      "type of crossover output is : <class 'pandas.core.frame.DataFrame'>\n",
      "lenght of elite layout in cross over before appending is : 9\n",
      "lenght of elite layout in cross over after appending is : 10\n",
      "type of crossover output is : <class 'pandas.core.frame.DataFrame'>\n",
      "lenght of elite layout in cross over before appending is : 10\n",
      "lenght of elite layout in cross over after appending is : 11\n",
      "type of crossover output is : <class 'pandas.core.frame.DataFrame'>\n",
      "lenght of elite layout in cross over before appending is : 11\n",
      "lenght of elite layout in cross over after appending is : 12\n",
      "type of crossover output is : <class 'pandas.core.frame.DataFrame'>\n",
      "lenght of elite layout in cross over before appending is : 12\n",
      "lenght of elite layout in cross over after appending is : 13\n",
      "mutation started\n",
      "lenght of elite layout in mutation before appending is : 13\n",
      "lenght of elite layout in mutation after appending is : 14\n",
      "mutation process is taking progress\n",
      "type of crossover output is : <class 'pandas.core.frame.DataFrame'>\n",
      "lenght of elite layout in cross over before appending is : 14\n",
      "lenght of elite layout in cross over after appending is : 15\n",
      "type of crossover output is : <class 'pandas.core.frame.DataFrame'>\n",
      "lenght of elite layout in cross over before appending is : 15\n",
      "lenght of elite layout in cross over after appending is : 16\n",
      "type of crossover output is : <class 'pandas.core.frame.DataFrame'>\n",
      "lenght of elite layout in cross over before appending is : 16\n",
      "lenght of elite layout in cross over after appending is : 17\n",
      "type of crossover output is : <class 'pandas.core.frame.DataFrame'>\n",
      "lenght of elite layout in cross over before appending is : 17\n",
      "lenght of elite layout in cross over after appending is : 18\n",
      "type of crossover output is : <class 'pandas.core.frame.DataFrame'>\n",
      "lenght of elite layout in cross over before appending is : 18\n",
      "lenght of elite layout in cross over after appending is : 19\n",
      "type of crossover output is : <class 'pandas.core.frame.DataFrame'>\n",
      "lenght of elite layout in cross over before appending is : 19\n",
      "lenght of elite layout in cross over after appending is : 20\n",
      "type of crossover output is : <class 'pandas.core.frame.DataFrame'>\n",
      "lenght of elite layout in cross over before appending is : 20\n",
      "lenght of elite layout in cross over after appending is : 21\n",
      "type of crossover output is : <class 'pandas.core.frame.DataFrame'>\n",
      "lenght of elite layout in cross over before appending is : 21\n",
      "lenght of elite layout in cross over after appending is : 22\n"
     ]
    },
    {
     "name": "stderr",
     "output_type": "stream",
     "text": [
      "  0%|          | 0/36 [00:00<?, ?it/s]"
     ]
    },
    {
     "name": "stdout",
     "output_type": "stream",
     "text": [
      "type of crossover output is : <class 'pandas.core.frame.DataFrame'>\n",
      "lenght of elite layout in cross over before appending is : 22\n",
      "lenght of elite layout in cross over after appending is : 23\n",
      "type of evaluation output is : <class 'list'>\n",
      "Both perimeter and proximity constraints are satisfied !!\n",
      "\n",
      "Calculating AEP......\n"
     ]
    },
    {
     "name": "stderr",
     "output_type": "stream",
     "text": [
      "100%|██████████| 36/36 [00:01<00:00, 26.59it/s]\n",
      "  0%|          | 0/36 [00:00<?, ?it/s]"
     ]
    },
    {
     "name": "stdout",
     "output_type": "stream",
     "text": [
      "Total power produced by the wind farm is:  575.117826459794 GWh\n",
      "Both perimeter and proximity constraints are satisfied !!\n",
      "\n",
      "Calculating AEP......\n"
     ]
    },
    {
     "name": "stderr",
     "output_type": "stream",
     "text": [
      "100%|██████████| 36/36 [00:01<00:00, 23.87it/s]\n",
      "  0%|          | 0/36 [00:00<?, ?it/s]"
     ]
    },
    {
     "name": "stdout",
     "output_type": "stream",
     "text": [
      "Total power produced by the wind farm is:  575.117825592181 GWh\n",
      "Both perimeter and proximity constraints are satisfied !!\n",
      "\n",
      "Calculating AEP......\n"
     ]
    },
    {
     "name": "stderr",
     "output_type": "stream",
     "text": [
      "100%|██████████| 36/36 [00:01<00:00, 25.81it/s]\n",
      "  0%|          | 0/36 [00:00<?, ?it/s]"
     ]
    },
    {
     "name": "stdout",
     "output_type": "stream",
     "text": [
      "Total power produced by the wind farm is:  575.117825545439 GWh\n",
      "Both perimeter and proximity constraints are satisfied !!\n",
      "\n",
      "Calculating AEP......\n"
     ]
    },
    {
     "name": "stderr",
     "output_type": "stream",
     "text": [
      "100%|██████████| 36/36 [00:01<00:00, 25.63it/s]\n",
      "  0%|          | 0/36 [00:00<?, ?it/s]"
     ]
    },
    {
     "name": "stdout",
     "output_type": "stream",
     "text": [
      "Total power produced by the wind farm is:  575.117819581914 GWh\n",
      "Both perimeter and proximity constraints are satisfied !!\n",
      "\n",
      "Calculating AEP......\n"
     ]
    },
    {
     "name": "stderr",
     "output_type": "stream",
     "text": [
      "100%|██████████| 36/36 [00:01<00:00, 26.06it/s]\n",
      "  0%|          | 0/36 [00:00<?, ?it/s]"
     ]
    },
    {
     "name": "stdout",
     "output_type": "stream",
     "text": [
      "Total power produced by the wind farm is:  571.958926339541 GWh\n",
      "Both perimeter and proximity constraints are satisfied !!\n",
      "\n",
      "Calculating AEP......\n"
     ]
    },
    {
     "name": "stderr",
     "output_type": "stream",
     "text": [
      "100%|██████████| 36/36 [00:01<00:00, 25.37it/s]\n",
      "  0%|          | 0/36 [00:00<?, ?it/s]"
     ]
    },
    {
     "name": "stdout",
     "output_type": "stream",
     "text": [
      "Total power produced by the wind farm is:  575.117819210868 GWh\n",
      "Both perimeter and proximity constraints are satisfied !!\n",
      "\n",
      "Calculating AEP......\n"
     ]
    },
    {
     "name": "stderr",
     "output_type": "stream",
     "text": [
      "100%|██████████| 36/36 [00:01<00:00, 27.40it/s]\n",
      "  0%|          | 0/36 [00:00<?, ?it/s]"
     ]
    },
    {
     "name": "stdout",
     "output_type": "stream",
     "text": [
      "Total power produced by the wind farm is:  575.117818585892 GWh\n",
      "Both perimeter and proximity constraints are satisfied !!\n",
      "\n",
      "Calculating AEP......\n"
     ]
    },
    {
     "name": "stderr",
     "output_type": "stream",
     "text": [
      "100%|██████████| 36/36 [00:01<00:00, 27.09it/s]\n",
      "  0%|          | 0/36 [00:00<?, ?it/s]"
     ]
    },
    {
     "name": "stdout",
     "output_type": "stream",
     "text": [
      "Total power produced by the wind farm is:  575.117817408943 GWh\n",
      "Both perimeter and proximity constraints are satisfied !!\n",
      "\n",
      "Calculating AEP......\n"
     ]
    },
    {
     "name": "stderr",
     "output_type": "stream",
     "text": [
      "100%|██████████| 36/36 [00:01<00:00, 29.92it/s]\n",
      "  0%|          | 0/36 [00:00<?, ?it/s]"
     ]
    },
    {
     "name": "stdout",
     "output_type": "stream",
     "text": [
      "Total power produced by the wind farm is:  575.117820433509 GWh\n",
      "Both perimeter and proximity constraints are satisfied !!\n",
      "\n",
      "Calculating AEP......\n"
     ]
    },
    {
     "name": "stderr",
     "output_type": "stream",
     "text": [
      "100%|██████████| 36/36 [00:01<00:00, 28.33it/s]\n"
     ]
    },
    {
     "name": "stdout",
     "output_type": "stream",
     "text": [
      "Total power produced by the wind farm is:  575.117817950413 GWh\n"
     ]
    },
    {
     "name": "stderr",
     "output_type": "stream",
     "text": [
      "  0%|          | 0/36 [00:00<?, ?it/s]"
     ]
    },
    {
     "name": "stdout",
     "output_type": "stream",
     "text": [
      "Both perimeter and proximity constraints are satisfied !!\n",
      "\n",
      "Calculating AEP......\n"
     ]
    },
    {
     "name": "stderr",
     "output_type": "stream",
     "text": [
      "100%|██████████| 36/36 [00:01<00:00, 26.95it/s]\n",
      "  0%|          | 0/36 [00:00<?, ?it/s]"
     ]
    },
    {
     "name": "stdout",
     "output_type": "stream",
     "text": [
      "Total power produced by the wind farm is:  575.117819559331 GWh\n",
      "Both perimeter and proximity constraints are satisfied !!\n",
      "\n",
      "Calculating AEP......\n"
     ]
    },
    {
     "name": "stderr",
     "output_type": "stream",
     "text": [
      "100%|██████████| 36/36 [00:01<00:00, 26.63it/s]\n",
      "  0%|          | 0/36 [00:00<?, ?it/s]"
     ]
    },
    {
     "name": "stdout",
     "output_type": "stream",
     "text": [
      "Total power produced by the wind farm is:  575.117822738302 GWh\n",
      "Both perimeter and proximity constraints are satisfied !!\n",
      "\n",
      "Calculating AEP......\n"
     ]
    },
    {
     "name": "stderr",
     "output_type": "stream",
     "text": [
      "100%|██████████| 36/36 [00:01<00:00, 27.48it/s]\n",
      "  0%|          | 0/36 [00:00<?, ?it/s]"
     ]
    },
    {
     "name": "stdout",
     "output_type": "stream",
     "text": [
      "Total power produced by the wind farm is:  575.117816496164 GWh\n",
      "Both perimeter and proximity constraints are satisfied !!\n",
      "\n",
      "Calculating AEP......\n"
     ]
    },
    {
     "name": "stderr",
     "output_type": "stream",
     "text": [
      "100%|██████████| 36/36 [00:01<00:00, 27.63it/s]\n",
      "  0%|          | 0/36 [00:00<?, ?it/s]"
     ]
    },
    {
     "name": "stdout",
     "output_type": "stream",
     "text": [
      "Total power produced by the wind farm is:  571.224112203656 GWh\n",
      "Both perimeter and proximity constraints are satisfied !!\n",
      "\n",
      "Calculating AEP......\n"
     ]
    },
    {
     "name": "stderr",
     "output_type": "stream",
     "text": [
      "100%|██████████| 36/36 [00:04<00:00,  8.69it/s]\n",
      "  0%|          | 0/36 [00:00<?, ?it/s]"
     ]
    },
    {
     "name": "stdout",
     "output_type": "stream",
     "text": [
      "Total power produced by the wind farm is:  575.117824240606 GWh\n",
      "Both perimeter and proximity constraints are satisfied !!\n",
      "\n",
      "Calculating AEP......\n"
     ]
    },
    {
     "name": "stderr",
     "output_type": "stream",
     "text": [
      "100%|██████████| 36/36 [00:01<00:00, 28.16it/s]\n",
      "  0%|          | 0/36 [00:00<?, ?it/s]"
     ]
    },
    {
     "name": "stdout",
     "output_type": "stream",
     "text": [
      "Total power produced by the wind farm is:  575.117825969530 GWh\n",
      "Both perimeter and proximity constraints are satisfied !!\n",
      "\n",
      "Calculating AEP......\n"
     ]
    },
    {
     "name": "stderr",
     "output_type": "stream",
     "text": [
      "100%|██████████| 36/36 [00:01<00:00, 28.05it/s]\n",
      "  0%|          | 0/36 [00:00<?, ?it/s]"
     ]
    },
    {
     "name": "stdout",
     "output_type": "stream",
     "text": [
      "Total power produced by the wind farm is:  575.117823764522 GWh\n",
      "Both perimeter and proximity constraints are satisfied !!\n",
      "\n",
      "Calculating AEP......\n"
     ]
    },
    {
     "name": "stderr",
     "output_type": "stream",
     "text": [
      "100%|██████████| 36/36 [00:01<00:00, 27.03it/s]\n",
      "  0%|          | 0/36 [00:00<?, ?it/s]"
     ]
    },
    {
     "name": "stdout",
     "output_type": "stream",
     "text": [
      "Total power produced by the wind farm is:  575.117820169601 GWh\n",
      "Both perimeter and proximity constraints are satisfied !!\n",
      "\n",
      "Calculating AEP......\n"
     ]
    },
    {
     "name": "stderr",
     "output_type": "stream",
     "text": [
      "100%|██████████| 36/36 [00:01<00:00, 25.93it/s]\n",
      "  0%|          | 0/36 [00:00<?, ?it/s]"
     ]
    },
    {
     "name": "stdout",
     "output_type": "stream",
     "text": [
      "Total power produced by the wind farm is:  575.117816382461 GWh\n",
      "Both perimeter and proximity constraints are satisfied !!\n",
      "\n",
      "Calculating AEP......\n"
     ]
    },
    {
     "name": "stderr",
     "output_type": "stream",
     "text": [
      "100%|██████████| 36/36 [00:01<00:00, 26.56it/s]\n",
      "  0%|          | 0/36 [00:00<?, ?it/s]"
     ]
    },
    {
     "name": "stdout",
     "output_type": "stream",
     "text": [
      "Total power produced by the wind farm is:  575.117817819379 GWh\n",
      "Both perimeter and proximity constraints are satisfied !!\n",
      "\n",
      "Calculating AEP......\n"
     ]
    },
    {
     "name": "stderr",
     "output_type": "stream",
     "text": [
      "100%|██████████| 36/36 [00:01<00:00, 26.54it/s]\n",
      "  0%|          | 0/36 [00:00<?, ?it/s]"
     ]
    },
    {
     "name": "stdout",
     "output_type": "stream",
     "text": [
      "Total power produced by the wind farm is:  575.117816885067 GWh\n",
      "Both perimeter and proximity constraints are satisfied !!\n",
      "\n",
      "Calculating AEP......\n"
     ]
    },
    {
     "name": "stderr",
     "output_type": "stream",
     "text": [
      "100%|██████████| 36/36 [00:01<00:00, 27.19it/s]\n",
      "  0%|          | 0/36 [00:00<?, ?it/s]"
     ]
    },
    {
     "name": "stdout",
     "output_type": "stream",
     "text": [
      "Total power produced by the wind farm is:  575.117818848224 GWh\n",
      "Both perimeter and proximity constraints are satisfied !!\n",
      "\n",
      "Calculating AEP......\n"
     ]
    },
    {
     "name": "stderr",
     "output_type": "stream",
     "text": [
      "100%|██████████| 36/36 [00:01<00:00, 25.64it/s]"
     ]
    },
    {
     "name": "stdout",
     "output_type": "stream",
     "text": [
      "Total power produced by the wind farm is:  575.117818855840 GWh\n",
      "       AEP\n",
      "0  575.118\n",
      "[0]\n"
     ]
    },
    {
     "name": "stderr",
     "output_type": "stream",
     "text": [
      "\n"
     ]
    }
   ],
   "source": [
    "k = fn_main()"
   ]
  },
  {
   "cell_type": "markdown",
   "metadata": {},
   "source": [
    "w = [0.5,0.4,0.1]---->>555.1---->>submission score is 531.4\n",
    "w= [0,1,0]---> 573.1--->> submission score is 529.9\n",
    "w = [0.6,0.2,0.2]-->539-->528.67\n",
    "w = [0.9,0.09,0.01]-->557.9-->529.9\n",
    "w = [0.1,0.1,0.8]-->480.87-->530.2\n",
    "w = [0.5,0.2,0.3]-->532.695->531.4\n",
    "w = [0.5,0.2,0.3]-->533.72-.532.12\n",
    "535.18\n",
    "534.336-->532.8 -200iterations submission\n",
    "561.05->>533 for 2017 data with 25 iterations\n",
    "574.49 -> 545.45 two iterations,2017\n",
    "575.118-> 546.64 fully mutation\n",
    "574.596 -> 36 points fixed 14 added.\n"
   ]
  },
  {
   "cell_type": "code",
   "execution_count": 77,
   "metadata": {},
   "outputs": [
    {
     "data": {
      "text/html": [
       "<div>\n",
       "<style scoped>\n",
       "    .dataframe tbody tr th:only-of-type {\n",
       "        vertical-align: middle;\n",
       "    }\n",
       "\n",
       "    .dataframe tbody tr th {\n",
       "        vertical-align: top;\n",
       "    }\n",
       "\n",
       "    .dataframe thead th {\n",
       "        text-align: right;\n",
       "    }\n",
       "</style>\n",
       "<table border=\"1\" class=\"dataframe\">\n",
       "  <thead>\n",
       "    <tr style=\"text-align: right;\">\n",
       "      <th></th>\n",
       "      <th>AEP</th>\n",
       "      <th>iteration_num</th>\n",
       "    </tr>\n",
       "  </thead>\n",
       "  <tbody>\n",
       "    <tr>\n",
       "      <th>21</th>\n",
       "      <td>574.596</td>\n",
       "      <td>9</td>\n",
       "    </tr>\n",
       "    <tr>\n",
       "      <th>0</th>\n",
       "      <td>574.596</td>\n",
       "      <td>9</td>\n",
       "    </tr>\n",
       "    <tr>\n",
       "      <th>12</th>\n",
       "      <td>574.517</td>\n",
       "      <td>9</td>\n",
       "    </tr>\n",
       "    <tr>\n",
       "      <th>13</th>\n",
       "      <td>574.517</td>\n",
       "      <td>9</td>\n",
       "    </tr>\n",
       "    <tr>\n",
       "      <th>1</th>\n",
       "      <td>574.517</td>\n",
       "      <td>9</td>\n",
       "    </tr>\n",
       "    <tr>\n",
       "      <th>15</th>\n",
       "      <td>574.488</td>\n",
       "      <td>9</td>\n",
       "    </tr>\n",
       "    <tr>\n",
       "      <th>2</th>\n",
       "      <td>574.45</td>\n",
       "      <td>9</td>\n",
       "    </tr>\n",
       "    <tr>\n",
       "      <th>18</th>\n",
       "      <td>574.45</td>\n",
       "      <td>9</td>\n",
       "    </tr>\n",
       "    <tr>\n",
       "      <th>10</th>\n",
       "      <td>574.434</td>\n",
       "      <td>9</td>\n",
       "    </tr>\n",
       "    <tr>\n",
       "      <th>3</th>\n",
       "      <td>574.213</td>\n",
       "      <td>9</td>\n",
       "    </tr>\n",
       "    <tr>\n",
       "      <th>16</th>\n",
       "      <td>574.208</td>\n",
       "      <td>9</td>\n",
       "    </tr>\n",
       "    <tr>\n",
       "      <th>4</th>\n",
       "      <td>573.973</td>\n",
       "      <td>9</td>\n",
       "    </tr>\n",
       "    <tr>\n",
       "      <th>22</th>\n",
       "      <td>573.961</td>\n",
       "      <td>9</td>\n",
       "    </tr>\n",
       "    <tr>\n",
       "      <th>6</th>\n",
       "      <td>573.945</td>\n",
       "      <td>9</td>\n",
       "    </tr>\n",
       "    <tr>\n",
       "      <th>9</th>\n",
       "      <td>573.925</td>\n",
       "      <td>9</td>\n",
       "    </tr>\n",
       "    <tr>\n",
       "      <th>8</th>\n",
       "      <td>573.822</td>\n",
       "      <td>9</td>\n",
       "    </tr>\n",
       "    <tr>\n",
       "      <th>14</th>\n",
       "      <td>573.775</td>\n",
       "      <td>9</td>\n",
       "    </tr>\n",
       "    <tr>\n",
       "      <th>19</th>\n",
       "      <td>573.734</td>\n",
       "      <td>9</td>\n",
       "    </tr>\n",
       "    <tr>\n",
       "      <th>17</th>\n",
       "      <td>573.354</td>\n",
       "      <td>9</td>\n",
       "    </tr>\n",
       "    <tr>\n",
       "      <th>11</th>\n",
       "      <td>572.844</td>\n",
       "      <td>9</td>\n",
       "    </tr>\n",
       "    <tr>\n",
       "      <th>20</th>\n",
       "      <td>572.694</td>\n",
       "      <td>9</td>\n",
       "    </tr>\n",
       "    <tr>\n",
       "      <th>5</th>\n",
       "      <td>571.032</td>\n",
       "      <td>9</td>\n",
       "    </tr>\n",
       "    <tr>\n",
       "      <th>7</th>\n",
       "      <td>570.699</td>\n",
       "      <td>9</td>\n",
       "    </tr>\n",
       "  </tbody>\n",
       "</table>\n",
       "</div>"
      ],
      "text/plain": [
       "        AEP iteration_num\n",
       "21  574.596             9\n",
       "0   574.596             9\n",
       "12  574.517             9\n",
       "13  574.517             9\n",
       "1   574.517             9\n",
       "15  574.488             9\n",
       "2    574.45             9\n",
       "18   574.45             9\n",
       "10  574.434             9\n",
       "3   574.213             9\n",
       "16  574.208             9\n",
       "4   573.973             9\n",
       "22  573.961             9\n",
       "6   573.945             9\n",
       "9   573.925             9\n",
       "8   573.822             9\n",
       "14  573.775             9\n",
       "19  573.734             9\n",
       "17  573.354             9\n",
       "11  572.844             9\n",
       "20  572.694             9\n",
       "5   571.032             9\n",
       "7   570.699             9"
      ]
     },
     "execution_count": 77,
     "metadata": {},
     "output_type": "execute_result"
    }
   ],
   "source": [
    "elite2"
   ]
  },
  {
   "cell_type": "code",
   "execution_count": 25,
   "metadata": {},
   "outputs": [
    {
     "data": {
      "image/png": "[encoded data removed]",
      "text/plain": [
       "<Figure size 432x288 with 1 Axes>"
      ]
     },
     "metadata": {
      "needs_background": "light"
     },
     "output_type": "display_data"
    }
   ],
   "source": [
    "import matplotlib.pyplot as plt\n",
    "\n",
    "plt.scatter(elite2['iteration_num'],elite2['AEP'])\n",
    "plt.xlabel('iteration_num')\n",
    "plt.ylabel('AEP')\n",
    "plt.show()"
   ]
  },
  {
   "cell_type": "code",
   "execution_count": 90,
   "metadata": {},
   "outputs": [
    {
     "data": {
      "image/png": "[encoded data removed]",
      "text/plain": [
       "<Figure size 432x288 with 1 Axes>"
      ]
     },
     "metadata": {
      "needs_background": "light"
     },
     "output_type": "display_data"
    }
   ],
   "source": [
    "import matplotlib.pyplot as plt\n",
    "\n",
    "plt.scatter(k['x'],k['y'])\n",
    "plt.xlabel('x axis')\n",
    "plt.ylabel('y axis')\n",
    "plt.show()"
   ]
  },
  {
   "cell_type": "code",
   "execution_count": 89,
   "metadata": {},
   "outputs": [
    {
     "name": "stderr",
     "output_type": "stream",
     "text": [
      "  0%|          | 0/36 [00:00<?, ?it/s]"
     ]
    },
    {
     "name": "stdout",
     "output_type": "stream",
     "text": [
      "Both perimeter and proximity constraints are satisfied !!\n",
      "\n",
      "Calculating AEP......\n"
     ]
    },
    {
     "name": "stderr",
     "output_type": "stream",
     "text": [
      "100%|██████████| 36/36 [00:01<00:00, 25.18it/s]"
     ]
    },
    {
     "name": "stdout",
     "output_type": "stream",
     "text": [
      "Total power produced by the wind farm is:  575.117826459794 GWh\n"
     ]
    },
    {
     "name": "stderr",
     "output_type": "stream",
     "text": [
      "\n"
     ]
    },
    {
     "data": {
      "text/plain": [
       "575.1178264597938"
      ]
     },
     "execution_count": 89,
     "metadata": {},
     "output_type": "execute_result"
    }
   ],
   "source": [
    "#second submission value\n",
    "fn_fitness_function(k)"
   ]
  },
  {
   "cell_type": "markdown",
   "metadata": {},
   "source": [
    "# Submission file"
   ]
  },
  {
   "cell_type": "code",
   "execution_count": 91,
   "metadata": {},
   "outputs": [],
   "source": [
    "k.to_csv(\"submission19.csv\",index=False)"
   ]
  },
  {
   "cell_type": "code",
   "execution_count": null,
   "metadata": {},
   "outputs": [],
   "source": [
    "type(k)"
   ]
  },
  {
   "cell_type": "code",
   "execution_count": null,
   "metadata": {},
   "outputs": [],
   "source": [
    "checkConstraints(np.array(k),100)"
   ]
  },
  {
   "cell_type": "code",
   "execution_count": null,
   "metadata": {},
   "outputs": [],
   "source": [
    "def binWindResourceData(wind_data_file_name):\n",
    "        r\"\"\"\n",
    "        -**-THIS FUNCTION SHOULD NOT BE MODIFIED-**-\n",
    "\n",
    "        Loads the wind data. Returns a 2D array with shape (36,15). \n",
    "        Each cell in  array is a wind direction and speed 'instance'. \n",
    "        Values in a cell correspond to probability of instance\n",
    "        occurence.  \n",
    "\n",
    "        :Called from\n",
    "            main function\n",
    "\n",
    "        :param\n",
    "            wind_data_file_name - Wind Resource csv file  \n",
    "\n",
    "        :return\n",
    "            2D array with estimated probabilities of wind instance occurence. \n",
    "            Along: Row-direction (drct), Column-Speed (s)\n",
    "\n",
    "                          |0<=s<2|2<=s<4| ...  |26<=s<28|28<=s<30|\n",
    "            |_____________|______|______|______|________|________|\n",
    "            | drct = 360  |  --  |  --  |  --  |   --   |   --   |\n",
    "            | drct = 10   |  --  |  --  |  --  |   --   |   --   |\n",
    "            | drct = 20   |  --  |  --  |  --  |   --   |   --   |\n",
    "            |   ....      |  --  |  --  |  --  |   --   |   --   |\n",
    "            | drct = 340  |  --  |  --  |  --  |   --   |   --   |\n",
    "            | drct = 350  |  --  |  --  |  --  |   --   |   --   |        \n",
    "        \"\"\"\n",
    "\n",
    "        # Load wind data. Then, extracts the 'drct', 'sped' columns\n",
    "        df = pd.read_csv(wind_data_file_name)\n",
    "        wind_resource = df[['drct', 'sped']].to_numpy(dtype = np.float32)\n",
    "\n",
    "        # direction 'slices' in degrees\n",
    "        slices_drct   = np.roll(np.arange(10, 361, 10, dtype=np.float32), 1)\n",
    "        ## slices_drct   = [360, 10.0, 20.0.......340, 350]\n",
    "        n_slices_drct = slices_drct.shape[0]\n",
    "\n",
    "        # speed 'slices'\n",
    "        slices_sped   = [0.0, 2.0, 4.0, 6.0, 8.0, 10.0, 12.0, 14.0, 16.0, \n",
    "                            18.0, 20.0, 22.0, 24.0, 26.0, 28.0, 30.0]\n",
    "        n_slices_sped = len(slices_sped)-1\n",
    "\n",
    "\n",
    "        # placeholder for binned wind\n",
    "        binned_wind = np.zeros((n_slices_drct, n_slices_sped), \n",
    "                               dtype = np.float32)\n",
    "\n",
    "        # 'trap' data points inside the bins. \n",
    "        for i in range(n_slices_drct):\n",
    "            for j in range(n_slices_sped):     \n",
    "\n",
    "                # because we already have drct in the multiples of 10\n",
    "                foo = wind_resource[(wind_resource[:,0] == slices_drct[i])] \n",
    "\n",
    "                foo = foo[(foo[:,1] >= slices_sped[j]) \n",
    "                              & (foo[:,1] <  slices_sped[j+1])]\n",
    "\n",
    "                binned_wind[i,j] = foo.shape[0] \n",
    "\n",
    "        wind_inst_freq   = binned_wind/np.sum(binned_wind)\n",
    "\n",
    "        return(wind_inst_freq)\n"
   ]
  },
  {
   "cell_type": "code",
   "execution_count": null,
   "metadata": {},
   "outputs": [],
   "source": [
    "wind_arr_2017 = binWindResourceData('Shell_Hackathon_Dataset/Wind Data/wind_data_2017.csv')\n",
    "wind_arr_2015 = binWindResourceData('Shell_Hackathon_Dataset/Wind Data/wind_data_2015.csv')\n",
    "wind_arr_2014 = binWindResourceData('Shell_Hackathon_Dataset/Wind Data/wind_data_2014.csv')"
   ]
  },
  {
   "cell_type": "code",
   "execution_count": null,
   "metadata": {},
   "outputs": [],
   "source": [
    "type(wind_arr_2015)"
   ]
  },
  {
   "cell_type": "code",
   "execution_count": null,
   "metadata": {},
   "outputs": [],
   "source": [
    "wind_arr_2017"
   ]
  },
  {
   "cell_type": "code",
   "execution_count": null,
   "metadata": {},
   "outputs": [],
   "source": [
    "wind_arr_2015"
   ]
  },
  {
   "cell_type": "code",
   "execution_count": null,
   "metadata": {},
   "outputs": [],
   "source": [
    "weight_1 = 0.6\n",
    "weight_2 = 0.4\n"
   ]
  },
  {
   "cell_type": "code",
   "execution_count": null,
   "metadata": {},
   "outputs": [],
   "source": [
    "np.average(a=[wind_arr_2017, wind_arr_2015], axis = 0, weights=[weight_1, weight_2])"
   ]
  },
  {
   "cell_type": "code",
   "execution_count": null,
   "metadata": {},
   "outputs": [],
   "source": [
    "8.8011567e-04*0.6+6.6820555e-04*0.4"
   ]
  },
  {
   "cell_type": "code",
   "execution_count": null,
   "metadata": {},
   "outputs": [],
   "source": [
    "def wind_avg():\n",
    "    wind_arr_2017 = binWindResourceData('Shell_Hackathon_Dataset/Wind Data/wind_data_2017.csv')\n",
    "    wind_arr_2015 = binWindResourceData('Shell_Hackathon_Dataset/Wind Data/wind_data_2015.csv')\n",
    "    wind_arr_2014 = binWindResourceData('Shell_Hackathon_Dataset/Wind Data/wind_data_2014.csv')\n",
    "    weight_1 = 0.6\n",
    "    weight_2 = 0.2\n",
    "    weight_3 = 0.2\n",
    "    wind_avg = np.average(a=[wind_arr_2017, wind_arr_2015,wind_arr_2014], axis = 0, weights=[weight_1, weight_2,weight_3])\n",
    "    return \n"
   ]
  },
  {
   "cell_type": "code",
   "execution_count": 23,
   "metadata": {},
   "outputs": [
    {
     "data": {
      "text/plain": [
       "'/home/3706b81a/shell'"
      ]
     },
     "execution_count": 23,
     "metadata": {},
     "output_type": "execute_result"
    }
   ],
   "source": [
    "import os\n",
    "os.getcwd()"
   ]
  },
  {
   "cell_type": "markdown",
   "metadata": {},
   "source": [
    "#this function returns total aep value for each chromosome in initial population after checking constraints are satisfied.\n",
    "def fn_fitness_function(turb_loc_list):\n",
    "        # -*- coding: utf-8 -*-\n",
    "    \"\"\"\n",
    "    Created on: xxxx\n",
    "    @author   : Anon\n",
    "\n",
    "    NAME\n",
    "        Farm_Evalautor.py\n",
    "\n",
    "    PYTHON VERSION   \n",
    "        3.7.3 \n",
    "\n",
    "    DESCRIPTION\n",
    "        Calculates Annual Energy Production (AEP) of a Wind Farm\n",
    "        ============================================================    \n",
    "\n",
    "        Farm_Evalautor.py is a python file that calculates AEP (GWh)\n",
    "        of a certain arrangement of wind turbines in a wind farm, under \n",
    "        given annual wind conditions. \n",
    "\n",
    "        The code in this script for wake-effect modeling is based on\n",
    "        standard Jensen (PARK) model. \n",
    "        I. Katic, J. Hojstrup and N. Jensen, \"A simple model for cluster \n",
    "        efficiency,\" in European Wind Energy Association Conference and \n",
    "        Exhibition, 1986.\n",
    "\n",
    "        As its inputs, the code takes three data files containing info \n",
    "        about:\n",
    "        - Turbine Locations\n",
    "        - Turbine Power Curve\n",
    "        - Annual Wind Conditions\n",
    "\n",
    "    PACKAGE LIST\n",
    "        You may need to install the packages Tqdm and Shapely in your\n",
    "        python distribution. These are not pre-installed. \n",
    "        ============================================================\n",
    "        Packages Used:\n",
    "        Numpy\n",
    "        Pandas\n",
    "        Numba\n",
    "        Tqdm\n",
    "        Shapely\n",
    "        math (built-in)\n",
    "    \"\"\"\n",
    "\n",
    "    # Module List\n",
    "    import numpy  as np\n",
    "    import pandas as pd    \n",
    "    from   numba  import njit                      # For some speed gains                    \n",
    "    from   math   import radians as DegToRad       # Degrees to radians Conversion\n",
    "\n",
    "    from shapely.geometry import Point             # Used in constraint checking\n",
    "    from shapely.geometry.polygon import Polygon\n",
    "\n",
    "    from tqdm import tqdm                          # For Progressbar\n",
    "    # Use from tqdm import tqdm_notebook as tqdm for running in Jupyter Notebook  \n",
    "    # Use from tqdm import tqdm for running in IDE Environ \n",
    "\n",
    "\n",
    "\n",
    "    def getTurbLoc(turb_loc_file_name):\n",
    "        \"\"\" \n",
    "        -**-THIS FUNCTION SHOULD NOT BE MODIFIED-**-\n",
    "\n",
    "        Returns x,y turbine coordinates\n",
    "\n",
    "        :Called from\n",
    "            main function\n",
    "\n",
    "        :param\n",
    "            turb_loc_file_name - Turbine Loc csv file location\n",
    "\n",
    "        :return\n",
    "            2D array\n",
    "        \"\"\"\n",
    "\n",
    "        df = pd.read_csv(turb_loc_file_name, sep=',')\n",
    "        turb_coords = df.to_numpy(dtype = np.float32)\n",
    "        return(turb_coords)\n",
    "    def getTurblocation(turb_loc_list):\n",
    "        turb_coords = np.array(turb_loc_list)\n",
    "        return(turb_coords)\n",
    "\n",
    "    def loadPowerCurve(power_curve_file_name):\n",
    "        \"\"\"\n",
    "        -**-THIS FUNCTION SHOULD NOT BE MODIFIED-**-\n",
    "\n",
    "        Returns a 2D numpy array with information about\n",
    "        turbine thrust coeffecient and power curve of the \n",
    "        turbine for given wind speed\n",
    "\n",
    "        :called_from\n",
    "            main function\n",
    "\n",
    "        :param\n",
    "            power_curve_file_name - power curve csv file location\n",
    "\n",
    "        :return\n",
    "            Returns a 2D numpy array with cols Wind Speed (m/s), \n",
    "            Thrust Coeffecient (non dimensional), Power (MW)\n",
    "        \"\"\"\n",
    "        powerCurve = pd.read_csv(power_curve_file_name, sep=',')\n",
    "        powerCurve = powerCurve.to_numpy(dtype = np.float32)\n",
    "        return(powerCurve)\n",
    "    \n",
    "    def wind_avg():\n",
    "        wind_arr_2017 = binWindResourceData('Shell_Hackathon_Dataset/Wind Data/wind_data_2017.csv')\n",
    "        wind_arr_2015 = binWindResourceData('Shell_Hackathon_Dataset/Wind Data/wind_data_2015.csv')\n",
    "        wind_arr_2014 = binWindResourceData('Shell_Hackathon_Dataset/Wind Data/wind_data_2014.csv')\n",
    "        weight_1 = 1\n",
    "        weight_2 = 0\n",
    "        weight_3 = 0\n",
    "        wind_avg = np.average(a=[wind_arr_2017, wind_arr_2015,wind_arr_2014], axis = 0, weights=[weight_1, weight_2,weight_3])\n",
    "        return wind_avg\n",
    "\n",
    "\n",
    "    def binWindResourceData(wind_data_file_name):\n",
    "        r\"\"\"\n",
    "        -**-THIS FUNCTION SHOULD NOT BE MODIFIED-**-\n",
    "\n",
    "        Loads the wind data. Returns a 2D array with shape (36,15). \n",
    "        Each cell in  array is a wind direction and speed 'instance'. \n",
    "        Values in a cell correspond to probability of instance\n",
    "        occurence.  \n",
    "\n",
    "        :Called from\n",
    "            main function\n",
    "\n",
    "        :param\n",
    "            wind_data_file_name - Wind Resource csv file  \n",
    "\n",
    "        :return\n",
    "            2D array with estimated probabilities of wind instance occurence. \n",
    "            Along: Row-direction (drct), Column-Speed (s)\n",
    "\n",
    "                          |0<=s<2|2<=s<4| ...  |26<=s<28|28<=s<30|\n",
    "            |_____________|______|______|______|________|________|\n",
    "            | drct = 360  |  --  |  --  |  --  |   --   |   --   |\n",
    "            | drct = 10   |  --  |  --  |  --  |   --   |   --   |\n",
    "            | drct = 20   |  --  |  --  |  --  |   --   |   --   |\n",
    "            |   ....      |  --  |  --  |  --  |   --   |   --   |\n",
    "            | drct = 340  |  --  |  --  |  --  |   --   |   --   |\n",
    "            | drct = 350  |  --  |  --  |  --  |   --   |   --   |        \n",
    "        \"\"\"\n",
    "\n",
    "        # Load wind data. Then, extracts the 'drct', 'sped' columns\n",
    "        df = pd.read_csv(wind_data_file_name)\n",
    "        wind_resource = df[['drct', 'sped']].to_numpy(dtype = np.float32)\n",
    "\n",
    "        # direction 'slices' in degrees\n",
    "        slices_drct   = np.roll(np.arange(10, 361, 10, dtype=np.float32), 1)\n",
    "        ## slices_drct   = [360, 10.0, 20.0.......340, 350]\n",
    "        n_slices_drct = slices_drct.shape[0]\n",
    "\n",
    "        # speed 'slices'\n",
    "        slices_sped   = [0.0, 2.0, 4.0, 6.0, 8.0, 10.0, 12.0, 14.0, 16.0, \n",
    "                            18.0, 20.0, 22.0, 24.0, 26.0, 28.0, 30.0]\n",
    "        n_slices_sped = len(slices_sped)-1\n",
    "\n",
    "\n",
    "        # placeholder for binned wind\n",
    "        binned_wind = np.zeros((n_slices_drct, n_slices_sped), \n",
    "                               dtype = np.float32)\n",
    "\n",
    "        # 'trap' data points inside the bins. \n",
    "        for i in range(n_slices_drct):\n",
    "            for j in range(n_slices_sped):     \n",
    "\n",
    "                # because we already have drct in the multiples of 10\n",
    "                foo = wind_resource[(wind_resource[:,0] == slices_drct[i])] \n",
    "\n",
    "                foo = foo[(foo[:,1] >= slices_sped[j]) \n",
    "                              & (foo[:,1] <  slices_sped[j+1])]\n",
    "\n",
    "                binned_wind[i,j] = foo.shape[0] \n",
    "\n",
    "        wind_inst_freq   = binned_wind/np.sum(binned_wind)\n",
    "\n",
    "        return(wind_inst_freq)\n",
    "\n",
    "\n",
    "    def rotatedFrame(turb_coords, wind_drct):\n",
    "        \"\"\"\n",
    "        -**-THIS FUNCTION SHOULD NOT BE MODIFIED-**-\n",
    "\n",
    "        Rotates euclidean coordinates to downwind-crosswind coordinates.\n",
    "        Rotate the axes such that the wind flow direction aligns with the\n",
    "        positive x-axis. \n",
    "\n",
    "        :called from\n",
    "            partAEP\n",
    "\n",
    "        :param\n",
    "            turb_coords   - 2D array. turbine euclidean x,y coordinates\n",
    "            wind_drct     - wind direction in degrees. \n",
    "                            [{'N':0},{'E':90},{'S':180},{'W':270}]\n",
    "\n",
    "        :return    \n",
    "            Rotated turbine locations. \n",
    "        \"\"\"\n",
    "\n",
    "        # so that the wind flow direction aligns with the +ve x-axis.\n",
    "        wind_drct = wind_drct-90\n",
    "\n",
    "        # Convert inflow wind direction from degrees to radians\n",
    "        wind_drct = DegToRad(wind_drct)\n",
    "\n",
    "        # Contants for coordinate transformation \n",
    "        cos_dir = np.cos(wind_drct)\n",
    "        sin_dir = np.sin(wind_drct)\n",
    "\n",
    "        # Coordinate Transformation. Rotate coordinates to downwind, crosswind coordinates \n",
    "        rotate_coords      =    np.zeros((turb_coords.shape[0],2), dtype=np.float32)\n",
    "        rotate_coords[:,0] =    (turb_coords[:,0] * cos_dir) - (turb_coords[:,1] * sin_dir)\n",
    "        rotate_coords[:,1] =    (turb_coords[:,0] * sin_dir) + (turb_coords[:,1] * cos_dir)\n",
    "\n",
    "        return(rotate_coords)\n",
    "\n",
    "\n",
    "    @njit            # jensenParkWake is numba compiled function. Gives speed gains. \n",
    "    def jensenParkWake(n_turbs, turb_diam, rotate_coords, power_curve, wind_sped):\n",
    "        \"\"\"\n",
    "        -**-THIS FUNCTION SHOULD NOT BE MODIFIED-**-\n",
    "\n",
    "        For each turbine, returns the total velocity deficit due to the wakes from \n",
    "        all contributing upstream turbines for given particular wind instance i.e. \n",
    "        wind_sped and drct (indirectly represented by rotated rotate_coords). \n",
    "        Uses Jensen's (PARK) model. \n",
    "\n",
    "        :called from\n",
    "            partAEP\n",
    "\n",
    "        :param\n",
    "            n_turbs      - Total number of turbines\n",
    "            turb_diam    - Diameter of the turbine (m)\n",
    "            rotate_coords- Rotated turbine coordinates\n",
    "            power_curve  - For estimating thrust coeff (C_t) \n",
    "            wind_sped    - Wind Speed (m/s)\n",
    "\n",
    "        :return\n",
    "            Velocity deficit for each turbine. returns array\n",
    "        \"\"\"\n",
    "        # turbine radius\n",
    "        turb_rad = turb_diam/2\n",
    "\n",
    "        # we use power_curve data as look up to estimate the thrust coeff.\n",
    "        # of the turbine for the corresponding closest matching wind speed\n",
    "        idx_foo  = np.argmin(np.abs(power_curve[:,0] - wind_sped))\n",
    "        C_t      = power_curve[idx_foo,1]\n",
    "\n",
    "        # Wake decay constant kw for the offshore case\n",
    "        kw = 0.05 \n",
    "\n",
    "        # velocity deficit suffered by each turbine for this particular wind instance\n",
    "        # impact_on_ibyj - placeholder to calc vel deficit from all turbs on i                 \n",
    "        impact_on_ibyj = np.zeros((n_turbs,n_turbs), dtype=np.float32) \n",
    "\n",
    "        # i - target turbine\n",
    "        for i in range(n_turbs):   \n",
    "\n",
    "            # looping over all other turbs to check their effect\n",
    "            for j in range(n_turbs):             \n",
    "\n",
    "                # Calculate the x-dist and the y-offset \n",
    "                # (wrt downwind/crosswind coordinates)\n",
    "                x = rotate_coords[i,0] - rotate_coords[j,0]   \n",
    "                y = rotate_coords[i,1] - rotate_coords[j,1]   \n",
    "\n",
    "                # Naturally, no wake effect of turbine on itself\n",
    "                if i!=j: \n",
    "\n",
    "                    # either j not an upstream turbine or wake not happening \n",
    "                    # on i because its outside of the wake region of j                    \n",
    "                    if x<=0 or np.abs(y) > (turb_rad + kw*x):  \n",
    "                        impact_on_ibyj[i,j] = 0.0\n",
    "\n",
    "                    # otherwise, at target i, wake is happening due to j\n",
    "                    else:                               \n",
    "                        impact_on_ibyj[i,j] = (1-np.sqrt(1-C_t))*((turb_rad/(turb_rad + kw*x))**2)\n",
    "\n",
    "        # Calculate Total vel deficit from all upstream turbs, using sqrt of sum of sqrs\n",
    "        sped_deficit = np.sqrt(np.sum(impact_on_ibyj**2, axis = 1))\n",
    "\n",
    "        return(sped_deficit)\n",
    "\n",
    "\n",
    "    def partAEP(n_turbs, turb_diam, turb_coords, power_curve, wind_drct, wind_sped):\n",
    "        \"\"\"\n",
    "        -**-THIS FUNCTION SHOULD NOT BE MODIFIED-**-\n",
    "\n",
    "        Returns total power produced by all the turbine for this particular \n",
    "        'wind instance' represented by wind_drct, wind_sped.\n",
    "\n",
    "        :called from\n",
    "            totalAEP\n",
    "\n",
    "        :param\n",
    "            n_turbs      - Total number of turbines\n",
    "            turb_diam    - Diameter of the turbine (m)\n",
    "            turb_coords  - 2D array turbine x,y coordinates\n",
    "            power_curve  - For estimating thrust coeff, C_t\n",
    "            wind_drct    - wind direction in degrees\n",
    "            wind_sped    - Wind Speed (m/s)\n",
    "\n",
    "        :return\n",
    "            total power produced for single wind instance  \n",
    "        \"\"\"\n",
    "        # For given wind_drct rotate coordinates to downwind/crosswind \n",
    "        rotate_coords = rotatedFrame(turb_coords, wind_drct)\n",
    "\n",
    "        # Use the jensen park wake model to calc speed deficits by wake\n",
    "        sped_deficit = jensenParkWake(n_turbs, turb_diam, rotate_coords, power_curve, wind_sped)\n",
    "\n",
    "        # Placeholder for storing power output of turbines\n",
    "        turb_pwr = np.zeros(n_turbs, dtype=np.float32)\n",
    "\n",
    "        # calculate the individual turbine power for effective wind speed\n",
    "        for i in range(n_turbs):\n",
    "\n",
    "            # Effective windspeed due to the happening wake\n",
    "            wind_sped_eff = wind_sped*(1.0 - sped_deficit[i])\n",
    "\n",
    "            # we use power_curve data as look up to estimate the power produced\n",
    "            # by the turbine for the corresponding closest matching wind speed\n",
    "            idx_foo = np.argmin(np.abs(power_curve[:,0] - wind_sped_eff))\n",
    "            pwr     = power_curve[idx_foo,2]\n",
    "\n",
    "            turb_pwr[i] = pwr\n",
    "\n",
    "        # Sum the power from all turbines for this wind instance\n",
    "        power = np.sum(turb_pwr)\n",
    "\n",
    "        return power\n",
    "\n",
    "\n",
    "    def totalAEP(turb_diam, turb_coords, power_curve, wind_inst_freq):\n",
    "        \"\"\"\n",
    "        -**-THIS FUNCTION SHOULD NOT BE MODIFIED-**-\n",
    "\n",
    "        Calculates the wind farm AEP\n",
    "\n",
    "        :called from\n",
    "            main \n",
    "\n",
    "        :param\n",
    "            turb_diam       - Diameter of the turbine (m)\n",
    "            turb_coords     - 2D array turbine euclidean coordinates\n",
    "            power_curve     - For estimating thrust coeff (C_t)\n",
    "            wind_inst_freq  - 2D array with estimated probabilities of \n",
    "                              wind instance occurence.(return from func \n",
    "                              binWindResourceData)\n",
    "\n",
    "        :return\n",
    "            wind farm AEP in Gigawatt Hours, GWh (float)\n",
    "        \"\"\"\n",
    "        # number of turbines\n",
    "        n_turbs        =   turb_coords.shape[0]\n",
    "        assert n_turbs ==  50, \"Error! Number of turbines is not 50.\"\n",
    "\n",
    "        # direction 'slices' in degrees\n",
    "        slices_drct   = np.roll(np.arange(10, 361, 10, dtype=np.float32), 1)\n",
    "        ## slices_drct   = [360, 10.0, 20.0.......340, 350]\n",
    "        n_slices_drct = slices_drct.shape[0]\n",
    "\n",
    "        # speed 'slices'\n",
    "        slices_sped   = [0.0, 2.0, 4.0, 6.0, 8.0, 10.0, 12.0, 14.0, 16.0, \n",
    "                            18.0, 20.0, 22.0, 24.0, 26.0, 28.0, 30.0]\n",
    "        n_slices_sped = len(slices_sped)-1\n",
    "\n",
    "        # Power produced by the wind farm from each wind instance\n",
    "        farm_pwr = np.zeros((wind_inst_freq.shape), dtype=np.float32)\n",
    "\n",
    "        # Looping over every wind instance and calc Power\n",
    "        # set disable=True for disabling progressbar\n",
    "        for i in tqdm(range(n_slices_drct), disable=False):\n",
    "            for j in range(n_slices_sped): \n",
    "\n",
    "                # take the mid value as effective speed\n",
    "                wind_drct =  slices_drct[i]\n",
    "                wind_sped = (slices_sped[j] + slices_sped[j+1])/2\n",
    "\n",
    "                pwr  = partAEP(n_turbs, turb_diam, turb_coords, \n",
    "                               power_curve, wind_drct, wind_sped)\n",
    "\n",
    "                farm_pwr[i,j] = pwr\n",
    "\n",
    "        # multiply the respective values with the wind instance probabilities \n",
    "        farm_pwr = wind_inst_freq * farm_pwr\n",
    "\n",
    "        # now sum all values\n",
    "        farm_pwr = np.sum(farm_pwr)\n",
    "\n",
    "        # multiply farm_pwr by hours in a year\n",
    "        year_hours = 365.*24.\n",
    "        AEP = year_hours*farm_pwr\n",
    "\n",
    "        # Convert MWh to GWh\n",
    "        AEP = AEP/1e3\n",
    "        return(AEP)\n",
    "\n",
    "\n",
    "    def checkConstraints(turb_coords, turb_diam):\n",
    "        \"\"\"\n",
    "        -**-THIS FUNCTION SHOULD NOT BE MODIFIED-**-\n",
    "\n",
    "        Checks if the turbine configuration satisfies the two\n",
    "        constraints:(i) perimeter constraint,(ii) proximity constraint \n",
    "        Prints which constraints are violated if any. Note that this \n",
    "        function does not quantifies the amount by which the constraints \n",
    "        are violated if any. \n",
    "\n",
    "        :called from\n",
    "            main \n",
    "\n",
    "        :param\n",
    "            turb_coords - 2d np array containing turbine x,y coordinates\n",
    "            turb_diam   - Diameter of the turbine (m)\n",
    "\n",
    "        :return\n",
    "            None. Prints messages.   \n",
    "        \"\"\"\n",
    "        bound_clrnc      = 50\n",
    "        prox_constr_viol = False\n",
    "        peri_constr_viol = False\n",
    "\n",
    "        # create a shapely polygon object of the wind farm\n",
    "        farm_peri = [(0, 0), (0, 4000), (4000, 4000), (4000, 0)]\n",
    "        farm_poly = Polygon(farm_peri)\n",
    "\n",
    "        # checks if for every turbine perimeter constraint is satisfied. \n",
    "        # breaks out if False anywhere\n",
    "        for turb in turb_coords:\n",
    "            turb = Point(turb)\n",
    "            inside_farm   = farm_poly.contains(turb)\n",
    "            correct_clrnc = farm_poly.boundary.distance(turb) >= bound_clrnc\n",
    "            if (inside_farm == False or correct_clrnc == False):\n",
    "                peri_constr_viol = True\n",
    "                break\n",
    "\n",
    "        # checks if for every turbines proximity constraint is satisfied. \n",
    "        # breaks out if False anywhere\n",
    "        for i,turb1 in enumerate(turb_coords):\n",
    "            for turb2 in np.delete(turb_coords, i, axis=0):\n",
    "                if  np.linalg.norm(turb1 - turb2) < 4*turb_diam:\n",
    "                    prox_constr_viol = True\n",
    "                    break\n",
    "\n",
    "        # print messages\n",
    "        if  peri_constr_viol  == True  and prox_constr_viol == True:\n",
    "              print('Somewhere both perimeter constraint and proximity constraint are violated\\n')\n",
    "        elif peri_constr_viol == True  and prox_constr_viol == False:\n",
    "              print('Somewhere perimeter constraint is violated\\n')\n",
    "        elif peri_constr_viol == False and prox_constr_viol == True:\n",
    "              print('Somewhere proximity constraint is violated\\n')\n",
    "        else: print('Both perimeter and proximity constraints are satisfied !!\\n')\n",
    "\n",
    "        return()\n",
    "\n",
    "\n",
    "    if __name__ == \"__main__\":\n",
    "\n",
    "        # Turbine Specifications.\n",
    "        # -**-SHOULD NOT BE MODIFIED-**-\n",
    "        turb_specs    =  {   \n",
    "                             'Name': 'Anon Name',\n",
    "                             'Vendor': 'Anon Vendor',\n",
    "                             'Type': 'Anon Type',\n",
    "                             'Dia (m)': 100,\n",
    "                             'Rotor Area (m2)': 7853,\n",
    "                             'Hub Height (m)': 100,\n",
    "                             'Cut-in Wind Speed (m/s)': 3.5,\n",
    "                             'Cut-out Wind Speed (m/s)': 25,\n",
    "                             'Rated Wind Speed (m/s)': 15,\n",
    "                             'Rated Power (MW)': 3\n",
    "                         }\n",
    "        turb_diam      =  turb_specs['Dia (m)']\n",
    "\n",
    "\n",
    "        # Turbine x,y coordinates\n",
    "        #turb_coords    =  getTurbLoc('Shell_Hackathon_Dataset/turbine_loc_test.csv')\n",
    "        turb_coords      =  getTurblocation(turb_loc_list)\n",
    "        # Load the power curve\n",
    "        power_curve    =  loadPowerCurve('Shell_Hackathon_Dataset/power_curve.csv')\n",
    "\n",
    "        # Pass wind data csv file location to function binWindResourceData.\n",
    "        # Retrieve probabilities of wind instance occurence.\n",
    "        #wind_inst_freq =  binWindResourceData('Shell_Hackathon_Dataset/Wind Data/wind_data_2017.csv')\n",
    "        wind_inst_freq = wind_avg()\n",
    "\n",
    "        # check if there is any constraint is violated before we do anything. Comment \n",
    "        # out the function call to checkConstraints below if you desire. Note that \n",
    "        # this is just a check and the function does not quantifies the amount by \n",
    "        # which the constraints are violated if any. \n",
    "        checkConstraints(turb_coords, turb_diam)\n",
    "\n",
    "        print('Calculating AEP......')\n",
    "        AEP = totalAEP(turb_diam, turb_coords, power_curve, wind_inst_freq) \n",
    "        print('Total power produced by the wind farm is: ', \"%.12f\"%(AEP), 'GWh')\n",
    "\n",
    "\n",
    "        return AEP"
   ]
  }
 ],
 "metadata": {
  "celltoolbar": "Raw Cell Format",
  "kernelspec": {
   "display_name": "Python 3",
   "language": "python",
   "name": "python3"
  },
  "language_info": {
   "codemirror_mode": {
    "name": "ipython",
    "version": 3
   },
   "file_extension": ".py",
   "mimetype": "text/x-python",
   "name": "python",
   "nbconvert_exporter": "python",
   "pygments_lexer": "ipython3",
   "version": "3.7.6"
  }
 },
 "nbformat": 4,
 "nbformat_minor": 4
}
