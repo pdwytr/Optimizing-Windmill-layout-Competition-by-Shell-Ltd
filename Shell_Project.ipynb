{
 "cells": [
  {
   "cell_type": "code",
   "execution_count": null,
   "metadata": {
    "id": "1AAWWKjLnraR"
   },
   "outputs": [],
   "source": [
    "import numpy as np\n",
    "import pandas as pd\n",
    "import random"
   ]
  },
  {
   "cell_type": "code",
   "execution_count": 2,
   "metadata": {},
   "outputs": [],
   "source": [
    "from AEP_calculator import get_AEP,checkConstraints"
   ]
  },
  {
   "cell_type": "code",
   "execution_count": 3,
   "metadata": {},
   "outputs": [],
   "source": [
    "from chromosome import fn_chromosome,fn_plot,fn_generate_initial_population"
   ]
  },
  {
   "cell_type": "markdown",
   "metadata": {
    "id": "QZkwidi7nraX"
   },
   "source": [
    "# Genetic Algorithm for Turbine Points Layout\n",
    "1. Gene for this problem would be x,y co-ordinates of one turbine.\n",
    "2. Chromosome would be 50 x,y co-ordinates for 50 turbines(farmLayout design).\n",
    "3. There are two constraints in this problem.They are Proximity and perimeter constraints. \n",
    "4. Total Aep Value would be calculated based on each chromosome and elite population is found.\n",
    "5. Crossover Strategy: it takes top 4 layouts provided by sample elite population function as input and randomly picks some 50 points out of them and creates one child layout and adds it to the sample elite population.so that if the child is better than the parents then it will be picked as top layout if not parents will be picked.\n",
    "6. Mutation Strategy:it takes top 4 layout provided by sample elite population function as input and selects one random layout out of the 4 layouts. from that one layout it retains 30 points and randomly generates 20 new points and adds to it to create one mutated child of 50 points and adds this child to the top 4 layouts.so if the mutated child is better than the parent it will be picked up as top layout if not our sample elite population will be retained in the next iteration.\n"
   ]
  },
  {
   "cell_type": "markdown",
   "metadata": {
    "id": "IggakwBrtLZD"
   },
   "source": [
    "# Optimization Function\n",
    "\n"
   ]
  },
  {
   "cell_type": "code",
   "execution_count": 4,
   "metadata": {
    "id": "Zu7u5qIFnrar"
   },
   "outputs": [],
   "source": [
    "turb_diam = 100"
   ]
  },
  {
   "cell_type": "markdown",
   "metadata": {
    "id": "CR0AMaMOtsV4"
   },
   "source": [
    "#Constraints"
   ]
  },
  {
   "cell_type": "markdown",
   "metadata": {
    "id": "WN9KXDIzuEDx"
   },
   "source": [
    "# Evolution"
   ]
  },
  {
   "cell_type": "markdown",
   "metadata": {
    "id": "76stxKEmuyf1"
   },
   "source": [
    "## 1.Crossover"
   ]
  },
  {
   "cell_type": "code",
   "execution_count": 5,
   "metadata": {
    "id": "93hzcoQ8nraz"
   },
   "outputs": [],
   "source": [
    "#randomly choose 50 coordinates from top 4 layouts and check if they are satisfying constraints \n",
    "def fn_crossover(layout_list):\n",
    "    layout = layout_list.copy()\n",
    "    flattened_df = pd.DataFrame(columns = ['x','y'])\n",
    "    flattened_df =pd.concat(layout_list)\n",
    "    flattened_df = flattened_df.sample(frac = 1) \n",
    "    flattened_df.reset_index(drop = True, inplace =True)\n",
    "    Xover_coords = flattened_df.to_numpy()\n",
    "    candidate_index = np.random.randint(low = 0,  high=Xover_coords.shape[0], size=1)\n",
    "    df = pd.DataFrame(index = [0],columns = ['x','y'])\n",
    "    df.loc[0] = Xover_coords[candidate_index]\n",
    "    Xover_coords = np.delete(Xover_coords, candidate_index, axis = 0)\n",
    "    \n",
    "                # checks if for every turbine perimeter constraint is satisfied. \n",
    "                # breaks out if False anywhere\n",
    "                # for turb in mutant_coords:\n",
    "                # turb = Point(turb)\n",
    "                # inside_farm   = farm_poly.contains(turb)\n",
    "                # correct_clrnc = farm_poly.boundary.distance(turb) >= bound_clrnc\n",
    "                # if (inside_farm == False or correct_clrnc == False):\n",
    "                    #peri_constr_viol = True\n",
    "                    #break\n",
    "                # checks if for every turbines proximity constraint is satisfied. \n",
    "                # breaks out if False anywhere\n",
    "                \n",
    "          \n",
    "    for i,turb1 in enumerate(Xover_coords):\n",
    "        \n",
    "        flag = 0\n",
    "        #for turb2 in np.delete(df, i, axis=0):\n",
    "        for j in range(df.shape[0]):\n",
    "            turb2 = np.array(df.iloc[j])\n",
    "            #turb2 = np.array(turb2)\n",
    "            #print(type(turb1))\n",
    "            #print(turb2)\n",
    "            if  np.linalg.norm(turb1 - turb2) < 4*turb_diam:\n",
    "                flag = 1\n",
    "                break\n",
    "                \n",
    "        if flag ==0: \n",
    "            \n",
    "            #df.loc[len(df),'x'] = turb1[0]\n",
    "            #df.loc[(len(df)-1),'y'] = turb1[1]\n",
    "            \n",
    "            df.loc[len(df)] = turb1\n",
    "            if (len(df)==50):\n",
    "                break\n",
    "            \n",
    "                #crossover_list.append(turb1)\n",
    "                \n",
    "                #    np.unique(a, axis=0)\n",
    "\n",
    "\n",
    "        \n",
    "        \n",
    "    #return df\n",
    "    #layout.append(df)\n",
    "    return df"
   ]
  },
  {
   "cell_type": "markdown",
   "metadata": {
    "id": "m_JtwE3KvDn9"
   },
   "source": [
    "## 2.Choose Elite"
   ]
  },
  {
   "cell_type": "code",
   "execution_count": 6,
   "metadata": {
    "id": "lxGcTQtpnrbK"
   },
   "outputs": [],
   "source": [
    "def fn_sample_elite(new_population,iteration_no):\n",
    "    AEP_df = pd.DataFrame(columns = ['AEP','iteration_num'])\n",
    "    \n",
    "    for i in range (len(new_population)):\n",
    "        AEP_df.loc[len(AEP_df),'iteration_num'] = iteration_no\n",
    "        AEP_df.loc[(len(AEP_df)-1),'AEP'] = get_AEP(new_population[i])\n",
    "\n",
    "     \n",
    "    elite = AEP_df['AEP'].sort_values(ascending = False).to_frame()[0:4]\n",
    "    print(elite.index)\n",
    "    global elite2\n",
    "    elite2 = AEP_df.sort_values(by = ['AEP'],ascending = False)\n",
    "    print(elite2)\n",
    "    \n",
    "    var = list(elite.index.values)\n",
    "    \n",
    "    #print(var)\n",
    "    #print(elite.index.values)\n",
    "    elite_layout = [new_population[i] for i in var]\n",
    "    print('sample elite output type is:',type(elite_layout))\n",
    "    \n",
    "    return elite_layout"
   ]
  },
  {
   "cell_type": "code",
   "execution_count": 7,
   "metadata": {
    "id": "kf-5PtzjnrbP"
   },
   "outputs": [],
   "source": [
    "mutation_probability =0.8\n",
    "number_of_chromos_in_population =15\n",
    "number_of_iterations = 25"
   ]
  },
  {
   "cell_type": "markdown",
   "metadata": {
    "id": "F0L37UKGvrDZ"
   },
   "source": [
    "## 3.Evolute"
   ]
  },
  {
   "cell_type": "code",
   "execution_count": 8,
   "metadata": {
    "id": "1nRgeYjonrbS"
   },
   "outputs": [],
   "source": [
    "def fn_evolution(elite_population_layouts,\n",
    "                  mutation_probability,number_of_chromos_in_population):\n",
    "    new_pop = pd.DataFrame(index = [0],columns=['x','y'])\n",
    "    #print(new_pop)\n",
    "    elite_layout = elite_population_layouts.copy()\n",
    "    print(\"elite_layout type is:\",type(elite_layout))\n",
    "    new_pop_iterations = 0\n",
    "    while (new_pop_iterations < number_of_chromos_in_population):\n",
    "        #print( iteration)\n",
    "        #print(\"fn_evaluation new_pop_iterations\", new_pop_iterations)\n",
    "        #new_pop_iterations += 1 \n",
    "        if np.random.random() < mutation_probability:\n",
    "            print(\"mutation started\")\n",
    "            #print(\"fn_evaluation if\")\n",
    "            # The candidate (or one of the elite portfolios) is chosen randomly for mutation.\n",
    "            candidate_id = np.random.randint(low = 0,\n",
    "                                             high=len(elite_population_layouts))\n",
    "            \n",
    "            \n",
    "            new_pop = fn_chromosome()\n",
    "            print(\"lenght of elite layout in mutation before appending is :\", len(elite_layout))\n",
    "            elite_layout.append(new_pop)\n",
    "            print(\"lenght of elite layout in mutation after appending is :\", len(elite_layout))\n",
    "            \n",
    "            \n",
    "            # We prefer to explore much more in the beginning of the search process to \n",
    "            # ensure diversity and avoid local optimum. \n",
    "            # As we progress towards the end of search process ( or iterations), \n",
    "            # we need to ensure the convergence of the population to a good solution \n",
    "            # if not the best. Hence we keep on reducing mutation probability with \n",
    "            # each iteraation\n",
    "            \n",
    "            mutation_probability = mutation_probability/(new_pop_iterations + 1)\n",
    "            print(\"mutation process is taking progress\")\n",
    "            new_pop_iterations = new_pop_iterations+1\n",
    "        else:\n",
    "              new_pop = fn_crossover(elite_population_layouts)\n",
    "              print('type of crossover output is :',type(new_pop) )\n",
    "        \n",
    "                \n",
    "              new_pop_iterations = new_pop_iterations+1\n",
    "              print(\"lenght of elite layout in cross over before appending is :\", len(elite_layout))\n",
    "              elite_layout.append(new_pop)\n",
    "              print(\"lenght of elite layout in cross over after appending is :\", len(elite_layout))\n",
    "            \n",
    "    print('type of evaluation output is :',type(elite_layout) )\n",
    "    return elite_layout"
   ]
  },
  {
   "cell_type": "markdown",
   "metadata": {
    "id": "hWtr0bnvwX_M"
   },
   "source": [
    "# Initiation of main"
   ]
  },
  {
   "cell_type": "code",
   "execution_count": 9,
   "metadata": {
    "id": "YnCfMVLfv6Y_"
   },
   "outputs": [],
   "source": [
    "def intitiate():\n",
    "\n",
    "    layout1 = pd.read_csv(\"layouts/s1.csv\")\n",
    "    layout2 = pd.read_csv(\"layouts/s2.csv\")\n",
    "    layout3 = pd.read_csv(\"layouts/s3.csv\")\n",
    "    layout4 = fn_chromosome()\n",
    "\n",
    "    return [layout1,layout2,layout3,layout4]\n"
   ]
  },
  {
   "cell_type": "code",
   "execution_count": 15,
   "metadata": {
    "id": "lwaUsJtJnrbV",
    "scrolled": true
   },
   "outputs": [
    {
     "name": "stdout",
     "output_type": "stream",
     "text": [
      "type of new population is : <class 'list'>\n",
      "Both perimeter and proximity constraints are satisfied !!\n",
      "\n",
      "Calculating AEP......\n",
      "Total power produced by the wind farm is:  520.836776733398 GWh\n",
      "Both perimeter and proximity constraints are satisfied !!\n",
      "\n",
      "Calculating AEP......\n",
      "Total power produced by the wind farm is:  519.943480224609 GWh\n",
      "Both perimeter and proximity constraints are satisfied !!\n",
      "\n",
      "Calculating AEP......\n",
      "Total power produced by the wind farm is:  520.157414245605 GWh\n",
      "Both perimeter and proximity constraints are satisfied !!\n",
      "\n",
      "Calculating AEP......\n",
      "Total power produced by the wind farm is:  521.261202850342 GWh\n",
      "Int64Index([3, 0, 2, 1], dtype='int64')\n",
      "       AEP iteration_num\n",
      "3  521.261             0\n",
      "0  520.837             0\n",
      "2  520.157             0\n",
      "1  519.943             0\n",
      "sample elite output type is: <class 'list'>\n",
      "iteration: 0\n",
      "length of new population in main function is : 4\n",
      "elite_layout type is: <class 'list'>\n",
      "type of crossover output is : <class 'pandas.core.frame.DataFrame'>\n",
      "lenght of elite layout in cross over before appending is : 4\n",
      "lenght of elite layout in cross over after appending is : 5\n",
      "mutation started\n",
      "lenght of elite layout in mutation before appending is : 5\n",
      "lenght of elite layout in mutation after appending is : 6\n",
      "mutation process is taking progress\n",
      "mutation started\n",
      "lenght of elite layout in mutation before appending is : 6\n",
      "lenght of elite layout in mutation after appending is : 7\n",
      "mutation process is taking progress\n",
      "type of crossover output is : <class 'pandas.core.frame.DataFrame'>\n",
      "lenght of elite layout in cross over before appending is : 7\n",
      "lenght of elite layout in cross over after appending is : 8\n",
      "type of crossover output is : <class 'pandas.core.frame.DataFrame'>\n",
      "lenght of elite layout in cross over before appending is : 8\n",
      "lenght of elite layout in cross over after appending is : 9\n",
      "type of crossover output is : <class 'pandas.core.frame.DataFrame'>\n",
      "lenght of elite layout in cross over before appending is : 9\n",
      "lenght of elite layout in cross over after appending is : 10\n",
      "type of crossover output is : <class 'pandas.core.frame.DataFrame'>\n",
      "lenght of elite layout in cross over before appending is : 10\n",
      "lenght of elite layout in cross over after appending is : 11\n",
      "type of crossover output is : <class 'pandas.core.frame.DataFrame'>\n",
      "lenght of elite layout in cross over before appending is : 11\n",
      "lenght of elite layout in cross over after appending is : 12\n",
      "type of crossover output is : <class 'pandas.core.frame.DataFrame'>\n",
      "lenght of elite layout in cross over before appending is : 12\n",
      "lenght of elite layout in cross over after appending is : 13\n",
      "type of crossover output is : <class 'pandas.core.frame.DataFrame'>\n",
      "lenght of elite layout in cross over before appending is : 13\n",
      "lenght of elite layout in cross over after appending is : 14\n",
      "type of crossover output is : <class 'pandas.core.frame.DataFrame'>\n",
      "lenght of elite layout in cross over before appending is : 14\n",
      "lenght of elite layout in cross over after appending is : 15\n"
     ]
    },
    {
     "ename": "KeyboardInterrupt",
     "evalue": "",
     "output_type": "error",
     "traceback": [
      "\u001b[1;31m---------------------------------------------------------------------------\u001b[0m",
      "\u001b[1;31mKeyboardInterrupt\u001b[0m                         Traceback (most recent call last)",
      "\u001b[1;32m<ipython-input-15-ee74521cc84e>\u001b[0m in \u001b[0;36m<module>\u001b[1;34m\u001b[0m\n\u001b[0;32m     15\u001b[0m         \u001b[0mprint\u001b[0m\u001b[1;33m(\u001b[0m\u001b[1;34m\"iteration:\"\u001b[0m\u001b[1;33m,\u001b[0m\u001b[0mi\u001b[0m\u001b[1;33m)\u001b[0m\u001b[1;33m\u001b[0m\u001b[1;33m\u001b[0m\u001b[0m\n\u001b[0;32m     16\u001b[0m         \u001b[0mprint\u001b[0m\u001b[1;33m(\u001b[0m\u001b[1;34m\"length of new population in main function is :\"\u001b[0m\u001b[1;33m,\u001b[0m\u001b[0mlen\u001b[0m\u001b[1;33m(\u001b[0m\u001b[0melite_population\u001b[0m\u001b[1;33m)\u001b[0m\u001b[1;33m)\u001b[0m\u001b[1;33m\u001b[0m\u001b[1;33m\u001b[0m\u001b[0m\n\u001b[1;32m---> 17\u001b[1;33m         \u001b[0mnew_population\u001b[0m \u001b[1;33m=\u001b[0m \u001b[0mfn_evolution\u001b[0m\u001b[1;33m(\u001b[0m\u001b[0melite_population\u001b[0m\u001b[1;33m,\u001b[0m\u001b[0mmutation_probability\u001b[0m\u001b[1;33m,\u001b[0m\u001b[0mnumber_of_chromos_in_population\u001b[0m\u001b[1;33m)\u001b[0m\u001b[1;33m\u001b[0m\u001b[1;33m\u001b[0m\u001b[0m\n\u001b[0m\u001b[0;32m     18\u001b[0m \u001b[1;33m\u001b[0m\u001b[0m\n\u001b[0;32m     19\u001b[0m \u001b[1;33m\u001b[0m\u001b[0m\n",
      "\u001b[1;32m<ipython-input-8-a709e5d7cab0>\u001b[0m in \u001b[0;36mfn_evolution\u001b[1;34m(elite_population_layouts, mutation_probability, number_of_chromos_in_population)\u001b[0m\n\u001b[0;32m     35\u001b[0m             \u001b[0mnew_pop_iterations\u001b[0m \u001b[1;33m=\u001b[0m \u001b[0mnew_pop_iterations\u001b[0m\u001b[1;33m+\u001b[0m\u001b[1;36m1\u001b[0m\u001b[1;33m\u001b[0m\u001b[1;33m\u001b[0m\u001b[0m\n\u001b[0;32m     36\u001b[0m         \u001b[1;32melse\u001b[0m\u001b[1;33m:\u001b[0m\u001b[1;33m\u001b[0m\u001b[1;33m\u001b[0m\u001b[0m\n\u001b[1;32m---> 37\u001b[1;33m               \u001b[0mnew_pop\u001b[0m \u001b[1;33m=\u001b[0m \u001b[0mfn_crossover\u001b[0m\u001b[1;33m(\u001b[0m\u001b[0melite_population_layouts\u001b[0m\u001b[1;33m)\u001b[0m\u001b[1;33m\u001b[0m\u001b[1;33m\u001b[0m\u001b[0m\n\u001b[0m\u001b[0;32m     38\u001b[0m               \u001b[0mprint\u001b[0m\u001b[1;33m(\u001b[0m\u001b[1;34m'type of crossover output is :'\u001b[0m\u001b[1;33m,\u001b[0m\u001b[0mtype\u001b[0m\u001b[1;33m(\u001b[0m\u001b[0mnew_pop\u001b[0m\u001b[1;33m)\u001b[0m \u001b[1;33m)\u001b[0m\u001b[1;33m\u001b[0m\u001b[1;33m\u001b[0m\u001b[0m\n\u001b[0;32m     39\u001b[0m \u001b[1;33m\u001b[0m\u001b[0m\n",
      "\u001b[1;32m<ipython-input-5-9dfdaedee8e0>\u001b[0m in \u001b[0;36mfn_crossover\u001b[1;34m(layout_list)\u001b[0m\n\u001b[0;32m     30\u001b[0m         \u001b[1;31m#for turb2 in np.delete(df, i, axis=0):\u001b[0m\u001b[1;33m\u001b[0m\u001b[1;33m\u001b[0m\u001b[1;33m\u001b[0m\u001b[0m\n\u001b[0;32m     31\u001b[0m         \u001b[1;32mfor\u001b[0m \u001b[0mj\u001b[0m \u001b[1;32min\u001b[0m \u001b[0mrange\u001b[0m\u001b[1;33m(\u001b[0m\u001b[0mdf\u001b[0m\u001b[1;33m.\u001b[0m\u001b[0mshape\u001b[0m\u001b[1;33m[\u001b[0m\u001b[1;36m0\u001b[0m\u001b[1;33m]\u001b[0m\u001b[1;33m)\u001b[0m\u001b[1;33m:\u001b[0m\u001b[1;33m\u001b[0m\u001b[1;33m\u001b[0m\u001b[0m\n\u001b[1;32m---> 32\u001b[1;33m             \u001b[0mturb2\u001b[0m \u001b[1;33m=\u001b[0m \u001b[0mnp\u001b[0m\u001b[1;33m.\u001b[0m\u001b[0marray\u001b[0m\u001b[1;33m(\u001b[0m\u001b[0mdf\u001b[0m\u001b[1;33m.\u001b[0m\u001b[0miloc\u001b[0m\u001b[1;33m[\u001b[0m\u001b[0mj\u001b[0m\u001b[1;33m]\u001b[0m\u001b[1;33m)\u001b[0m\u001b[1;33m\u001b[0m\u001b[1;33m\u001b[0m\u001b[0m\n\u001b[0m\u001b[0;32m     33\u001b[0m             \u001b[1;31m#turb2 = np.array(turb2)\u001b[0m\u001b[1;33m\u001b[0m\u001b[1;33m\u001b[0m\u001b[1;33m\u001b[0m\u001b[0m\n\u001b[0;32m     34\u001b[0m             \u001b[1;31m#print(type(turb1))\u001b[0m\u001b[1;33m\u001b[0m\u001b[1;33m\u001b[0m\u001b[1;33m\u001b[0m\u001b[0m\n",
      "\u001b[1;31mKeyboardInterrupt\u001b[0m: "
     ]
    }
   ],
   "source": [
    "if __name__==\"__main__\":\n",
    "    list_layout = fn_generate_initial_population(4)\n",
    "    \n",
    "    new_population = list_layout.copy()\n",
    "    \n",
    "\n",
    "    print(\"type of new population is :\",type(new_population))\n",
    "    \n",
    "    \n",
    "    # Run genetic algorithm for number_of_iterations times.\n",
    "    AEP_df = pd.DataFrame(columns = ['AEP','iteration_num'])\n",
    "    for i in range(number_of_iterations):\n",
    "        elite_population = fn_sample_elite(new_population,i)                                               \n",
    "        \n",
    "        print(\"iteration:\",i)\n",
    "        print(\"length of new population in main function is :\",len(elite_population))\n",
    "        new_population = fn_evolution(elite_population,mutation_probability,number_of_chromos_in_population)\n",
    "\n",
    "        \n",
    "        \n",
    "        \n",
    "\n",
    "        print_counter = i % 100\n",
    "        if print_counter == 0:\n",
    "            print(\"iteration\", i)\n",
    "\n",
    "    AEP_df = pd.DataFrame(columns = ['AEP'])\n",
    "    for k in range (len(new_population)):\n",
    "        AEP_df.loc[len(AEP_df),'AEP'] = fn_fitness_function(new_population[k])\n",
    "     \n",
    "    elite = AEP_df['AEP'].sort_values(ascending = False).to_frame()[0:1]\n",
    "    print(elite)\n",
    "    print(elite.index.values)\n",
    "    new_population = new_population[elite.index.values[0]]\n",
    "    \n",
    "\n",
    "    print(new_population)"
   ]
  },
  {
   "cell_type": "code",
   "execution_count": 11,
   "metadata": {
    "collapsed": true
   },
   "outputs": [
    {
     "name": "stdout",
     "output_type": "stream",
     "text": [
      "type of new population is : <class 'list'>\n",
      "Both perimeter and proximity constraints are satisfied !!\n",
      "\n",
      "Calculating AEP......\n",
      "Total power produced by the wind farm is:  522.764822845459 GWh\n",
      "Both perimeter and proximity constraints are satisfied !!\n",
      "\n",
      "Calculating AEP......\n",
      "Total power produced by the wind farm is:  520.466285247803 GWh\n",
      "Both perimeter and proximity constraints are satisfied !!\n",
      "\n",
      "Calculating AEP......\n",
      "Total power produced by the wind farm is:  520.154506988525 GWh\n",
      "Both perimeter and proximity constraints are satisfied !!\n",
      "\n",
      "Calculating AEP......\n",
      "Total power produced by the wind farm is:  519.789028015137 GWh\n",
      "Int64Index([0, 1, 2, 3], dtype='int64')\n",
      "       AEP iteration_num\n",
      "0  522.765             0\n",
      "1  520.466             0\n",
      "2  520.155             0\n",
      "3  519.789             0\n",
      "sample elite output type is: <class 'list'>\n",
      "iteration: 0\n",
      "length of new population in main function is : 4\n",
      "elite_layout type is: <class 'list'>\n",
      "type of crossover output is : <class 'pandas.core.frame.DataFrame'>\n",
      "lenght of elite layout in cross over before appending is : 4\n",
      "lenght of elite layout in cross over after appending is : 5\n",
      "mutation started\n",
      "lenght of elite layout in mutation before appending is : 5\n",
      "lenght of elite layout in mutation after appending is : 6\n",
      "mutation process is taking progress\n",
      "type of crossover output is : <class 'pandas.core.frame.DataFrame'>\n",
      "lenght of elite layout in cross over before appending is : 6\n",
      "lenght of elite layout in cross over after appending is : 7\n",
      "mutation started\n",
      "lenght of elite layout in mutation before appending is : 7\n",
      "lenght of elite layout in mutation after appending is : 8\n",
      "mutation process is taking progress\n",
      "type of crossover output is : <class 'pandas.core.frame.DataFrame'>\n",
      "lenght of elite layout in cross over before appending is : 8\n",
      "lenght of elite layout in cross over after appending is : 9\n",
      "type of crossover output is : <class 'pandas.core.frame.DataFrame'>\n",
      "lenght of elite layout in cross over before appending is : 9\n",
      "lenght of elite layout in cross over after appending is : 10\n",
      "type of crossover output is : <class 'pandas.core.frame.DataFrame'>\n",
      "lenght of elite layout in cross over before appending is : 10\n",
      "lenght of elite layout in cross over after appending is : 11\n",
      "mutation started\n",
      "lenght of elite layout in mutation before appending is : 11\n",
      "lenght of elite layout in mutation after appending is : 12\n",
      "mutation process is taking progress\n",
      "type of crossover output is : <class 'pandas.core.frame.DataFrame'>\n",
      "lenght of elite layout in cross over before appending is : 12\n",
      "lenght of elite layout in cross over after appending is : 13\n",
      "type of crossover output is : <class 'pandas.core.frame.DataFrame'>\n",
      "lenght of elite layout in cross over before appending is : 13\n",
      "lenght of elite layout in cross over after appending is : 14\n"
     ]
    },
    {
     "ename": "KeyboardInterrupt",
     "evalue": "",
     "output_type": "error",
     "traceback": [
      "\u001b[1;31m---------------------------------------------------------------------------\u001b[0m",
      "\u001b[1;31mKeyboardInterrupt\u001b[0m                         Traceback (most recent call last)",
      "\u001b[1;32m<ipython-input-11-d45d903d66d4>\u001b[0m in \u001b[0;36m<module>\u001b[1;34m\u001b[0m\n\u001b[1;32m----> 1\u001b[1;33m \u001b[0mk\u001b[0m \u001b[1;33m=\u001b[0m \u001b[0mfn_main\u001b[0m\u001b[1;33m(\u001b[0m\u001b[1;33m)\u001b[0m\u001b[1;33m\u001b[0m\u001b[1;33m\u001b[0m\u001b[0m\n\u001b[0m",
      "\u001b[1;32m<ipython-input-10-377de883df07>\u001b[0m in \u001b[0;36mfn_main\u001b[1;34m()\u001b[0m\n\u001b[0;32m     15\u001b[0m         \u001b[0mprint\u001b[0m\u001b[1;33m(\u001b[0m\u001b[1;34m\"iteration:\"\u001b[0m\u001b[1;33m,\u001b[0m\u001b[0mi\u001b[0m\u001b[1;33m)\u001b[0m\u001b[1;33m\u001b[0m\u001b[1;33m\u001b[0m\u001b[0m\n\u001b[0;32m     16\u001b[0m         \u001b[0mprint\u001b[0m\u001b[1;33m(\u001b[0m\u001b[1;34m\"length of new population in main function is :\"\u001b[0m\u001b[1;33m,\u001b[0m\u001b[0mlen\u001b[0m\u001b[1;33m(\u001b[0m\u001b[0melite_population\u001b[0m\u001b[1;33m)\u001b[0m\u001b[1;33m)\u001b[0m\u001b[1;33m\u001b[0m\u001b[1;33m\u001b[0m\u001b[0m\n\u001b[1;32m---> 17\u001b[1;33m         \u001b[0mnew_population\u001b[0m \u001b[1;33m=\u001b[0m \u001b[0mfn_evolution\u001b[0m\u001b[1;33m(\u001b[0m\u001b[0melite_population\u001b[0m\u001b[1;33m,\u001b[0m\u001b[0mmutation_probability\u001b[0m\u001b[1;33m,\u001b[0m\u001b[0mnumber_of_chromos_in_population\u001b[0m\u001b[1;33m)\u001b[0m\u001b[1;33m\u001b[0m\u001b[1;33m\u001b[0m\u001b[0m\n\u001b[0m\u001b[0;32m     18\u001b[0m \u001b[1;33m\u001b[0m\u001b[0m\n\u001b[0;32m     19\u001b[0m \u001b[1;33m\u001b[0m\u001b[0m\n",
      "\u001b[1;32m<ipython-input-8-a709e5d7cab0>\u001b[0m in \u001b[0;36mfn_evolution\u001b[1;34m(elite_population_layouts, mutation_probability, number_of_chromos_in_population)\u001b[0m\n\u001b[0;32m     35\u001b[0m             \u001b[0mnew_pop_iterations\u001b[0m \u001b[1;33m=\u001b[0m \u001b[0mnew_pop_iterations\u001b[0m\u001b[1;33m+\u001b[0m\u001b[1;36m1\u001b[0m\u001b[1;33m\u001b[0m\u001b[1;33m\u001b[0m\u001b[0m\n\u001b[0;32m     36\u001b[0m         \u001b[1;32melse\u001b[0m\u001b[1;33m:\u001b[0m\u001b[1;33m\u001b[0m\u001b[1;33m\u001b[0m\u001b[0m\n\u001b[1;32m---> 37\u001b[1;33m               \u001b[0mnew_pop\u001b[0m \u001b[1;33m=\u001b[0m \u001b[0mfn_crossover\u001b[0m\u001b[1;33m(\u001b[0m\u001b[0melite_population_layouts\u001b[0m\u001b[1;33m)\u001b[0m\u001b[1;33m\u001b[0m\u001b[1;33m\u001b[0m\u001b[0m\n\u001b[0m\u001b[0;32m     38\u001b[0m               \u001b[0mprint\u001b[0m\u001b[1;33m(\u001b[0m\u001b[1;34m'type of crossover output is :'\u001b[0m\u001b[1;33m,\u001b[0m\u001b[0mtype\u001b[0m\u001b[1;33m(\u001b[0m\u001b[0mnew_pop\u001b[0m\u001b[1;33m)\u001b[0m \u001b[1;33m)\u001b[0m\u001b[1;33m\u001b[0m\u001b[1;33m\u001b[0m\u001b[0m\n\u001b[0;32m     39\u001b[0m \u001b[1;33m\u001b[0m\u001b[0m\n",
      "\u001b[1;32m<ipython-input-5-9dfdaedee8e0>\u001b[0m in \u001b[0;36mfn_crossover\u001b[1;34m(layout_list)\u001b[0m\n\u001b[0;32m     30\u001b[0m         \u001b[1;31m#for turb2 in np.delete(df, i, axis=0):\u001b[0m\u001b[1;33m\u001b[0m\u001b[1;33m\u001b[0m\u001b[1;33m\u001b[0m\u001b[0m\n\u001b[0;32m     31\u001b[0m         \u001b[1;32mfor\u001b[0m \u001b[0mj\u001b[0m \u001b[1;32min\u001b[0m \u001b[0mrange\u001b[0m\u001b[1;33m(\u001b[0m\u001b[0mdf\u001b[0m\u001b[1;33m.\u001b[0m\u001b[0mshape\u001b[0m\u001b[1;33m[\u001b[0m\u001b[1;36m0\u001b[0m\u001b[1;33m]\u001b[0m\u001b[1;33m)\u001b[0m\u001b[1;33m:\u001b[0m\u001b[1;33m\u001b[0m\u001b[1;33m\u001b[0m\u001b[0m\n\u001b[1;32m---> 32\u001b[1;33m             \u001b[0mturb2\u001b[0m \u001b[1;33m=\u001b[0m \u001b[0mnp\u001b[0m\u001b[1;33m.\u001b[0m\u001b[0marray\u001b[0m\u001b[1;33m(\u001b[0m\u001b[0mdf\u001b[0m\u001b[1;33m.\u001b[0m\u001b[0miloc\u001b[0m\u001b[1;33m[\u001b[0m\u001b[0mj\u001b[0m\u001b[1;33m]\u001b[0m\u001b[1;33m)\u001b[0m\u001b[1;33m\u001b[0m\u001b[1;33m\u001b[0m\u001b[0m\n\u001b[0m\u001b[0;32m     33\u001b[0m             \u001b[1;31m#turb2 = np.array(turb2)\u001b[0m\u001b[1;33m\u001b[0m\u001b[1;33m\u001b[0m\u001b[1;33m\u001b[0m\u001b[0m\n\u001b[0;32m     34\u001b[0m             \u001b[1;31m#print(type(turb1))\u001b[0m\u001b[1;33m\u001b[0m\u001b[1;33m\u001b[0m\u001b[1;33m\u001b[0m\u001b[0m\n",
      "\u001b[1;31mKeyboardInterrupt\u001b[0m: "
     ]
    }
   ],
   "source": [
    "k = fn_main()"
   ]
  },
  {
   "cell_type": "code",
   "execution_count": null,
   "metadata": {},
   "outputs": [],
   "source": [
    "fn_plot(a)"
   ]
  },
  {
   "cell_type": "code",
   "execution_count": null,
   "metadata": {
    "colab": {
     "base_uri": "https://localhost:8080/",
     "height": 1000
    },
    "id": "japp0jzxnrbX",
    "outputId": "f7957a06-30f0-4a63-9918-a9f65790f5b8",
    "scrolled": false
   },
   "outputs": [],
   "source": [
    "a = pd.read_csv('submissionk4.csv')"
   ]
  },
  {
   "cell_type": "markdown",
   "metadata": {
    "id": "1CxJssn7nrbq"
   },
   "source": [
    "# Submission"
   ]
  },
  {
   "cell_type": "code",
   "execution_count": null,
   "metadata": {
    "id": "AF4XRrQOnrbr"
   },
   "outputs": [],
   "source": [
    "k.to_csv(\"submission.csv\",index=False)"
   ]
  },
  {
   "cell_type": "code",
   "execution_count": null,
   "metadata": {},
   "outputs": [],
   "source": []
  }
 ],
 "metadata": {
  "celltoolbar": "Raw Cell Format",
  "colab": {
   "collapsed_sections": [
    "76stxKEmuyf1"
   ],
   "name": "Shell Project.ipynb",
   "provenance": [],
   "toc_visible": true
  },
  "kernelspec": {
   "display_name": "Python 3",
   "language": "python",
   "name": "python3"
  },
  "language_info": {
   "codemirror_mode": {
    "name": "ipython",
    "version": 3
   },
   "file_extension": ".py",
   "mimetype": "text/x-python",
   "name": "python",
   "nbconvert_exporter": "python",
   "pygments_lexer": "ipython3",
   "version": "3.7.6"
  }
 },
 "nbformat": 4,
 "nbformat_minor": 1
}
